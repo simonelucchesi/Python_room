{
 "cells": [
  {
   "cell_type": "markdown",
   "metadata": {},
   "source": [
    "## Python Room N°2  \n",
    "\n",
    "**Collaboratore: Lucchesi Simone Luca**\n",
    "\n",
    "**Collaboratore: Petroiu Georgiana Maria**"
   ]
  },
  {
   "cell_type": "markdown",
   "metadata": {},
   "source": [
    "<img src=\"../Images/SFClub_Siena.png\" width=\"150\">"
   ]
  },
  {
   "cell_type": "markdown",
   "metadata": {},
   "source": [
    "# **INDICE**\n",
    "\n",
    "\n",
    "[**1)**](#1) **Approfondimento sui principali _\"packages\"_.**\n",
    "\n",
    "   - [1.1)](#1.1) **Numpy** \n",
    "   \n",
    "   \n",
    "   - [1.2)](#1.2) **Pandas** \n",
    "   \n",
    "   \n",
    "   - [1.3)](#1.3) **Matplotlib** \n",
    "   \n",
    "   \n",
    "[**2)**](#2) **Applicazione N°1: Regressione lineare semplice in poche righe** \n",
    "\n",
    "\n",
    "[**3)**](#3) **Apllicazione N°2: Semplice simulazione MonteCarlo e applicazione del teorema del limite centrale.** \n",
    "\n",
    "  "
   ]
  },
  {
   "cell_type": "markdown",
   "metadata": {},
   "source": [
    "---"
   ]
  },
  {
   "cell_type": "markdown",
   "metadata": {},
   "source": [
    "## 1) Approfondimento sui principali pacchetti <a name =\"1\"></a>"
   ]
  },
  {
   "cell_type": "markdown",
   "metadata": {},
   "source": [
    "Dopo aver già anticipato il concetto di _modulo_ e _libreria (o pacchetto)_ andiamo adesso ad analizzare alcuni pilastri portanti del già citato _Python scientific stack:_ in ordine **Numpy**, **Pandas** e **Matplotlib**. \n",
    "\n",
    "Questi pacchetti, come detto una struttura gerarchizzata contenente più moduli, consentono di estendere la _Python standard library_ andando a fornire importanti tools dal grande utilizzo in campo economico-finanziario. "
   ]
  },
  {
   "cell_type": "markdown",
   "metadata": {},
   "source": [
    "### 1.1) Numpy <a name=\"1.1\"></a>"
   ]
  },
  {
   "cell_type": "markdown",
   "metadata": {},
   "source": [
    "<img src=\"../Images/Numpy_logo.png\" width=\"600\">"
   ]
  },
  {
   "cell_type": "markdown",
   "metadata": {},
   "source": [
    "DA AGGIUNGERE"
   ]
  },
  {
   "cell_type": "markdown",
   "metadata": {},
   "source": [
    "### 1.2) Pandas <a name=\"1.2\"></a>"
   ]
  },
  {
   "cell_type": "markdown",
   "metadata": {},
   "source": [
    "<img src=\"../Images/Pandas_logo.png\" width=\"500\">"
   ]
  },
  {
   "cell_type": "markdown",
   "metadata": {},
   "source": [
    "La libreria _pandas_ [(qui il link per la documebntazione)](https://pandas.pydata.org/docs/) altri non è che un potentissimo supporto, utile per la collezione e manipolazione di dati. \n",
    "\n",
    "In particolare, questo _package_ è in grado di fornirci due principali _data structures_ che ci consentono di lavorare facilmente con singole serie (tipicamente temporali) di dati e/o _dati tabulari_ che si presentano organizzati in colonne. \n",
    "\n",
    "Da evidenziare come questo strumento, oltre a fornire queste _structure_ e una varietà di classi e funzioni utili per questi scopi sia in grado di avvalersi di alcune importanti funzionalità presenti in altre librerie (come detto vi è ricca sinergia con il modulo _matplotlib)_. \n",
    "\n",
    "Come detto Pandas ci permette di avvalerci di due utili strutture di dati, per la precisione: \n",
    "\n",
    "1) **DataFrame**: questo oggetto _(DataFrame class)_ è comunemente definito come una multi-dimensionale, con dimensione modificabile, potenzialmente eterogeneo struttura per la raccolta di dati tabulari, organizzati secondo colonne (\"etichettate\"). In altre parole, questi oggetti consentono l'utente di lavorare con dati che si presentano nel tipico formato da foglio elettronico. \n",
    "\n",
    "2) **Series**: questo oggetto _(Series class)_ rappresenta una specificazione del modello più generico visto sopra. In altre parole possiamo definire questa struttura come un DataFrame che si presenta con una singola colonna (oltre a come vedremo la colonna degli indici) di dati. Per questa ragione, tale classe fornisce ottime funzionalità per lavorare ed analizzare _serie temporali_. \n",
    "\n",
    "Proprio per quanto sopra riportato e per semplicità ci focalizzeremo esclusivamente sulla prima classe, ricordando che gran parte di quanto vedremo potrà essere applicato anche alla struttura dati _Series_. "
   ]
  },
  {
   "cell_type": "markdown",
   "metadata": {},
   "source": [
    "### Dataframe "
   ]
  },
  {
   "cell_type": "markdown",
   "metadata": {},
   "source": [
    "Potendo definire con sinonimi, Un _Pandas Dataframe_ è un oggetto disegnato per gestire **dati tabulari**, organizzati secondo colonne (con specifico nome, etichetta). Per di più esso si presenta con una **flessibile indicizzazione** per le righe del dataset osservato che potrà essere eseguito attraverso l'uso di semplici numeri cardinali o date, ad esempio. \n",
    "\n",
    "Riassumendo, _dati_ **indicizzati** e **etichettati**. \n",
    "\n",
    "Andremo a coprire alcuni aspetti principali di questa classe di oggetti, estremamente potente e complessa. "
   ]
  },
  {
   "cell_type": "markdown",
   "metadata": {},
   "source": [
    "**1) Creazione di un DataFrame**"
   ]
  },
  {
   "cell_type": "markdown",
   "metadata": {},
   "source": [
    "In primo luogo importiamo, secondo la classica procedura il modulo Pandas, rinominandolo nella seguente maniera: "
   ]
  },
  {
   "cell_type": "code",
   "execution_count": 1,
   "metadata": {},
   "outputs": [],
   "source": [
    "import pandas as pd "
   ]
  },
  {
   "cell_type": "markdown",
   "metadata": {},
   "source": [
    "Per essere precisi, un DataFrame può essere creato nelle seguenti maniere:\n",
    "\n",
    "\n",
    "**A)** Creando manualmente i dataset e implementandoli successivamente in un dataframe. \n",
    "\n",
    "**B)** Importandolo direttamente da un file esistente (tipicamente in formato _.csv_ o _.xlsx)_."
   ]
  },
  {
   "cell_type": "markdown",
   "metadata": {},
   "source": [
    "**A) Creazione manuale, qualche esempio**"
   ]
  },
  {
   "cell_type": "markdown",
   "metadata": {},
   "source": [
    "In questo esempi che si propongono di essere esaustivi, presenteremo qualche modalità di creazione di un _pandas.DataFrame_ . In particolare partiremo dal _constructor_ : \n",
    "\n",
    "_DataFrame_ = `pd.DataFrame(data [, index, columns])` \n",
    "\n",
    "Dove, \n",
    "\n",
    "- `data` = i dati che saranno contenuto della nostra struttura. In particolare potranno essere, per quanto concerne la creazione di _pd.DataFrame_ (e non _pd.Series)_ _Dictionaries_ e _NumPy.Array (N-dimensionali)_ o strutture simili come _Lists_. \n",
    "\n",
    "- `index` (opzionale) = la colonna indice del nostro DataFrame. Essa può essere una lista ad esempio, se non fornita di default sarà data da una serie numerica del tipo (0,1,...n-1) con n il numero di osservazioni. \n",
    "\n",
    "- `columns` (opzionale) = Una lista delle etichette per le colonne del nostro DataFrame,di nuovo se non fornita sarà data di default da una serie numerica del tipo (0,1,...m-1) con _m_ il numero di colonne della nostra struttura. \n",
    "\n",
    "Il nostro _workaround_ sarà il seguente: \n",
    "\n",
    "**1)** Creazione di una struttura molto snella e semplice, senza dettagli. Provvederemo a fornire _ex-post_ delle modifiche. \n",
    "\n",
    "**2)** Creazione di una struttura più articolata partendo da un _n x m_ NumPy.Array senza detagli Provvederemo a fornire _ex-post_ delle modifiche. \n",
    "\n",
    "**3)** Creazione di una struttura articolata partendo da un _dictionary_ ben strutturato. "
   ]
  },
  {
   "cell_type": "code",
   "execution_count": 17,
   "metadata": {},
   "outputs": [
    {
     "data": {
      "text/plain": [
       "[[1, 1, 1], [2, 4, 8], [3, 9, 27], [4, 16, 64], [5, 25, 125]]"
      ]
     },
     "execution_count": 17,
     "metadata": {},
     "output_type": "execute_result"
    }
   ],
   "source": [
    "my_data = [[i**j for j in range(1,4)] for i in range(1,6)] #Nested list: una lista con 3 liste che può essere visualizzata\n",
    "\n",
    "#come matrice 5 x 3\n",
    "\n",
    "my_data"
   ]
  },
  {
   "cell_type": "code",
   "execution_count": 18,
   "metadata": {},
   "outputs": [],
   "source": [
    "my_df = pd.DataFrame(data = my_data) #No index, No columns, ho solo inserito un insieme di dati dando origine \n",
    "#a un dataframe di dimensione 5 x 3."
   ]
  },
  {
   "cell_type": "code",
   "execution_count": 19,
   "metadata": {},
   "outputs": [
    {
     "data": {
      "text/html": [
       "<div>\n",
       "<style scoped>\n",
       "    .dataframe tbody tr th:only-of-type {\n",
       "        vertical-align: middle;\n",
       "    }\n",
       "\n",
       "    .dataframe tbody tr th {\n",
       "        vertical-align: top;\n",
       "    }\n",
       "\n",
       "    .dataframe thead th {\n",
       "        text-align: right;\n",
       "    }\n",
       "</style>\n",
       "<table border=\"1\" class=\"dataframe\">\n",
       "  <thead>\n",
       "    <tr style=\"text-align: right;\">\n",
       "      <th></th>\n",
       "      <th>0</th>\n",
       "      <th>1</th>\n",
       "      <th>2</th>\n",
       "    </tr>\n",
       "  </thead>\n",
       "  <tbody>\n",
       "    <tr>\n",
       "      <td>0</td>\n",
       "      <td>1</td>\n",
       "      <td>1</td>\n",
       "      <td>1</td>\n",
       "    </tr>\n",
       "    <tr>\n",
       "      <td>1</td>\n",
       "      <td>2</td>\n",
       "      <td>4</td>\n",
       "      <td>8</td>\n",
       "    </tr>\n",
       "    <tr>\n",
       "      <td>2</td>\n",
       "      <td>3</td>\n",
       "      <td>9</td>\n",
       "      <td>27</td>\n",
       "    </tr>\n",
       "    <tr>\n",
       "      <td>3</td>\n",
       "      <td>4</td>\n",
       "      <td>16</td>\n",
       "      <td>64</td>\n",
       "    </tr>\n",
       "    <tr>\n",
       "      <td>4</td>\n",
       "      <td>5</td>\n",
       "      <td>25</td>\n",
       "      <td>125</td>\n",
       "    </tr>\n",
       "  </tbody>\n",
       "</table>\n",
       "</div>"
      ],
      "text/plain": [
       "   0   1    2\n",
       "0  1   1    1\n",
       "1  2   4    8\n",
       "2  3   9   27\n",
       "3  4  16   64\n",
       "4  5  25  125"
      ]
     },
     "execution_count": 19,
     "metadata": {},
     "output_type": "execute_result"
    }
   ],
   "source": [
    "my_df"
   ]
  },
  {
   "cell_type": "code",
   "execution_count": 20,
   "metadata": {},
   "outputs": [
    {
     "data": {
      "text/plain": [
       "pandas.core.frame.DataFrame"
      ]
     },
     "execution_count": 20,
     "metadata": {},
     "output_type": "execute_result"
    }
   ],
   "source": [
    "type(my_df) #Il tipo di questo oggetto "
   ]
  },
  {
   "cell_type": "markdown",
   "metadata": {},
   "source": [
    "Come possiamo notare, abbiamo una colonna default di indici e delle etichette fornite dal sistema per ogni colonna. Come vedremo, questo è in grado di fornirci degli _insights_ per l'_indexing_ di tali strutture, dal momento che come le altre data structures è sempre possibile selezionare degli elementi precisi all'interno."
   ]
  },
  {
   "cell_type": "markdown",
   "metadata": {},
   "source": [
    "Vediamo adesso alcune caratteristiche e _attributi_ impliciti in ogni struttura analizzando il tutto uno ad uno: \n",
    "\n",
    "- `.size` = questo attributo ci dice il numero totale degli elementi, dati, contenuti nella struttura. Esso sarà dato dal prodotto _n x m_. \n",
    "\n",
    "\n",
    "- `.shape` = questo attributo ci fornisce una _tuple_ con la forma (numero di righe e colonne)della struttura analizzata. Nello specifico: (n,m).  \n",
    "\n",
    "\n",
    "- `.dtypes` = questo attributo specifica il data-type degli oggetti contenuti in ogni singola e differente colonna. Infatti, una specificità dei DataFrame è che ogni singola colonna può essere composta da valori con data-type differenti. \n",
    "\n",
    "\n",
    "- `.index` = questo attributo ci consente di accedere direttamente alla sequenza degli indici (in questo esempio fornita di default). \n",
    "\n",
    "\n",
    "- `.columns` = questo attributo ci consente di accedere direttamente alla sequenza delle colonne (in questo esempio fornita di default). Questo attributo, come il precedente ci sarà molto utile per modificare ex-post queste caratteristiche. \n",
    "\n",
    "\n",
    "- `.values` = questo attributo ci consente di ottenere/accedere ai valori inseriti all'interno della struttura senza la colonna indice (N.B. quanto generato è di tipo NumPy.array)."
   ]
  },
  {
   "cell_type": "code",
   "execution_count": 21,
   "metadata": {},
   "outputs": [
    {
     "data": {
      "text/plain": [
       "15"
      ]
     },
     "execution_count": 21,
     "metadata": {},
     "output_type": "execute_result"
    }
   ],
   "source": [
    "my_df.size # 5 x 3"
   ]
  },
  {
   "cell_type": "code",
   "execution_count": 22,
   "metadata": {},
   "outputs": [
    {
     "data": {
      "text/plain": [
       "(5, 3)"
      ]
     },
     "execution_count": 22,
     "metadata": {},
     "output_type": "execute_result"
    }
   ],
   "source": [
    "my_df.shape"
   ]
  },
  {
   "cell_type": "code",
   "execution_count": 23,
   "metadata": {},
   "outputs": [
    {
     "data": {
      "text/plain": [
       "0    int64\n",
       "1    int64\n",
       "2    int64\n",
       "dtype: object"
      ]
     },
     "execution_count": 23,
     "metadata": {},
     "output_type": "execute_result"
    }
   ],
   "source": [
    "my_df.dtypes"
   ]
  },
  {
   "cell_type": "code",
   "execution_count": 24,
   "metadata": {},
   "outputs": [
    {
     "data": {
      "text/plain": [
       "RangeIndex(start=0, stop=5, step=1)"
      ]
     },
     "execution_count": 24,
     "metadata": {},
     "output_type": "execute_result"
    }
   ],
   "source": [
    "my_df.index"
   ]
  },
  {
   "cell_type": "code",
   "execution_count": 25,
   "metadata": {},
   "outputs": [
    {
     "data": {
      "text/plain": [
       "RangeIndex(start=0, stop=3, step=1)"
      ]
     },
     "execution_count": 25,
     "metadata": {},
     "output_type": "execute_result"
    }
   ],
   "source": [
    "my_df.columns"
   ]
  },
  {
   "cell_type": "code",
   "execution_count": 26,
   "metadata": {},
   "outputs": [
    {
     "data": {
      "text/plain": [
       "array([[  1,   1,   1],\n",
       "       [  2,   4,   8],\n",
       "       [  3,   9,  27],\n",
       "       [  4,  16,  64],\n",
       "       [  5,  25, 125]], dtype=int64)"
      ]
     },
     "execution_count": 26,
     "metadata": {},
     "output_type": "execute_result"
    }
   ],
   "source": [
    "my_df.values\n",
    "\n",
    "#my_df.values"
   ]
  },
  {
   "cell_type": "code",
   "execution_count": 29,
   "metadata": {},
   "outputs": [
    {
     "data": {
      "text/html": [
       "<div>\n",
       "<style scoped>\n",
       "    .dataframe tbody tr th:only-of-type {\n",
       "        vertical-align: middle;\n",
       "    }\n",
       "\n",
       "    .dataframe tbody tr th {\n",
       "        vertical-align: top;\n",
       "    }\n",
       "\n",
       "    .dataframe thead th {\n",
       "        text-align: right;\n",
       "    }\n",
       "</style>\n",
       "<table border=\"1\" class=\"dataframe\">\n",
       "  <thead>\n",
       "    <tr style=\"text-align: right;\">\n",
       "      <th></th>\n",
       "      <th>0</th>\n",
       "      <th>1</th>\n",
       "      <th>2</th>\n",
       "    </tr>\n",
       "  </thead>\n",
       "  <tbody>\n",
       "    <tr>\n",
       "      <td>Obs1</td>\n",
       "      <td>1</td>\n",
       "      <td>1</td>\n",
       "      <td>1</td>\n",
       "    </tr>\n",
       "    <tr>\n",
       "      <td>Obs2</td>\n",
       "      <td>2</td>\n",
       "      <td>4</td>\n",
       "      <td>8</td>\n",
       "    </tr>\n",
       "    <tr>\n",
       "      <td>Obs3</td>\n",
       "      <td>3</td>\n",
       "      <td>9</td>\n",
       "      <td>27</td>\n",
       "    </tr>\n",
       "    <tr>\n",
       "      <td>Obs4</td>\n",
       "      <td>4</td>\n",
       "      <td>16</td>\n",
       "      <td>64</td>\n",
       "    </tr>\n",
       "    <tr>\n",
       "      <td>Obs5</td>\n",
       "      <td>5</td>\n",
       "      <td>25</td>\n",
       "      <td>125</td>\n",
       "    </tr>\n",
       "  </tbody>\n",
       "</table>\n",
       "</div>"
      ],
      "text/plain": [
       "      0   1    2\n",
       "Obs1  1   1    1\n",
       "Obs2  2   4    8\n",
       "Obs3  3   9   27\n",
       "Obs4  4  16   64\n",
       "Obs5  5  25  125"
      ]
     },
     "execution_count": 29,
     "metadata": {},
     "output_type": "execute_result"
    }
   ],
   "source": [
    "my_df.index = [\"Obs1\", \"Obs2\", \"Obs3\", \"Obs4\", \"Obs5\"] #Modifico l'indice con delle strings n = 5\n",
    "my_df"
   ]
  },
  {
   "cell_type": "code",
   "execution_count": 31,
   "metadata": {},
   "outputs": [
    {
     "data": {
      "text/html": [
       "<div>\n",
       "<style scoped>\n",
       "    .dataframe tbody tr th:only-of-type {\n",
       "        vertical-align: middle;\n",
       "    }\n",
       "\n",
       "    .dataframe tbody tr th {\n",
       "        vertical-align: top;\n",
       "    }\n",
       "\n",
       "    .dataframe thead th {\n",
       "        text-align: right;\n",
       "    }\n",
       "</style>\n",
       "<table border=\"1\" class=\"dataframe\">\n",
       "  <thead>\n",
       "    <tr style=\"text-align: right;\">\n",
       "      <th></th>\n",
       "      <th>X^1</th>\n",
       "      <th>X^2</th>\n",
       "      <th>X^3</th>\n",
       "    </tr>\n",
       "  </thead>\n",
       "  <tbody>\n",
       "    <tr>\n",
       "      <td>Obs1</td>\n",
       "      <td>1</td>\n",
       "      <td>1</td>\n",
       "      <td>1</td>\n",
       "    </tr>\n",
       "    <tr>\n",
       "      <td>Obs2</td>\n",
       "      <td>2</td>\n",
       "      <td>4</td>\n",
       "      <td>8</td>\n",
       "    </tr>\n",
       "    <tr>\n",
       "      <td>Obs3</td>\n",
       "      <td>3</td>\n",
       "      <td>9</td>\n",
       "      <td>27</td>\n",
       "    </tr>\n",
       "    <tr>\n",
       "      <td>Obs4</td>\n",
       "      <td>4</td>\n",
       "      <td>16</td>\n",
       "      <td>64</td>\n",
       "    </tr>\n",
       "    <tr>\n",
       "      <td>Obs5</td>\n",
       "      <td>5</td>\n",
       "      <td>25</td>\n",
       "      <td>125</td>\n",
       "    </tr>\n",
       "  </tbody>\n",
       "</table>\n",
       "</div>"
      ],
      "text/plain": [
       "      X^1  X^2  X^3\n",
       "Obs1    1    1    1\n",
       "Obs2    2    4    8\n",
       "Obs3    3    9   27\n",
       "Obs4    4   16   64\n",
       "Obs5    5   25  125"
      ]
     },
     "execution_count": 31,
     "metadata": {},
     "output_type": "execute_result"
    }
   ],
   "source": [
    "my_df.columns = [\"X^1\", \"X^2\",\"X^3\"] #Modifico le etichette per le colonne, m = 3\n",
    "my_df"
   ]
  },
  {
   "cell_type": "markdown",
   "metadata": {},
   "source": [
    "Quanto fatto step by step può essere direttamente implementato nel precedente constructor: "
   ]
  },
  {
   "cell_type": "code",
   "execution_count": 33,
   "metadata": {},
   "outputs": [
    {
     "data": {
      "text/html": [
       "<div>\n",
       "<style scoped>\n",
       "    .dataframe tbody tr th:only-of-type {\n",
       "        vertical-align: middle;\n",
       "    }\n",
       "\n",
       "    .dataframe tbody tr th {\n",
       "        vertical-align: top;\n",
       "    }\n",
       "\n",
       "    .dataframe thead th {\n",
       "        text-align: right;\n",
       "    }\n",
       "</style>\n",
       "<table border=\"1\" class=\"dataframe\">\n",
       "  <thead>\n",
       "    <tr style=\"text-align: right;\">\n",
       "      <th></th>\n",
       "      <th>X^1</th>\n",
       "      <th>X^2</th>\n",
       "      <th>X^3</th>\n",
       "    </tr>\n",
       "  </thead>\n",
       "  <tbody>\n",
       "    <tr>\n",
       "      <td>Obs1</td>\n",
       "      <td>1</td>\n",
       "      <td>1</td>\n",
       "      <td>1</td>\n",
       "    </tr>\n",
       "    <tr>\n",
       "      <td>Obs2</td>\n",
       "      <td>2</td>\n",
       "      <td>4</td>\n",
       "      <td>8</td>\n",
       "    </tr>\n",
       "    <tr>\n",
       "      <td>Obs3</td>\n",
       "      <td>3</td>\n",
       "      <td>9</td>\n",
       "      <td>27</td>\n",
       "    </tr>\n",
       "    <tr>\n",
       "      <td>Obs4</td>\n",
       "      <td>4</td>\n",
       "      <td>16</td>\n",
       "      <td>64</td>\n",
       "    </tr>\n",
       "    <tr>\n",
       "      <td>Obs5</td>\n",
       "      <td>5</td>\n",
       "      <td>25</td>\n",
       "      <td>125</td>\n",
       "    </tr>\n",
       "  </tbody>\n",
       "</table>\n",
       "</div>"
      ],
      "text/plain": [
       "      X^1  X^2  X^3\n",
       "Obs1    1    1    1\n",
       "Obs2    2    4    8\n",
       "Obs3    3    9   27\n",
       "Obs4    4   16   64\n",
       "Obs5    5   25  125"
      ]
     },
     "execution_count": 33,
     "metadata": {},
     "output_type": "execute_result"
    }
   ],
   "source": [
    "new_df = pd.DataFrame(data = my_data,\n",
    "                      index = [\"Obs1\", \"Obs2\", \"Obs3\", \"Obs4\", \"Obs5\"],\n",
    "                     columns = [\"X^1\", \"X^2\",\"X^3\"])\n",
    "new_df"
   ]
  },
  {
   "cell_type": "markdown",
   "metadata": {},
   "source": [
    "Come già anticipato, è possibile passare un _dictionary_ all'interno del constructor, proviamo a implementare la medesima struttura di dati: "
   ]
  },
  {
   "cell_type": "code",
   "execution_count": 35,
   "metadata": {},
   "outputs": [
    {
     "data": {
      "text/plain": [
       "{'X^1': [0, 3, 2, 5, 4], 'X^2': [3, 0, 1, 6, 7], 'X^3': [2, 1, 0, 7, 6]}"
      ]
     },
     "execution_count": 35,
     "metadata": {},
     "output_type": "execute_result"
    }
   ],
   "source": [
    "my_dict = {\"X^1\": [i^1 for i in range(1,6)], \n",
    "          \"X^2\": [i^2 for i in range(1,6)],\n",
    "          \"X^3\": [i^3 for i in range(1,6)]}\n",
    "\n",
    "my_dict"
   ]
  },
  {
   "cell_type": "code",
   "execution_count": 38,
   "metadata": {},
   "outputs": [
    {
     "data": {
      "text/html": [
       "<div>\n",
       "<style scoped>\n",
       "    .dataframe tbody tr th:only-of-type {\n",
       "        vertical-align: middle;\n",
       "    }\n",
       "\n",
       "    .dataframe tbody tr th {\n",
       "        vertical-align: top;\n",
       "    }\n",
       "\n",
       "    .dataframe thead th {\n",
       "        text-align: right;\n",
       "    }\n",
       "</style>\n",
       "<table border=\"1\" class=\"dataframe\">\n",
       "  <thead>\n",
       "    <tr style=\"text-align: right;\">\n",
       "      <th></th>\n",
       "      <th>X^1</th>\n",
       "      <th>X^2</th>\n",
       "      <th>X^3</th>\n",
       "    </tr>\n",
       "  </thead>\n",
       "  <tbody>\n",
       "    <tr>\n",
       "      <td>0</td>\n",
       "      <td>0</td>\n",
       "      <td>3</td>\n",
       "      <td>2</td>\n",
       "    </tr>\n",
       "    <tr>\n",
       "      <td>1</td>\n",
       "      <td>3</td>\n",
       "      <td>0</td>\n",
       "      <td>1</td>\n",
       "    </tr>\n",
       "    <tr>\n",
       "      <td>2</td>\n",
       "      <td>2</td>\n",
       "      <td>1</td>\n",
       "      <td>0</td>\n",
       "    </tr>\n",
       "    <tr>\n",
       "      <td>3</td>\n",
       "      <td>5</td>\n",
       "      <td>6</td>\n",
       "      <td>7</td>\n",
       "    </tr>\n",
       "    <tr>\n",
       "      <td>4</td>\n",
       "      <td>4</td>\n",
       "      <td>7</td>\n",
       "      <td>6</td>\n",
       "    </tr>\n",
       "  </tbody>\n",
       "</table>\n",
       "</div>"
      ],
      "text/plain": [
       "   X^1  X^2  X^3\n",
       "0    0    3    2\n",
       "1    3    0    1\n",
       "2    2    1    0\n",
       "3    5    6    7\n",
       "4    4    7    6"
      ]
     },
     "execution_count": 38,
     "metadata": {},
     "output_type": "execute_result"
    }
   ],
   "source": [
    "df_dict = pd.DataFrame(data = my_dict) \n",
    "df_dict #Da notare come in questo caso le colonne siano direttamente etichettate con le keys del nostro dictionary"
   ]
  },
  {
   "cell_type": "code",
   "execution_count": 41,
   "metadata": {},
   "outputs": [
    {
     "data": {
      "text/html": [
       "<div>\n",
       "<style scoped>\n",
       "    .dataframe tbody tr th:only-of-type {\n",
       "        vertical-align: middle;\n",
       "    }\n",
       "\n",
       "    .dataframe tbody tr th {\n",
       "        vertical-align: top;\n",
       "    }\n",
       "\n",
       "    .dataframe thead th {\n",
       "        text-align: right;\n",
       "    }\n",
       "</style>\n",
       "<table border=\"1\" class=\"dataframe\">\n",
       "  <thead>\n",
       "    <tr style=\"text-align: right;\">\n",
       "      <th></th>\n",
       "      <th>X^1</th>\n",
       "      <th>X^2</th>\n",
       "      <th>X^3</th>\n",
       "    </tr>\n",
       "  </thead>\n",
       "  <tbody>\n",
       "    <tr>\n",
       "      <td>Obs1</td>\n",
       "      <td>0</td>\n",
       "      <td>3</td>\n",
       "      <td>2</td>\n",
       "    </tr>\n",
       "    <tr>\n",
       "      <td>Obs2</td>\n",
       "      <td>3</td>\n",
       "      <td>0</td>\n",
       "      <td>1</td>\n",
       "    </tr>\n",
       "    <tr>\n",
       "      <td>Obs3</td>\n",
       "      <td>2</td>\n",
       "      <td>1</td>\n",
       "      <td>0</td>\n",
       "    </tr>\n",
       "    <tr>\n",
       "      <td>Obs4</td>\n",
       "      <td>5</td>\n",
       "      <td>6</td>\n",
       "      <td>7</td>\n",
       "    </tr>\n",
       "    <tr>\n",
       "      <td>Obs5</td>\n",
       "      <td>4</td>\n",
       "      <td>7</td>\n",
       "      <td>6</td>\n",
       "    </tr>\n",
       "  </tbody>\n",
       "</table>\n",
       "</div>"
      ],
      "text/plain": [
       "      X^1  X^2  X^3\n",
       "Obs1    0    3    2\n",
       "Obs2    3    0    1\n",
       "Obs3    2    1    0\n",
       "Obs4    5    6    7\n",
       "Obs5    4    7    6"
      ]
     },
     "execution_count": 41,
     "metadata": {},
     "output_type": "execute_result"
    }
   ],
   "source": [
    "# Per aggiungere una colonna alternativa di indici: \n",
    "df_dict = pd.DataFrame(data = my_dict,\n",
    "                       index = [\"Obs1\", \"Obs2\", \"Obs3\", \"Obs4\", \"Obs5\"]) \n",
    "\n",
    "df_dict\n",
    "           \n",
    "    "
   ]
  },
  {
   "cell_type": "markdown",
   "metadata": {},
   "source": [
    "**Creazione di un DataFrame passando una NumPy.Array all'interno (esempio tratto da Python for Finance)**\n",
    "\n",
    "Come detto il nostro constructor accetta anche tale struttura alternativa come input associabile al parametro _data._ Per questo motivo possiamo sfruttare le potenzialità del pacchetto NumPy per creare rapidamente dei dataframe molto complessi. "
   ]
  },
  {
   "cell_type": "code",
   "execution_count": 46,
   "metadata": {},
   "outputs": [],
   "source": [
    "import numpy as np \n",
    "from numpy import random\n",
    "from random import seed\n"
   ]
  },
  {
   "cell_type": "code",
   "execution_count": 232,
   "metadata": {},
   "outputs": [
    {
     "data": {
      "text/plain": [
       "(100, 3)"
      ]
     },
     "execution_count": 232,
     "metadata": {},
     "output_type": "execute_result"
    }
   ],
   "source": [
    "seed(1)\n",
    "\n",
    "random_matrix = random.standard_normal((100,3)) #Creo una matrice di forma 10 x 3 passando all'interno una tuple \n",
    "\n",
    "random_matrix.shape"
   ]
  },
  {
   "cell_type": "code",
   "execution_count": 233,
   "metadata": {},
   "outputs": [
    {
     "data": {
      "text/html": [
       "<div>\n",
       "<style scoped>\n",
       "    .dataframe tbody tr th:only-of-type {\n",
       "        vertical-align: middle;\n",
       "    }\n",
       "\n",
       "    .dataframe tbody tr th {\n",
       "        vertical-align: top;\n",
       "    }\n",
       "\n",
       "    .dataframe thead th {\n",
       "        text-align: right;\n",
       "    }\n",
       "</style>\n",
       "<table border=\"1\" class=\"dataframe\">\n",
       "  <thead>\n",
       "    <tr style=\"text-align: right;\">\n",
       "      <th></th>\n",
       "      <th>Sample 1</th>\n",
       "      <th>Sample 2</th>\n",
       "      <th>Sample 3</th>\n",
       "    </tr>\n",
       "  </thead>\n",
       "  <tbody>\n",
       "    <tr>\n",
       "      <td>Obs1</td>\n",
       "      <td>0.265802</td>\n",
       "      <td>-1.090967</td>\n",
       "      <td>0.819583</td>\n",
       "    </tr>\n",
       "    <tr>\n",
       "      <td>Obs2</td>\n",
       "      <td>-0.191278</td>\n",
       "      <td>-0.443078</td>\n",
       "      <td>-0.255384</td>\n",
       "    </tr>\n",
       "    <tr>\n",
       "      <td>Obs3</td>\n",
       "      <td>1.114833</td>\n",
       "      <td>0.301457</td>\n",
       "      <td>-0.860298</td>\n",
       "    </tr>\n",
       "    <tr>\n",
       "      <td>Obs4</td>\n",
       "      <td>-0.709857</td>\n",
       "      <td>0.963494</td>\n",
       "      <td>-0.246298</td>\n",
       "    </tr>\n",
       "    <tr>\n",
       "      <td>Obs5</td>\n",
       "      <td>-2.266215</td>\n",
       "      <td>1.487246</td>\n",
       "      <td>0.139164</td>\n",
       "    </tr>\n",
       "  </tbody>\n",
       "</table>\n",
       "</div>"
      ],
      "text/plain": [
       "      Sample 1  Sample 2  Sample 3\n",
       "Obs1  0.265802 -1.090967  0.819583\n",
       "Obs2 -0.191278 -0.443078 -0.255384\n",
       "Obs3  1.114833  0.301457 -0.860298\n",
       "Obs4 -0.709857  0.963494 -0.246298\n",
       "Obs5 -2.266215  1.487246  0.139164"
      ]
     },
     "execution_count": 233,
     "metadata": {},
     "output_type": "execute_result"
    }
   ],
   "source": [
    "random_df = pd.DataFrame(random_matrix, \n",
    "                        [\"Obs{}\".format(i) for i in range(1,len(random_matrix)+1)], \n",
    "                        [\"Sample 1\", \"Sample 2\", \"Sample 3\"])\n",
    "\n",
    "random_df.head() #Questo metodo consente di osservare le prime 5 righe della nostra struttura\n",
    "\n"
   ]
  },
  {
   "cell_type": "code",
   "execution_count": 234,
   "metadata": {},
   "outputs": [
    {
     "data": {
      "text/html": [
       "<div>\n",
       "<style scoped>\n",
       "    .dataframe tbody tr th:only-of-type {\n",
       "        vertical-align: middle;\n",
       "    }\n",
       "\n",
       "    .dataframe tbody tr th {\n",
       "        vertical-align: top;\n",
       "    }\n",
       "\n",
       "    .dataframe thead th {\n",
       "        text-align: right;\n",
       "    }\n",
       "</style>\n",
       "<table border=\"1\" class=\"dataframe\">\n",
       "  <thead>\n",
       "    <tr style=\"text-align: right;\">\n",
       "      <th></th>\n",
       "      <th>Sample 1</th>\n",
       "      <th>Sample 2</th>\n",
       "      <th>Sample 3</th>\n",
       "    </tr>\n",
       "  </thead>\n",
       "  <tbody>\n",
       "    <tr>\n",
       "      <td>Obs96</td>\n",
       "      <td>1.351386</td>\n",
       "      <td>0.716649</td>\n",
       "      <td>1.436213</td>\n",
       "    </tr>\n",
       "    <tr>\n",
       "      <td>Obs97</td>\n",
       "      <td>-0.073087</td>\n",
       "      <td>-2.131523</td>\n",
       "      <td>-0.258459</td>\n",
       "    </tr>\n",
       "    <tr>\n",
       "      <td>Obs98</td>\n",
       "      <td>-0.228059</td>\n",
       "      <td>-0.184496</td>\n",
       "      <td>-1.921652</td>\n",
       "    </tr>\n",
       "    <tr>\n",
       "      <td>Obs99</td>\n",
       "      <td>-1.137214</td>\n",
       "      <td>-1.758427</td>\n",
       "      <td>-0.778690</td>\n",
       "    </tr>\n",
       "    <tr>\n",
       "      <td>Obs100</td>\n",
       "      <td>-1.821791</td>\n",
       "      <td>1.001792</td>\n",
       "      <td>-0.835310</td>\n",
       "    </tr>\n",
       "  </tbody>\n",
       "</table>\n",
       "</div>"
      ],
      "text/plain": [
       "        Sample 1  Sample 2  Sample 3\n",
       "Obs96   1.351386  0.716649  1.436213\n",
       "Obs97  -0.073087 -2.131523 -0.258459\n",
       "Obs98  -0.228059 -0.184496 -1.921652\n",
       "Obs99  -1.137214 -1.758427 -0.778690\n",
       "Obs100 -1.821791  1.001792 -0.835310"
      ]
     },
     "execution_count": 234,
     "metadata": {},
     "output_type": "execute_result"
    }
   ],
   "source": [
    "random_df.tail() #Ultime 5 righe "
   ]
  },
  {
   "cell_type": "markdown",
   "metadata": {},
   "source": [
    "Detto ciò, prima di passare al _basic plotting_ performabile attraverso questa data structure continuiamo a presentare qualche aspetto concernente la creazione e la modellazione di queste strutture utilizzando la ormai \"collaudata\" _new_df_ . "
   ]
  },
  {
   "cell_type": "markdown",
   "metadata": {},
   "source": [
    "**RESHAPING: Aggiunta di una nuova colonna utilizzando l'operatore [ ] (come visto con i dictionaries)**\n"
   ]
  },
  {
   "cell_type": "code",
   "execution_count": 73,
   "metadata": {},
   "outputs": [
    {
     "data": {
      "text/html": [
       "<div>\n",
       "<style scoped>\n",
       "    .dataframe tbody tr th:only-of-type {\n",
       "        vertical-align: middle;\n",
       "    }\n",
       "\n",
       "    .dataframe tbody tr th {\n",
       "        vertical-align: top;\n",
       "    }\n",
       "\n",
       "    .dataframe thead th {\n",
       "        text-align: right;\n",
       "    }\n",
       "</style>\n",
       "<table border=\"1\" class=\"dataframe\">\n",
       "  <thead>\n",
       "    <tr style=\"text-align: right;\">\n",
       "      <th></th>\n",
       "      <th>X^1</th>\n",
       "      <th>X^2</th>\n",
       "      <th>X^3</th>\n",
       "    </tr>\n",
       "  </thead>\n",
       "  <tbody>\n",
       "    <tr>\n",
       "      <td>Obs1</td>\n",
       "      <td>1</td>\n",
       "      <td>1</td>\n",
       "      <td>1</td>\n",
       "    </tr>\n",
       "    <tr>\n",
       "      <td>Obs2</td>\n",
       "      <td>2</td>\n",
       "      <td>4</td>\n",
       "      <td>8</td>\n",
       "    </tr>\n",
       "    <tr>\n",
       "      <td>Obs3</td>\n",
       "      <td>3</td>\n",
       "      <td>9</td>\n",
       "      <td>27</td>\n",
       "    </tr>\n",
       "    <tr>\n",
       "      <td>Obs4</td>\n",
       "      <td>4</td>\n",
       "      <td>16</td>\n",
       "      <td>64</td>\n",
       "    </tr>\n",
       "    <tr>\n",
       "      <td>Obs5</td>\n",
       "      <td>5</td>\n",
       "      <td>25</td>\n",
       "      <td>125</td>\n",
       "    </tr>\n",
       "  </tbody>\n",
       "</table>\n",
       "</div>"
      ],
      "text/plain": [
       "      X^1  X^2  X^3\n",
       "Obs1    1    1    1\n",
       "Obs2    2    4    8\n",
       "Obs3    3    9   27\n",
       "Obs4    4   16   64\n",
       "Obs5    5   25  125"
      ]
     },
     "execution_count": 73,
     "metadata": {},
     "output_type": "execute_result"
    }
   ],
   "source": [
    "new_df"
   ]
  },
  {
   "cell_type": "code",
   "execution_count": 76,
   "metadata": {},
   "outputs": [
    {
     "name": "stdout",
     "output_type": "stream",
     "text": [
      "Obs1    1\n",
      "Obs2    2\n",
      "Obs3    3\n",
      "Obs4    4\n",
      "Obs5    5\n",
      "Name: X^1, dtype: int64\n"
     ]
    }
   ],
   "source": [
    "print(new_df[\"X^1\"]) #Posso rappresentare con questo indexing singole (o multiple) colonne della mia struttura\n",
    "\n",
    "series = new_df[\"X^1\"] #In questo modo associo una colonna del mio dataframe ad una nuova struttura, che automaticamente \n",
    "\n",
    "#viene riconosciuta come Pd.Series (in quanto ha una sola colonna dati)"
   ]
  },
  {
   "cell_type": "code",
   "execution_count": 77,
   "metadata": {},
   "outputs": [
    {
     "data": {
      "text/plain": [
       "pandas.core.series.Series"
      ]
     },
     "execution_count": 77,
     "metadata": {},
     "output_type": "execute_result"
    }
   ],
   "source": [
    "type(series)"
   ]
  },
  {
   "cell_type": "markdown",
   "metadata": {},
   "source": [
    "Detto ciò, riprendendo la mia struttura dati voglio aggiungere una colonna chiamata \"X^4\":"
   ]
  },
  {
   "cell_type": "code",
   "execution_count": 78,
   "metadata": {},
   "outputs": [
    {
     "data": {
      "text/html": [
       "<div>\n",
       "<style scoped>\n",
       "    .dataframe tbody tr th:only-of-type {\n",
       "        vertical-align: middle;\n",
       "    }\n",
       "\n",
       "    .dataframe tbody tr th {\n",
       "        vertical-align: top;\n",
       "    }\n",
       "\n",
       "    .dataframe thead th {\n",
       "        text-align: right;\n",
       "    }\n",
       "</style>\n",
       "<table border=\"1\" class=\"dataframe\">\n",
       "  <thead>\n",
       "    <tr style=\"text-align: right;\">\n",
       "      <th></th>\n",
       "      <th>X^1</th>\n",
       "      <th>X^2</th>\n",
       "      <th>X^3</th>\n",
       "      <th>X^4</th>\n",
       "    </tr>\n",
       "  </thead>\n",
       "  <tbody>\n",
       "    <tr>\n",
       "      <td>Obs1</td>\n",
       "      <td>1</td>\n",
       "      <td>1</td>\n",
       "      <td>1</td>\n",
       "      <td>1</td>\n",
       "    </tr>\n",
       "    <tr>\n",
       "      <td>Obs2</td>\n",
       "      <td>2</td>\n",
       "      <td>4</td>\n",
       "      <td>8</td>\n",
       "      <td>16</td>\n",
       "    </tr>\n",
       "    <tr>\n",
       "      <td>Obs3</td>\n",
       "      <td>3</td>\n",
       "      <td>9</td>\n",
       "      <td>27</td>\n",
       "      <td>81</td>\n",
       "    </tr>\n",
       "    <tr>\n",
       "      <td>Obs4</td>\n",
       "      <td>4</td>\n",
       "      <td>16</td>\n",
       "      <td>64</td>\n",
       "      <td>256</td>\n",
       "    </tr>\n",
       "    <tr>\n",
       "      <td>Obs5</td>\n",
       "      <td>5</td>\n",
       "      <td>25</td>\n",
       "      <td>125</td>\n",
       "      <td>625</td>\n",
       "    </tr>\n",
       "  </tbody>\n",
       "</table>\n",
       "</div>"
      ],
      "text/plain": [
       "      X^1  X^2  X^3  X^4\n",
       "Obs1    1    1    1    1\n",
       "Obs2    2    4    8   16\n",
       "Obs3    3    9   27   81\n",
       "Obs4    4   16   64  256\n",
       "Obs5    5   25  125  625"
      ]
     },
     "execution_count": 78,
     "metadata": {},
     "output_type": "execute_result"
    }
   ],
   "source": [
    "new_df[\"X^4\"] = new_df[\"X^1\"]**4 #Sfrutto la possibilità di eseguire attraverso vettorizzazione un'operazione su tutti gli elementi\n",
    "\n",
    "new_df"
   ]
  },
  {
   "cell_type": "markdown",
   "metadata": {},
   "source": [
    "Posso per di più creare colonne ottenute da operazioni eseguite su più colonne già esistenti, vediamo ciò con un semplice esempio finanziario:  _capitalizzazione di mercato._ "
   ]
  },
  {
   "cell_type": "code",
   "execution_count": 129,
   "metadata": {},
   "outputs": [
    {
     "data": {
      "text/html": [
       "<div>\n",
       "<style scoped>\n",
       "    .dataframe tbody tr th:only-of-type {\n",
       "        vertical-align: middle;\n",
       "    }\n",
       "\n",
       "    .dataframe tbody tr th {\n",
       "        vertical-align: top;\n",
       "    }\n",
       "\n",
       "    .dataframe thead th {\n",
       "        text-align: right;\n",
       "    }\n",
       "</style>\n",
       "<table border=\"1\" class=\"dataframe\">\n",
       "  <thead>\n",
       "    <tr style=\"text-align: right;\">\n",
       "      <th></th>\n",
       "      <th>Prezzo</th>\n",
       "      <th>Volume</th>\n",
       "    </tr>\n",
       "  </thead>\n",
       "  <tbody>\n",
       "    <tr>\n",
       "      <td>Apple</td>\n",
       "      <td>10</td>\n",
       "      <td>100</td>\n",
       "    </tr>\n",
       "    <tr>\n",
       "      <td>Tesla</td>\n",
       "      <td>5</td>\n",
       "      <td>500</td>\n",
       "    </tr>\n",
       "    <tr>\n",
       "      <td>GM</td>\n",
       "      <td>30</td>\n",
       "      <td>50</td>\n",
       "    </tr>\n",
       "  </tbody>\n",
       "</table>\n",
       "</div>"
      ],
      "text/plain": [
       "       Prezzo  Volume\n",
       "Apple      10     100\n",
       "Tesla       5     500\n",
       "GM         30      50"
      ]
     },
     "execution_count": 129,
     "metadata": {},
     "output_type": "execute_result"
    }
   ],
   "source": [
    "df_price = pd.DataFrame(data = {\"Prezzo\":[10, 5, 30], \"Volume\": [100,500,50]},\n",
    "                       index = [\"Apple\", \"Tesla\", \"GM\"])\n",
    "df_price"
   ]
  },
  {
   "cell_type": "code",
   "execution_count": 130,
   "metadata": {},
   "outputs": [
    {
     "data": {
      "text/html": [
       "<div>\n",
       "<style scoped>\n",
       "    .dataframe tbody tr th:only-of-type {\n",
       "        vertical-align: middle;\n",
       "    }\n",
       "\n",
       "    .dataframe tbody tr th {\n",
       "        vertical-align: top;\n",
       "    }\n",
       "\n",
       "    .dataframe thead th {\n",
       "        text-align: right;\n",
       "    }\n",
       "</style>\n",
       "<table border=\"1\" class=\"dataframe\">\n",
       "  <thead>\n",
       "    <tr style=\"text-align: right;\">\n",
       "      <th></th>\n",
       "      <th>Prezzo</th>\n",
       "      <th>Volume</th>\n",
       "      <th>Mkt_Cap</th>\n",
       "    </tr>\n",
       "  </thead>\n",
       "  <tbody>\n",
       "    <tr>\n",
       "      <td>Apple</td>\n",
       "      <td>10</td>\n",
       "      <td>100</td>\n",
       "      <td>1000</td>\n",
       "    </tr>\n",
       "    <tr>\n",
       "      <td>Tesla</td>\n",
       "      <td>5</td>\n",
       "      <td>500</td>\n",
       "      <td>2500</td>\n",
       "    </tr>\n",
       "    <tr>\n",
       "      <td>GM</td>\n",
       "      <td>30</td>\n",
       "      <td>50</td>\n",
       "      <td>1500</td>\n",
       "    </tr>\n",
       "  </tbody>\n",
       "</table>\n",
       "</div>"
      ],
      "text/plain": [
       "       Prezzo  Volume  Mkt_Cap\n",
       "Apple      10     100     1000\n",
       "Tesla       5     500     2500\n",
       "GM         30      50     1500"
      ]
     },
     "execution_count": 130,
     "metadata": {},
     "output_type": "execute_result"
    }
   ],
   "source": [
    "df_price[\"Mkt_Cap\"] = df_price[\"Prezzo\"]* df_price[\"Volume\"]\n",
    "df_price"
   ]
  },
  {
   "cell_type": "markdown",
   "metadata": {},
   "source": [
    "Possiamo vedere nel nostro semplice esempio che Tesla ha la più alta capitalizzazione di mercato rispetto alle altre società. \n",
    "Abbiamo sfruttato, come vedremo con successivi esempi, la _vettorizzazione_ implementata nell'operatività di Pandas. "
   ]
  },
  {
   "cell_type": "markdown",
   "metadata": {},
   "source": [
    "**RESHAPING: Aggiunta di una nuova riga**"
   ]
  },
  {
   "cell_type": "markdown",
   "metadata": {},
   "source": [
    "Fermo restando che, in questo caso, quando vogliamo aggiungere una nuova riga all'interno della nostra struttura dobbiamo mantenere la coerenza con il numero di colonne esistenti, possiamo procedere nel seguente modo:"
   ]
  },
  {
   "cell_type": "code",
   "execution_count": 131,
   "metadata": {},
   "outputs": [],
   "source": [
    "df_price =df_price.append({\"Prezzo\":5,\"Volume\":100,\"Mkt_Cap\":500}, ignore_index = True) #In questo modo sono costretto a resettare gli indici \n"
   ]
  },
  {
   "cell_type": "code",
   "execution_count": 132,
   "metadata": {},
   "outputs": [
    {
     "data": {
      "text/html": [
       "<div>\n",
       "<style scoped>\n",
       "    .dataframe tbody tr th:only-of-type {\n",
       "        vertical-align: middle;\n",
       "    }\n",
       "\n",
       "    .dataframe tbody tr th {\n",
       "        vertical-align: top;\n",
       "    }\n",
       "\n",
       "    .dataframe thead th {\n",
       "        text-align: right;\n",
       "    }\n",
       "</style>\n",
       "<table border=\"1\" class=\"dataframe\">\n",
       "  <thead>\n",
       "    <tr style=\"text-align: right;\">\n",
       "      <th></th>\n",
       "      <th>Prezzo</th>\n",
       "      <th>Volume</th>\n",
       "      <th>Mkt_Cap</th>\n",
       "    </tr>\n",
       "  </thead>\n",
       "  <tbody>\n",
       "    <tr>\n",
       "      <td>0</td>\n",
       "      <td>10</td>\n",
       "      <td>100</td>\n",
       "      <td>1000</td>\n",
       "    </tr>\n",
       "    <tr>\n",
       "      <td>1</td>\n",
       "      <td>5</td>\n",
       "      <td>500</td>\n",
       "      <td>2500</td>\n",
       "    </tr>\n",
       "    <tr>\n",
       "      <td>2</td>\n",
       "      <td>30</td>\n",
       "      <td>50</td>\n",
       "      <td>1500</td>\n",
       "    </tr>\n",
       "    <tr>\n",
       "      <td>3</td>\n",
       "      <td>5</td>\n",
       "      <td>100</td>\n",
       "      <td>500</td>\n",
       "    </tr>\n",
       "  </tbody>\n",
       "</table>\n",
       "</div>"
      ],
      "text/plain": [
       "   Prezzo  Volume  Mkt_Cap\n",
       "0      10     100     1000\n",
       "1       5     500     2500\n",
       "2      30      50     1500\n",
       "3       5     100      500"
      ]
     },
     "execution_count": 132,
     "metadata": {},
     "output_type": "execute_result"
    }
   ],
   "source": [
    "df_price"
   ]
  },
  {
   "cell_type": "code",
   "execution_count": 133,
   "metadata": {},
   "outputs": [
    {
     "data": {
      "text/html": [
       "<div>\n",
       "<style scoped>\n",
       "    .dataframe tbody tr th:only-of-type {\n",
       "        vertical-align: middle;\n",
       "    }\n",
       "\n",
       "    .dataframe tbody tr th {\n",
       "        vertical-align: top;\n",
       "    }\n",
       "\n",
       "    .dataframe thead th {\n",
       "        text-align: right;\n",
       "    }\n",
       "</style>\n",
       "<table border=\"1\" class=\"dataframe\">\n",
       "  <thead>\n",
       "    <tr style=\"text-align: right;\">\n",
       "      <th></th>\n",
       "      <th>Prezzo</th>\n",
       "      <th>Volume</th>\n",
       "      <th>Mkt_Cap</th>\n",
       "    </tr>\n",
       "  </thead>\n",
       "  <tbody>\n",
       "    <tr>\n",
       "      <td>Apple</td>\n",
       "      <td>10</td>\n",
       "      <td>100</td>\n",
       "      <td>1000</td>\n",
       "    </tr>\n",
       "    <tr>\n",
       "      <td>Tesla</td>\n",
       "      <td>5</td>\n",
       "      <td>500</td>\n",
       "      <td>2500</td>\n",
       "    </tr>\n",
       "    <tr>\n",
       "      <td>GM</td>\n",
       "      <td>30</td>\n",
       "      <td>50</td>\n",
       "      <td>1500</td>\n",
       "    </tr>\n",
       "    <tr>\n",
       "      <td>FB</td>\n",
       "      <td>5</td>\n",
       "      <td>100</td>\n",
       "      <td>500</td>\n",
       "    </tr>\n",
       "  </tbody>\n",
       "</table>\n",
       "</div>"
      ],
      "text/plain": [
       "       Prezzo  Volume  Mkt_Cap\n",
       "Apple      10     100     1000\n",
       "Tesla       5     500     2500\n",
       "GM         30      50     1500\n",
       "FB          5     100      500"
      ]
     },
     "execution_count": 133,
     "metadata": {},
     "output_type": "execute_result"
    }
   ],
   "source": [
    "df_price.index = [\"Apple\", \"Tesla\", \"GM\", \"FB\"]\n",
    "df_price"
   ]
  },
  {
   "cell_type": "markdown",
   "metadata": {},
   "source": [
    "In alternativa, combinando quando imparato: "
   ]
  },
  {
   "cell_type": "code",
   "execution_count": 136,
   "metadata": {},
   "outputs": [],
   "source": [
    "df_price = df_price.append(pd.DataFrame({\"Prezzo\":12,\"Volume\":10,\"Mkt_Cap\":120}, \n",
    "                                       index = [\"J&J\"]))"
   ]
  },
  {
   "cell_type": "code",
   "execution_count": 137,
   "metadata": {},
   "outputs": [
    {
     "data": {
      "text/html": [
       "<div>\n",
       "<style scoped>\n",
       "    .dataframe tbody tr th:only-of-type {\n",
       "        vertical-align: middle;\n",
       "    }\n",
       "\n",
       "    .dataframe tbody tr th {\n",
       "        vertical-align: top;\n",
       "    }\n",
       "\n",
       "    .dataframe thead th {\n",
       "        text-align: right;\n",
       "    }\n",
       "</style>\n",
       "<table border=\"1\" class=\"dataframe\">\n",
       "  <thead>\n",
       "    <tr style=\"text-align: right;\">\n",
       "      <th></th>\n",
       "      <th>Prezzo</th>\n",
       "      <th>Volume</th>\n",
       "      <th>Mkt_Cap</th>\n",
       "    </tr>\n",
       "  </thead>\n",
       "  <tbody>\n",
       "    <tr>\n",
       "      <td>Apple</td>\n",
       "      <td>10</td>\n",
       "      <td>100</td>\n",
       "      <td>1000</td>\n",
       "    </tr>\n",
       "    <tr>\n",
       "      <td>Tesla</td>\n",
       "      <td>5</td>\n",
       "      <td>500</td>\n",
       "      <td>2500</td>\n",
       "    </tr>\n",
       "    <tr>\n",
       "      <td>GM</td>\n",
       "      <td>30</td>\n",
       "      <td>50</td>\n",
       "      <td>1500</td>\n",
       "    </tr>\n",
       "    <tr>\n",
       "      <td>FB</td>\n",
       "      <td>5</td>\n",
       "      <td>100</td>\n",
       "      <td>500</td>\n",
       "    </tr>\n",
       "    <tr>\n",
       "      <td>J&amp;J</td>\n",
       "      <td>12</td>\n",
       "      <td>10</td>\n",
       "      <td>120</td>\n",
       "    </tr>\n",
       "  </tbody>\n",
       "</table>\n",
       "</div>"
      ],
      "text/plain": [
       "       Prezzo  Volume  Mkt_Cap\n",
       "Apple      10     100     1000\n",
       "Tesla       5     500     2500\n",
       "GM         30      50     1500\n",
       "FB          5     100      500\n",
       "J&J        12      10      120"
      ]
     },
     "execution_count": 137,
     "metadata": {},
     "output_type": "execute_result"
    }
   ],
   "source": [
    "df_price"
   ]
  },
  {
   "cell_type": "markdown",
   "metadata": {},
   "source": [
    "**RESHAPING: Rimozione di colonne o righe in un DataFrame** "
   ]
  },
  {
   "cell_type": "markdown",
   "metadata": {},
   "source": [
    "Diverse sono le possibilità, partiamo con la rimozione di colonne: "
   ]
  },
  {
   "cell_type": "code",
   "execution_count": 84,
   "metadata": {},
   "outputs": [
    {
     "data": {
      "text/html": [
       "<div>\n",
       "<style scoped>\n",
       "    .dataframe tbody tr th:only-of-type {\n",
       "        vertical-align: middle;\n",
       "    }\n",
       "\n",
       "    .dataframe tbody tr th {\n",
       "        vertical-align: top;\n",
       "    }\n",
       "\n",
       "    .dataframe thead th {\n",
       "        text-align: right;\n",
       "    }\n",
       "</style>\n",
       "<table border=\"1\" class=\"dataframe\">\n",
       "  <thead>\n",
       "    <tr style=\"text-align: right;\">\n",
       "      <th></th>\n",
       "      <th>X^1</th>\n",
       "      <th>X^2</th>\n",
       "      <th>X^3</th>\n",
       "      <th>X^4</th>\n",
       "    </tr>\n",
       "  </thead>\n",
       "  <tbody>\n",
       "    <tr>\n",
       "      <td>Obs1</td>\n",
       "      <td>1</td>\n",
       "      <td>1</td>\n",
       "      <td>1</td>\n",
       "      <td>1</td>\n",
       "    </tr>\n",
       "    <tr>\n",
       "      <td>Obs2</td>\n",
       "      <td>2</td>\n",
       "      <td>4</td>\n",
       "      <td>8</td>\n",
       "      <td>16</td>\n",
       "    </tr>\n",
       "    <tr>\n",
       "      <td>Obs3</td>\n",
       "      <td>3</td>\n",
       "      <td>9</td>\n",
       "      <td>27</td>\n",
       "      <td>81</td>\n",
       "    </tr>\n",
       "    <tr>\n",
       "      <td>Obs4</td>\n",
       "      <td>4</td>\n",
       "      <td>16</td>\n",
       "      <td>64</td>\n",
       "      <td>256</td>\n",
       "    </tr>\n",
       "    <tr>\n",
       "      <td>Obs5</td>\n",
       "      <td>5</td>\n",
       "      <td>25</td>\n",
       "      <td>125</td>\n",
       "      <td>625</td>\n",
       "    </tr>\n",
       "  </tbody>\n",
       "</table>\n",
       "</div>"
      ],
      "text/plain": [
       "      X^1  X^2  X^3  X^4\n",
       "Obs1    1    1    1    1\n",
       "Obs2    2    4    8   16\n",
       "Obs3    3    9   27   81\n",
       "Obs4    4   16   64  256\n",
       "Obs5    5   25  125  625"
      ]
     },
     "execution_count": 84,
     "metadata": {},
     "output_type": "execute_result"
    }
   ],
   "source": [
    "new_df"
   ]
  },
  {
   "cell_type": "code",
   "execution_count": 88,
   "metadata": {},
   "outputs": [],
   "source": [
    "del new_df[\"X^4\"]"
   ]
  },
  {
   "cell_type": "code",
   "execution_count": 89,
   "metadata": {},
   "outputs": [
    {
     "data": {
      "text/html": [
       "<div>\n",
       "<style scoped>\n",
       "    .dataframe tbody tr th:only-of-type {\n",
       "        vertical-align: middle;\n",
       "    }\n",
       "\n",
       "    .dataframe tbody tr th {\n",
       "        vertical-align: top;\n",
       "    }\n",
       "\n",
       "    .dataframe thead th {\n",
       "        text-align: right;\n",
       "    }\n",
       "</style>\n",
       "<table border=\"1\" class=\"dataframe\">\n",
       "  <thead>\n",
       "    <tr style=\"text-align: right;\">\n",
       "      <th></th>\n",
       "      <th>X^1</th>\n",
       "      <th>X^2</th>\n",
       "      <th>X^3</th>\n",
       "    </tr>\n",
       "  </thead>\n",
       "  <tbody>\n",
       "    <tr>\n",
       "      <td>Obs1</td>\n",
       "      <td>1</td>\n",
       "      <td>1</td>\n",
       "      <td>1</td>\n",
       "    </tr>\n",
       "    <tr>\n",
       "      <td>Obs2</td>\n",
       "      <td>2</td>\n",
       "      <td>4</td>\n",
       "      <td>8</td>\n",
       "    </tr>\n",
       "    <tr>\n",
       "      <td>Obs3</td>\n",
       "      <td>3</td>\n",
       "      <td>9</td>\n",
       "      <td>27</td>\n",
       "    </tr>\n",
       "    <tr>\n",
       "      <td>Obs4</td>\n",
       "      <td>4</td>\n",
       "      <td>16</td>\n",
       "      <td>64</td>\n",
       "    </tr>\n",
       "    <tr>\n",
       "      <td>Obs5</td>\n",
       "      <td>5</td>\n",
       "      <td>25</td>\n",
       "      <td>125</td>\n",
       "    </tr>\n",
       "  </tbody>\n",
       "</table>\n",
       "</div>"
      ],
      "text/plain": [
       "      X^1  X^2  X^3\n",
       "Obs1    1    1    1\n",
       "Obs2    2    4    8\n",
       "Obs3    3    9   27\n",
       "Obs4    4   16   64\n",
       "Obs5    5   25  125"
      ]
     },
     "execution_count": 89,
     "metadata": {},
     "output_type": "execute_result"
    }
   ],
   "source": [
    "new_df"
   ]
  },
  {
   "cell_type": "code",
   "execution_count": 91,
   "metadata": {},
   "outputs": [],
   "source": [
    "new_df = new_df.drop(columns = \"X^3\")"
   ]
  },
  {
   "cell_type": "code",
   "execution_count": 92,
   "metadata": {},
   "outputs": [
    {
     "data": {
      "text/html": [
       "<div>\n",
       "<style scoped>\n",
       "    .dataframe tbody tr th:only-of-type {\n",
       "        vertical-align: middle;\n",
       "    }\n",
       "\n",
       "    .dataframe tbody tr th {\n",
       "        vertical-align: top;\n",
       "    }\n",
       "\n",
       "    .dataframe thead th {\n",
       "        text-align: right;\n",
       "    }\n",
       "</style>\n",
       "<table border=\"1\" class=\"dataframe\">\n",
       "  <thead>\n",
       "    <tr style=\"text-align: right;\">\n",
       "      <th></th>\n",
       "      <th>X^1</th>\n",
       "      <th>X^2</th>\n",
       "    </tr>\n",
       "  </thead>\n",
       "  <tbody>\n",
       "    <tr>\n",
       "      <td>Obs1</td>\n",
       "      <td>1</td>\n",
       "      <td>1</td>\n",
       "    </tr>\n",
       "    <tr>\n",
       "      <td>Obs2</td>\n",
       "      <td>2</td>\n",
       "      <td>4</td>\n",
       "    </tr>\n",
       "    <tr>\n",
       "      <td>Obs3</td>\n",
       "      <td>3</td>\n",
       "      <td>9</td>\n",
       "    </tr>\n",
       "    <tr>\n",
       "      <td>Obs4</td>\n",
       "      <td>4</td>\n",
       "      <td>16</td>\n",
       "    </tr>\n",
       "    <tr>\n",
       "      <td>Obs5</td>\n",
       "      <td>5</td>\n",
       "      <td>25</td>\n",
       "    </tr>\n",
       "  </tbody>\n",
       "</table>\n",
       "</div>"
      ],
      "text/plain": [
       "      X^1  X^2\n",
       "Obs1    1    1\n",
       "Obs2    2    4\n",
       "Obs3    3    9\n",
       "Obs4    4   16\n",
       "Obs5    5   25"
      ]
     },
     "execution_count": 92,
     "metadata": {},
     "output_type": "execute_result"
    }
   ],
   "source": [
    "new_df"
   ]
  },
  {
   "cell_type": "markdown",
   "metadata": {},
   "source": [
    "Per quanto concerne la rimozione di righe (anticipando alcune peculiarità dell'_indexing),_  invece: "
   ]
  },
  {
   "cell_type": "code",
   "execution_count": 113,
   "metadata": {},
   "outputs": [],
   "source": [
    "new_df = new_df.drop([\"Obs5\"], axis =0) #In questo modo, muovendomi lungo le righe (axis = 0) rimuovo la riga indicizzata \"Obs5\", l'ultima\n"
   ]
  },
  {
   "cell_type": "code",
   "execution_count": 114,
   "metadata": {},
   "outputs": [
    {
     "data": {
      "text/html": [
       "<div>\n",
       "<style scoped>\n",
       "    .dataframe tbody tr th:only-of-type {\n",
       "        vertical-align: middle;\n",
       "    }\n",
       "\n",
       "    .dataframe tbody tr th {\n",
       "        vertical-align: top;\n",
       "    }\n",
       "\n",
       "    .dataframe thead th {\n",
       "        text-align: right;\n",
       "    }\n",
       "</style>\n",
       "<table border=\"1\" class=\"dataframe\">\n",
       "  <thead>\n",
       "    <tr style=\"text-align: right;\">\n",
       "      <th></th>\n",
       "      <th>X^1</th>\n",
       "      <th>X^2</th>\n",
       "    </tr>\n",
       "  </thead>\n",
       "  <tbody>\n",
       "    <tr>\n",
       "      <td>Obs1</td>\n",
       "      <td>1</td>\n",
       "      <td>1</td>\n",
       "    </tr>\n",
       "    <tr>\n",
       "      <td>Obs2</td>\n",
       "      <td>2</td>\n",
       "      <td>4</td>\n",
       "    </tr>\n",
       "    <tr>\n",
       "      <td>Obs3</td>\n",
       "      <td>3</td>\n",
       "      <td>9</td>\n",
       "    </tr>\n",
       "    <tr>\n",
       "      <td>Obs4</td>\n",
       "      <td>4</td>\n",
       "      <td>16</td>\n",
       "    </tr>\n",
       "  </tbody>\n",
       "</table>\n",
       "</div>"
      ],
      "text/plain": [
       "      X^1  X^2\n",
       "Obs1    1    1\n",
       "Obs2    2    4\n",
       "Obs3    3    9\n",
       "Obs4    4   16"
      ]
     },
     "execution_count": 114,
     "metadata": {},
     "output_type": "execute_result"
    }
   ],
   "source": [
    "new_df"
   ]
  },
  {
   "cell_type": "code",
   "execution_count": 115,
   "metadata": {},
   "outputs": [],
   "source": [
    "new_df = new_df.drop(index= [\"Obs2\",\"Obs3\"]) #Elimino direttamente dalla colonna degli indici le osservazioni associate a quelli passati all'interno. "
   ]
  },
  {
   "cell_type": "code",
   "execution_count": 116,
   "metadata": {},
   "outputs": [
    {
     "data": {
      "text/html": [
       "<div>\n",
       "<style scoped>\n",
       "    .dataframe tbody tr th:only-of-type {\n",
       "        vertical-align: middle;\n",
       "    }\n",
       "\n",
       "    .dataframe tbody tr th {\n",
       "        vertical-align: top;\n",
       "    }\n",
       "\n",
       "    .dataframe thead th {\n",
       "        text-align: right;\n",
       "    }\n",
       "</style>\n",
       "<table border=\"1\" class=\"dataframe\">\n",
       "  <thead>\n",
       "    <tr style=\"text-align: right;\">\n",
       "      <th></th>\n",
       "      <th>X^1</th>\n",
       "      <th>X^2</th>\n",
       "    </tr>\n",
       "  </thead>\n",
       "  <tbody>\n",
       "    <tr>\n",
       "      <td>Obs1</td>\n",
       "      <td>1</td>\n",
       "      <td>1</td>\n",
       "    </tr>\n",
       "    <tr>\n",
       "      <td>Obs4</td>\n",
       "      <td>4</td>\n",
       "      <td>16</td>\n",
       "    </tr>\n",
       "  </tbody>\n",
       "</table>\n",
       "</div>"
      ],
      "text/plain": [
       "      X^1  X^2\n",
       "Obs1    1    1\n",
       "Obs4    4   16"
      ]
     },
     "execution_count": 116,
     "metadata": {},
     "output_type": "execute_result"
    }
   ],
   "source": [
    "new_df"
   ]
  },
  {
   "cell_type": "markdown",
   "metadata": {},
   "source": [
    "--- "
   ]
  },
  {
   "cell_type": "markdown",
   "metadata": {},
   "source": [
    "**Creazione di una colonna indici di tipo Datetime ed implementazione per la creazione di una _Serie temporale_**"
   ]
  },
  {
   "cell_type": "markdown",
   "metadata": {},
   "source": [
    "Se vogliamo inserire indici _temporali_ all'interno della nostra struttura, il _workaround_ è il seguente: "
   ]
  },
  {
   "cell_type": "markdown",
   "metadata": {},
   "source": [
    "**1)** Creazione di un indice-temporale attraverso `pd.date_range(start, [altri parametri])`\n",
    "\n",
    "Dove i parametri (più importanti) della funzione sono: \n",
    "\n",
    "- _start:_ la data di inizio da cui facciamo partire la nostra serie. Tipo che può essere passato: string o Datetime. \n",
    "\n",
    "\n",
    "- _end:_ la data di fine, facoltativa, con cui terminiamo la nostra serie. Tipo che può essere passato: string o Datetime. \n",
    "\n",
    "\n",
    "- _periods:_ numero di periodi, equivalente al numero di osservazioni temporali. Necessario se o _start_ o _end_ è non inserito. Tipo che può essere passato: integer. \n",
    "\n",
    "\n",
    "- _freq:_ la frequenza di osservazione della nostra serie in formato stringa. Tipo che può essere passato: string. \n",
    "\n",
    "In dettaglio, ecco alcuni esempi per quanto riguarda gli _alias_ che possiamo associare a quest'ultimo parametro: \n",
    "\n",
    "Alias|Descrizione\n",
    "---|---\n",
    "'B'|Frequenza Business day \n",
    "'W'|Frequenza settimanale \n",
    "'M'|Frequenza mensile (fine)"
   ]
  },
  {
   "cell_type": "markdown",
   "metadata": {},
   "source": [
    "Implementiamo il tutto nella matrice creata con 100 numeri casuali: "
   ]
  },
  {
   "cell_type": "code",
   "execution_count": 235,
   "metadata": {},
   "outputs": [
    {
     "data": {
      "text/plain": [
       "100"
      ]
     },
     "execution_count": 235,
     "metadata": {},
     "output_type": "execute_result"
    }
   ],
   "source": [
    "len(random_df)"
   ]
  },
  {
   "cell_type": "code",
   "execution_count": 236,
   "metadata": {},
   "outputs": [
    {
     "data": {
      "text/plain": [
       "pandas.core.indexes.datetimes.DatetimeIndex"
      ]
     },
     "execution_count": 236,
     "metadata": {},
     "output_type": "execute_result"
    }
   ],
   "source": [
    "date = pd.date_range(\"2020-01-01\", periods = len(random_df), freq = 'W')\n",
    "type(date)"
   ]
  },
  {
   "cell_type": "markdown",
   "metadata": {},
   "source": [
    "A questo punto, utilizzando il già visto metodo: \n",
    "    "
   ]
  },
  {
   "cell_type": "code",
   "execution_count": 239,
   "metadata": {},
   "outputs": [
    {
     "data": {
      "text/html": [
       "<div>\n",
       "<style scoped>\n",
       "    .dataframe tbody tr th:only-of-type {\n",
       "        vertical-align: middle;\n",
       "    }\n",
       "\n",
       "    .dataframe tbody tr th {\n",
       "        vertical-align: top;\n",
       "    }\n",
       "\n",
       "    .dataframe thead th {\n",
       "        text-align: right;\n",
       "    }\n",
       "</style>\n",
       "<table border=\"1\" class=\"dataframe\">\n",
       "  <thead>\n",
       "    <tr style=\"text-align: right;\">\n",
       "      <th></th>\n",
       "      <th>Sample 1</th>\n",
       "      <th>Sample 2</th>\n",
       "      <th>Sample 3</th>\n",
       "    </tr>\n",
       "  </thead>\n",
       "  <tbody>\n",
       "    <tr>\n",
       "      <td>2020-01-05</td>\n",
       "      <td>0.265802</td>\n",
       "      <td>-1.090967</td>\n",
       "      <td>0.819583</td>\n",
       "    </tr>\n",
       "    <tr>\n",
       "      <td>2020-01-12</td>\n",
       "      <td>-0.191278</td>\n",
       "      <td>-0.443078</td>\n",
       "      <td>-0.255384</td>\n",
       "    </tr>\n",
       "    <tr>\n",
       "      <td>2020-01-19</td>\n",
       "      <td>1.114833</td>\n",
       "      <td>0.301457</td>\n",
       "      <td>-0.860298</td>\n",
       "    </tr>\n",
       "    <tr>\n",
       "      <td>2020-01-26</td>\n",
       "      <td>-0.709857</td>\n",
       "      <td>0.963494</td>\n",
       "      <td>-0.246298</td>\n",
       "    </tr>\n",
       "    <tr>\n",
       "      <td>2020-02-02</td>\n",
       "      <td>-2.266215</td>\n",
       "      <td>1.487246</td>\n",
       "      <td>0.139164</td>\n",
       "    </tr>\n",
       "  </tbody>\n",
       "</table>\n",
       "</div>"
      ],
      "text/plain": [
       "            Sample 1  Sample 2  Sample 3\n",
       "2020-01-05  0.265802 -1.090967  0.819583\n",
       "2020-01-12 -0.191278 -0.443078 -0.255384\n",
       "2020-01-19  1.114833  0.301457 -0.860298\n",
       "2020-01-26 -0.709857  0.963494 -0.246298\n",
       "2020-02-02 -2.266215  1.487246  0.139164"
      ]
     },
     "execution_count": 239,
     "metadata": {},
     "output_type": "execute_result"
    }
   ],
   "source": [
    "random_df.index  = date\n",
    "random_df.head()"
   ]
  },
  {
   "cell_type": "markdown",
   "metadata": {},
   "source": [
    "**2)** Conversione di una sequenza di date espresse in formato stringa attraverso `pd.to_datetime(lista)`\n"
   ]
  },
  {
   "cell_type": "code",
   "execution_count": 148,
   "metadata": {},
   "outputs": [
    {
     "data": {
      "text/plain": [
       "pandas.core.indexes.datetimes.DatetimeIndex"
      ]
     },
     "execution_count": 148,
     "metadata": {},
     "output_type": "execute_result"
    }
   ],
   "source": [
    "data = pd.to_datetime([\"2020-01-01\", \"2020-01-02\"])\n",
    "type(data)"
   ]
  },
  {
   "cell_type": "markdown",
   "metadata": {},
   "source": [
    "Allo stesso modo possiamo sostituire la colonna indici con questa nuova variabile, ricordando che deve esservi coerenza tra lunghezza della nostra struttura dati e la lista che decidiamo di convertire."
   ]
  },
  {
   "cell_type": "markdown",
   "metadata": {},
   "source": [
    "**Adesso** con gli strumenti forniti siamo in grado di estrarre una serie temporale dal nostro dataframe con date nella colonna indice. \n"
   ]
  },
  {
   "cell_type": "code",
   "execution_count": 240,
   "metadata": {},
   "outputs": [],
   "source": [
    "my_series = random_df[\"Sample 1\"]"
   ]
  },
  {
   "cell_type": "code",
   "execution_count": 241,
   "metadata": {},
   "outputs": [
    {
     "data": {
      "text/plain": [
       "2020-01-05    0.265802\n",
       "2020-01-12   -0.191278\n",
       "2020-01-19    1.114833\n",
       "2020-01-26   -0.709857\n",
       "2020-02-02   -2.266215\n",
       "                ...   \n",
       "2021-10-31    1.351386\n",
       "2021-11-07   -0.073087\n",
       "2021-11-14   -0.228059\n",
       "2021-11-21   -1.137214\n",
       "2021-11-28   -1.821791\n",
       "Freq: W-SUN, Name: Sample 1, Length: 100, dtype: float64"
      ]
     },
     "execution_count": 241,
     "metadata": {},
     "output_type": "execute_result"
    }
   ],
   "source": [
    "my_series"
   ]
  },
  {
   "cell_type": "code",
   "execution_count": 242,
   "metadata": {},
   "outputs": [
    {
     "data": {
      "text/plain": [
       "pandas.core.series.Series"
      ]
     },
     "execution_count": 242,
     "metadata": {},
     "output_type": "execute_result"
    }
   ],
   "source": [
    "type(my_series)"
   ]
  },
  {
   "cell_type": "markdown",
   "metadata": {},
   "source": [
    "**Basic Plotting con Pandas** \n",
    "\n",
    "Come detto, Pandas fornisce alcune funzionalità prese direttamente in prestito dal più complesso pacchetto _Matplotlib_ che consentono in poche righe di codice di ottenere semplici grafici. "
   ]
  },
  {
   "cell_type": "code",
   "execution_count": 243,
   "metadata": {},
   "outputs": [
    {
     "data": {
      "text/plain": [
       "<matplotlib.axes._subplots.AxesSubplot at 0x2f5dfbc76c8>"
      ]
     },
     "execution_count": 243,
     "metadata": {},
     "output_type": "execute_result"
    },
    {
     "data": {
      "image/png": "[encoded data removed]",
      "text/plain": [
       "<Figure size 432x288 with 1 Axes>"
      ]
     },
     "metadata": {
      "needs_background": "light"
     },
     "output_type": "display_data"
    }
   ],
   "source": [
    "import matplotlib.pyplot as plt\n",
    "\n",
    "my_series.plot() #Grafico della serie temporale senza alcun dettaglio \n"
   ]
  },
  {
   "cell_type": "markdown",
   "metadata": {},
   "source": [
    "In realtà sono molti i parametri che possono essere inseriti all'interno della funzione `.plot()`, [qui](https://pandas.pydata.org/pandas-docs/stable/user_guide/visualization.html#basic-plotting-plot) la documentazione dettagliata.\n",
    "\n",
    "Ecco per concludere una serie di esempi per estendere quanto mostrato:"
   ]
  },
  {
   "cell_type": "code",
   "execution_count": 244,
   "metadata": {},
   "outputs": [
    {
     "data": {
      "text/plain": [
       "<matplotlib.axes._subplots.AxesSubplot at 0x2f5df9aca08>"
      ]
     },
     "execution_count": 244,
     "metadata": {},
     "output_type": "execute_result"
    },
    {
     "data": {
      "image/png": "[encoded data removed]",
      "text/plain": [
       "<Figure size 576x288 with 1 Axes>"
      ]
     },
     "metadata": {
      "needs_background": "light"
     },
     "output_type": "display_data"
    }
   ],
   "source": [
    "# Plot di un DataFrame\n",
    "\n",
    "random_df.plot(title = \"Grafico dei tre campioni\", lw = 2.0, figsize = (8,4), rot = 20, colormap ='coolwarm', grid = True)"
   ]
  },
  {
   "cell_type": "code",
   "execution_count": 245,
   "metadata": {},
   "outputs": [
    {
     "data": {
      "text/plain": [
       "<matplotlib.axes._subplots.AxesSubplot at 0x2f5dfbc6508>"
      ]
     },
     "execution_count": 245,
     "metadata": {},
     "output_type": "execute_result"
    },
    {
     "data": {
      "image/png": "[encoded data removed]",
      "text/plain": [
       "<Figure size 432x288 with 1 Axes>"
      ]
     },
     "metadata": {
      "needs_background": "light"
     },
     "output_type": "display_data"
    }
   ],
   "source": [
    "my_series.hist(color ='g', bins = 20)"
   ]
  },
  {
   "cell_type": "code",
   "execution_count": 246,
   "metadata": {},
   "outputs": [
    {
     "data": {
      "text/plain": [
       "array([[<matplotlib.axes._subplots.AxesSubplot object at 0x000002F5DFA05F08>,\n",
       "        <matplotlib.axes._subplots.AxesSubplot object at 0x000002F5DFD6BC08>],\n",
       "       [<matplotlib.axes._subplots.AxesSubplot object at 0x000002F5DFDA22C8>,\n",
       "        <matplotlib.axes._subplots.AxesSubplot object at 0x000002F5DFDD7CC8>]],\n",
       "      dtype=object)"
      ]
     },
     "execution_count": 246,
     "metadata": {},
     "output_type": "execute_result"
    },
    {
     "data": {
      "image/png": "[encoded data removed]",
      "text/plain": [
       "<Figure size 720x576 with 4 Axes>"
      ]
     },
     "metadata": {
      "needs_background": "light"
     },
     "output_type": "display_data"
    }
   ],
   "source": [
    "random_df.hist(alpha = 0.25, color = \"g\", grid = True, bins = 25, figsize  = (10,8))"
   ]
  },
  {
   "cell_type": "markdown",
   "metadata": {},
   "source": [
    "**Ricorda** Molti parametri che abbiamo passato all'interno delle funzioni sono esattamente ripresi dall'impostazione che viene seguita attraverso il modulo _Matplotlib_ per questo motivo consigliamo di approfondire la conoscenza relativa ad esso."
   ]
  },
  {
   "cell_type": "markdown",
   "metadata": {},
   "source": [
    "---"
   ]
  },
  {
   "cell_type": "markdown",
   "metadata": {},
   "source": [
    "**Analitica di base con Pandas**\n",
    "\n",
    "Come la classe _NumPy ndarray_ la classe _Pandas DataFrame (e Series)_ ha una moltitudine di metodi _built-in_ in grado di facilitare molte operazioni, implementa la _vettorizzazione_ (che ricordiamo essere la possibilità di effettuare operazioni su tutti o una serie di elementi della struttura senza ricorrere a controlli di flusso) e ultimo ma non per importanza permette l'utilizzazione delle cosìdette _funzioni universali_ appartenenti al pacchetto _NumPy._ \n",
    "\n",
    "Tutte queste caratteristiche rendono intuitiva e semplice l'esecuzione di operazioni di tipo analitico su questi oggetti, vediamo alcuni esempi: "
   ]
  },
  {
   "cell_type": "markdown",
   "metadata": {},
   "source": [
    "**1)** _Built-in methods:_ "
   ]
  },
  {
   "cell_type": "code",
   "execution_count": 247,
   "metadata": {},
   "outputs": [
    {
     "name": "stdout",
     "output_type": "stream",
     "text": [
      "<class 'pandas.core.frame.DataFrame'>\n",
      "DatetimeIndex: 100 entries, 2020-01-05 to 2021-11-28\n",
      "Freq: W-SUN\n",
      "Data columns (total 3 columns):\n",
      "Sample 1    100 non-null float64\n",
      "Sample 2    100 non-null float64\n",
      "Sample 3    100 non-null float64\n",
      "dtypes: float64(3)\n",
      "memory usage: 3.1 KB\n"
     ]
    }
   ],
   "source": [
    "random_df.info()"
   ]
  },
  {
   "cell_type": "markdown",
   "metadata": {},
   "source": [
    "Metodo che fornisce alcune metainformazioni riguardanti i dati, le colonne e gli indici. "
   ]
  },
  {
   "cell_type": "code",
   "execution_count": 250,
   "metadata": {},
   "outputs": [
    {
     "data": {
      "text/html": [
       "<div>\n",
       "<style scoped>\n",
       "    .dataframe tbody tr th:only-of-type {\n",
       "        vertical-align: middle;\n",
       "    }\n",
       "\n",
       "    .dataframe tbody tr th {\n",
       "        vertical-align: top;\n",
       "    }\n",
       "\n",
       "    .dataframe thead th {\n",
       "        text-align: right;\n",
       "    }\n",
       "</style>\n",
       "<table border=\"1\" class=\"dataframe\">\n",
       "  <thead>\n",
       "    <tr style=\"text-align: right;\">\n",
       "      <th></th>\n",
       "      <th>Sample 1</th>\n",
       "      <th>Sample 2</th>\n",
       "      <th>Sample 3</th>\n",
       "    </tr>\n",
       "  </thead>\n",
       "  <tbody>\n",
       "    <tr>\n",
       "      <td>count</td>\n",
       "      <td>100.000000</td>\n",
       "      <td>100.000000</td>\n",
       "      <td>100.000000</td>\n",
       "    </tr>\n",
       "    <tr>\n",
       "      <td>mean</td>\n",
       "      <td>0.114869</td>\n",
       "      <td>-0.198791</td>\n",
       "      <td>0.077372</td>\n",
       "    </tr>\n",
       "    <tr>\n",
       "      <td>std</td>\n",
       "      <td>0.905608</td>\n",
       "      <td>1.067866</td>\n",
       "      <td>1.037089</td>\n",
       "    </tr>\n",
       "    <tr>\n",
       "      <td>min</td>\n",
       "      <td>-2.266215</td>\n",
       "      <td>-2.863280</td>\n",
       "      <td>-2.014875</td>\n",
       "    </tr>\n",
       "    <tr>\n",
       "      <td>25%</td>\n",
       "      <td>-0.301081</td>\n",
       "      <td>-0.928002</td>\n",
       "      <td>-0.578365</td>\n",
       "    </tr>\n",
       "    <tr>\n",
       "      <td>50%</td>\n",
       "      <td>0.111365</td>\n",
       "      <td>-0.174454</td>\n",
       "      <td>0.059475</td>\n",
       "    </tr>\n",
       "    <tr>\n",
       "      <td>75%</td>\n",
       "      <td>0.839607</td>\n",
       "      <td>0.502355</td>\n",
       "      <td>0.868928</td>\n",
       "    </tr>\n",
       "    <tr>\n",
       "      <td>max</td>\n",
       "      <td>1.689329</td>\n",
       "      <td>2.034862</td>\n",
       "      <td>2.769660</td>\n",
       "    </tr>\n",
       "  </tbody>\n",
       "</table>\n",
       "</div>"
      ],
      "text/plain": [
       "         Sample 1    Sample 2    Sample 3\n",
       "count  100.000000  100.000000  100.000000\n",
       "mean     0.114869   -0.198791    0.077372\n",
       "std      0.905608    1.067866    1.037089\n",
       "min     -2.266215   -2.863280   -2.014875\n",
       "25%     -0.301081   -0.928002   -0.578365\n",
       "50%      0.111365   -0.174454    0.059475\n",
       "75%      0.839607    0.502355    0.868928\n",
       "max      1.689329    2.034862    2.769660"
      ]
     },
     "execution_count": 250,
     "metadata": {},
     "output_type": "execute_result"
    }
   ],
   "source": [
    "random_df.describe()"
   ]
  },
  {
   "cell_type": "markdown",
   "metadata": {},
   "source": [
    "Metodo che fornisce una rapido e completo riepilogo di statistiche descrittive (in questo caso per dati di tipo numerico) per ogni singola colonna. \n",
    "\n",
    "Trattandosi di tre campioni di stessa dimensioni con elementi estratti dalla medesima distribuzione di probabilità (una normale standard) possiamo facilmente dedurre come: \n",
    "\n",
    "- La media sia prossima allo zero (risultato più preciso per campioni più ampi). \n",
    "\n",
    "- La deviazione standard sia prossima a 1 (risultato più preciso per campioni più ampi). \n",
    "\n",
    "- Il 50-esimo percentile tende a corrispondere con la media stessa (data la peculiare forma a campana di una distribuzione normale). \n",
    "\n",
    "**Nota** Per colonne contenenti stringhe e non numeri, questo metodo fornisce esclusivamente il valore più frequentemente osservato (la moda) con annessa frequenza. "
   ]
  },
  {
   "cell_type": "code",
   "execution_count": 258,
   "metadata": {},
   "outputs": [
    {
     "data": {
      "text/plain": [
       "Sample 1    11.486889\n",
       "Sample 2   -19.879065\n",
       "Sample 3     7.737223\n",
       "dtype: float64"
      ]
     },
     "execution_count": 258,
     "metadata": {},
     "output_type": "execute_result"
    }
   ],
   "source": [
    "random_df.sum() #Di default axis = 0, somma di tutti gli elementi sulle singole colonne (mi muovo lungo le righe). "
   ]
  },
  {
   "cell_type": "code",
   "execution_count": 259,
   "metadata": {},
   "outputs": [
    {
     "data": {
      "text/plain": [
       "Sample 1    11.486889\n",
       "Sample 2   -19.879065\n",
       "Sample 3     7.737223\n",
       "dtype: float64"
      ]
     },
     "execution_count": 259,
     "metadata": {},
     "output_type": "execute_result"
    }
   ],
   "source": [
    "random_df.sum(axis = 0)"
   ]
  },
  {
   "cell_type": "code",
   "execution_count": 260,
   "metadata": {},
   "outputs": [
    {
     "data": {
      "text/plain": [
       "2020-01-05   -0.005583\n",
       "2020-01-12   -0.889741\n",
       "2020-01-19    0.555992\n",
       "2020-01-26    0.007338\n",
       "2020-02-02   -0.639805\n",
       "                ...   \n",
       "2021-10-31    3.504249\n",
       "2021-11-07   -2.463069\n",
       "2021-11-14   -2.334206\n",
       "2021-11-21   -3.674331\n",
       "2021-11-28   -1.655309\n",
       "Freq: W-SUN, Length: 100, dtype: float64"
      ]
     },
     "execution_count": 260,
     "metadata": {},
     "output_type": "execute_result"
    }
   ],
   "source": [
    "random_df.sum(axis=1)"
   ]
  },
  {
   "cell_type": "code",
   "execution_count": 261,
   "metadata": {},
   "outputs": [
    {
     "data": {
      "text/plain": [
       "Sample 1    0.114869\n",
       "Sample 2   -0.198791\n",
       "Sample 3    0.077372\n",
       "dtype: float64"
      ]
     },
     "execution_count": 261,
     "metadata": {},
     "output_type": "execute_result"
    }
   ],
   "source": [
    "random_df.mean()"
   ]
  },
  {
   "cell_type": "code",
   "execution_count": 262,
   "metadata": {},
   "outputs": [
    {
     "data": {
      "text/plain": [
       "Sample 1   -2.266215\n",
       "Sample 2   -2.863280\n",
       "Sample 3   -2.014875\n",
       "dtype: float64"
      ]
     },
     "execution_count": 262,
     "metadata": {},
     "output_type": "execute_result"
    }
   ],
   "source": [
    "random_df.min()"
   ]
  },
  {
   "cell_type": "code",
   "execution_count": 263,
   "metadata": {},
   "outputs": [
    {
     "data": {
      "text/plain": [
       "Sample 1    1.689329\n",
       "Sample 2    2.034862\n",
       "Sample 3    2.769660\n",
       "dtype: float64"
      ]
     },
     "execution_count": 263,
     "metadata": {},
     "output_type": "execute_result"
    }
   ],
   "source": [
    "random_df.max()"
   ]
  },
  {
   "cell_type": "code",
   "execution_count": 264,
   "metadata": {},
   "outputs": [
    {
     "data": {
      "text/html": [
       "<div>\n",
       "<style scoped>\n",
       "    .dataframe tbody tr th:only-of-type {\n",
       "        vertical-align: middle;\n",
       "    }\n",
       "\n",
       "    .dataframe tbody tr th {\n",
       "        vertical-align: top;\n",
       "    }\n",
       "\n",
       "    .dataframe thead th {\n",
       "        text-align: right;\n",
       "    }\n",
       "</style>\n",
       "<table border=\"1\" class=\"dataframe\">\n",
       "  <thead>\n",
       "    <tr style=\"text-align: right;\">\n",
       "      <th></th>\n",
       "      <th>Sample 1</th>\n",
       "      <th>Sample 2</th>\n",
       "      <th>Sample 3</th>\n",
       "    </tr>\n",
       "  </thead>\n",
       "  <tbody>\n",
       "    <tr>\n",
       "      <td>2020-01-05</td>\n",
       "      <td>0.265802</td>\n",
       "      <td>-1.090967</td>\n",
       "      <td>0.819583</td>\n",
       "    </tr>\n",
       "    <tr>\n",
       "      <td>2020-01-12</td>\n",
       "      <td>0.074523</td>\n",
       "      <td>-1.534045</td>\n",
       "      <td>0.564198</td>\n",
       "    </tr>\n",
       "    <tr>\n",
       "      <td>2020-01-19</td>\n",
       "      <td>1.189357</td>\n",
       "      <td>-1.232588</td>\n",
       "      <td>-0.296100</td>\n",
       "    </tr>\n",
       "    <tr>\n",
       "      <td>2020-01-26</td>\n",
       "      <td>0.479499</td>\n",
       "      <td>-0.269094</td>\n",
       "      <td>-0.542398</td>\n",
       "    </tr>\n",
       "    <tr>\n",
       "      <td>2020-02-02</td>\n",
       "      <td>-1.786715</td>\n",
       "      <td>1.218151</td>\n",
       "      <td>-0.403234</td>\n",
       "    </tr>\n",
       "    <tr>\n",
       "      <td>...</td>\n",
       "      <td>...</td>\n",
       "      <td>...</td>\n",
       "      <td>...</td>\n",
       "    </tr>\n",
       "    <tr>\n",
       "      <td>2021-10-31</td>\n",
       "      <td>14.747039</td>\n",
       "      <td>-16.806411</td>\n",
       "      <td>11.531333</td>\n",
       "    </tr>\n",
       "    <tr>\n",
       "      <td>2021-11-07</td>\n",
       "      <td>14.673952</td>\n",
       "      <td>-18.937934</td>\n",
       "      <td>11.272874</td>\n",
       "    </tr>\n",
       "    <tr>\n",
       "      <td>2021-11-14</td>\n",
       "      <td>14.445894</td>\n",
       "      <td>-19.122430</td>\n",
       "      <td>9.351222</td>\n",
       "    </tr>\n",
       "    <tr>\n",
       "      <td>2021-11-21</td>\n",
       "      <td>13.308680</td>\n",
       "      <td>-20.880856</td>\n",
       "      <td>8.572532</td>\n",
       "    </tr>\n",
       "    <tr>\n",
       "      <td>2021-11-28</td>\n",
       "      <td>11.486889</td>\n",
       "      <td>-19.879065</td>\n",
       "      <td>7.737223</td>\n",
       "    </tr>\n",
       "  </tbody>\n",
       "</table>\n",
       "<p>100 rows × 3 columns</p>\n",
       "</div>"
      ],
      "text/plain": [
       "             Sample 1   Sample 2   Sample 3\n",
       "2020-01-05   0.265802  -1.090967   0.819583\n",
       "2020-01-12   0.074523  -1.534045   0.564198\n",
       "2020-01-19   1.189357  -1.232588  -0.296100\n",
       "2020-01-26   0.479499  -0.269094  -0.542398\n",
       "2020-02-02  -1.786715   1.218151  -0.403234\n",
       "...               ...        ...        ...\n",
       "2021-10-31  14.747039 -16.806411  11.531333\n",
       "2021-11-07  14.673952 -18.937934  11.272874\n",
       "2021-11-14  14.445894 -19.122430   9.351222\n",
       "2021-11-21  13.308680 -20.880856   8.572532\n",
       "2021-11-28  11.486889 -19.879065   7.737223\n",
       "\n",
       "[100 rows x 3 columns]"
      ]
     },
     "execution_count": 264,
     "metadata": {},
     "output_type": "execute_result"
    }
   ],
   "source": [
    "random_df.cumsum()"
   ]
  },
  {
   "cell_type": "markdown",
   "metadata": {},
   "source": [
    "**2)** Vettorizzazione di operazioni\n",
    "\n",
    "Attraverso questo paradigma posso eseguire singole operazioni su tutti/ o su un gruppo di elementi appartenenti alla struttura completa (o su una sua parte) senza dover ricorrere a controlli di flusso. \n",
    "\n",
    "Per chiarire la logica andremo a _normalizzare_ la matrice fin'ora utilizzata: con questa procedura convertiamo una qualsiasi distribuzione in una nuova versione con valori associati nell'intervallo [0:1] (ogni distribuzione può essere normalizzata). "
   ]
  },
  {
   "cell_type": "markdown",
   "metadata": {},
   "source": [
    "Sappiamo, dal riepilogo descrittivo, che le tre distribuzioni hanno rispettivamente specifici minimi e massimi valori, sulla base di questo possiamo proseguire nella seguente maniera."
   ]
  },
  {
   "cell_type": "code",
   "execution_count": 265,
   "metadata": {},
   "outputs": [],
   "source": [
    "df_normalizzato = random_df"
   ]
  },
  {
   "cell_type": "code",
   "execution_count": 267,
   "metadata": {},
   "outputs": [],
   "source": [
    "for i in range(df_normalizzato.shape[1]):\n",
    "    \n",
    "    df_normalizzato[df_normalizzato.columns[i]] =   (df_normalizzato[df_normalizzato.columns[i]]- df_normalizzato.min()[i])\\\n",
    "    /(df_normalizzato.max()[i]-df_normalizzato.min()[i])"
   ]
  },
  {
   "cell_type": "code",
   "execution_count": 294,
   "metadata": {},
   "outputs": [
    {
     "data": {
      "text/html": [
       "<div>\n",
       "<style scoped>\n",
       "    .dataframe tbody tr th:only-of-type {\n",
       "        vertical-align: middle;\n",
       "    }\n",
       "\n",
       "    .dataframe tbody tr th {\n",
       "        vertical-align: top;\n",
       "    }\n",
       "\n",
       "    .dataframe thead th {\n",
       "        text-align: right;\n",
       "    }\n",
       "</style>\n",
       "<table border=\"1\" class=\"dataframe\">\n",
       "  <thead>\n",
       "    <tr style=\"text-align: right;\">\n",
       "      <th></th>\n",
       "      <th>Sample 1</th>\n",
       "      <th>Sample 2</th>\n",
       "      <th>Sample 3</th>\n",
       "    </tr>\n",
       "  </thead>\n",
       "  <tbody>\n",
       "    <tr>\n",
       "      <td>2020-01-05</td>\n",
       "      <td>0.640118</td>\n",
       "      <td>0.361834</td>\n",
       "      <td>0.592421</td>\n",
       "    </tr>\n",
       "    <tr>\n",
       "      <td>2020-01-12</td>\n",
       "      <td>0.524564</td>\n",
       "      <td>0.494106</td>\n",
       "      <td>0.367745</td>\n",
       "    </tr>\n",
       "    <tr>\n",
       "      <td>2020-01-19</td>\n",
       "      <td>0.854762</td>\n",
       "      <td>0.646110</td>\n",
       "      <td>0.241314</td>\n",
       "    </tr>\n",
       "    <tr>\n",
       "      <td>2020-01-26</td>\n",
       "      <td>0.393462</td>\n",
       "      <td>0.781270</td>\n",
       "      <td>0.369644</td>\n",
       "    </tr>\n",
       "    <tr>\n",
       "      <td>2020-02-02</td>\n",
       "      <td>0.000000</td>\n",
       "      <td>0.888199</td>\n",
       "      <td>0.450209</td>\n",
       "    </tr>\n",
       "    <tr>\n",
       "      <td>...</td>\n",
       "      <td>...</td>\n",
       "      <td>...</td>\n",
       "      <td>...</td>\n",
       "    </tr>\n",
       "    <tr>\n",
       "      <td>2021-10-31</td>\n",
       "      <td>0.914565</td>\n",
       "      <td>0.730875</td>\n",
       "      <td>0.721301</td>\n",
       "    </tr>\n",
       "    <tr>\n",
       "      <td>2021-11-07</td>\n",
       "      <td>0.554444</td>\n",
       "      <td>0.149395</td>\n",
       "      <td>0.367103</td>\n",
       "    </tr>\n",
       "    <tr>\n",
       "      <td>2021-11-14</td>\n",
       "      <td>0.515266</td>\n",
       "      <td>0.546898</td>\n",
       "      <td>0.019484</td>\n",
       "    </tr>\n",
       "    <tr>\n",
       "      <td>2021-11-21</td>\n",
       "      <td>0.285422</td>\n",
       "      <td>0.225566</td>\n",
       "      <td>0.258371</td>\n",
       "    </tr>\n",
       "    <tr>\n",
       "      <td>2021-11-28</td>\n",
       "      <td>0.112355</td>\n",
       "      <td>0.789089</td>\n",
       "      <td>0.246537</td>\n",
       "    </tr>\n",
       "  </tbody>\n",
       "</table>\n",
       "<p>100 rows × 3 columns</p>\n",
       "</div>"
      ],
      "text/plain": [
       "            Sample 1  Sample 2  Sample 3\n",
       "2020-01-05  0.640118  0.361834  0.592421\n",
       "2020-01-12  0.524564  0.494106  0.367745\n",
       "2020-01-19  0.854762  0.646110  0.241314\n",
       "2020-01-26  0.393462  0.781270  0.369644\n",
       "2020-02-02  0.000000  0.888199  0.450209\n",
       "...              ...       ...       ...\n",
       "2021-10-31  0.914565  0.730875  0.721301\n",
       "2021-11-07  0.554444  0.149395  0.367103\n",
       "2021-11-14  0.515266  0.546898  0.019484\n",
       "2021-11-21  0.285422  0.225566  0.258371\n",
       "2021-11-28  0.112355  0.789089  0.246537\n",
       "\n",
       "[100 rows x 3 columns]"
      ]
     },
     "execution_count": 294,
     "metadata": {},
     "output_type": "execute_result"
    }
   ],
   "source": [
    "df_normalizzato"
   ]
  },
  {
   "cell_type": "code",
   "execution_count": 276,
   "metadata": {},
   "outputs": [
    {
     "data": {
      "text/html": [
       "<div>\n",
       "<style scoped>\n",
       "    .dataframe tbody tr th:only-of-type {\n",
       "        vertical-align: middle;\n",
       "    }\n",
       "\n",
       "    .dataframe tbody tr th {\n",
       "        vertical-align: top;\n",
       "    }\n",
       "\n",
       "    .dataframe thead th {\n",
       "        text-align: right;\n",
       "    }\n",
       "</style>\n",
       "<table border=\"1\" class=\"dataframe\">\n",
       "  <thead>\n",
       "    <tr style=\"text-align: right;\">\n",
       "      <th></th>\n",
       "      <th>Sample 1</th>\n",
       "      <th>Sample 2</th>\n",
       "      <th>Sample 3</th>\n",
       "    </tr>\n",
       "  </thead>\n",
       "  <tbody>\n",
       "    <tr>\n",
       "      <td>count</td>\n",
       "      <td>100.000000</td>\n",
       "      <td>100.000000</td>\n",
       "      <td>100.000000</td>\n",
       "    </tr>\n",
       "    <tr>\n",
       "      <td>mean</td>\n",
       "      <td>0.601961</td>\n",
       "      <td>0.543980</td>\n",
       "      <td>0.437294</td>\n",
       "    </tr>\n",
       "    <tr>\n",
       "      <td>std</td>\n",
       "      <td>0.228947</td>\n",
       "      <td>0.218015</td>\n",
       "      <td>0.216758</td>\n",
       "    </tr>\n",
       "    <tr>\n",
       "      <td>min</td>\n",
       "      <td>0.000000</td>\n",
       "      <td>0.000000</td>\n",
       "      <td>0.000000</td>\n",
       "    </tr>\n",
       "    <tr>\n",
       "      <td>25%</td>\n",
       "      <td>0.496805</td>\n",
       "      <td>0.395104</td>\n",
       "      <td>0.300240</td>\n",
       "    </tr>\n",
       "    <tr>\n",
       "      <td>50%</td>\n",
       "      <td>0.601075</td>\n",
       "      <td>0.548948</td>\n",
       "      <td>0.433553</td>\n",
       "    </tr>\n",
       "    <tr>\n",
       "      <td>75%</td>\n",
       "      <td>0.785182</td>\n",
       "      <td>0.687125</td>\n",
       "      <td>0.602734</td>\n",
       "    </tr>\n",
       "    <tr>\n",
       "      <td>max</td>\n",
       "      <td>1.000000</td>\n",
       "      <td>1.000000</td>\n",
       "      <td>1.000000</td>\n",
       "    </tr>\n",
       "  </tbody>\n",
       "</table>\n",
       "</div>"
      ],
      "text/plain": [
       "         Sample 1    Sample 2    Sample 3\n",
       "count  100.000000  100.000000  100.000000\n",
       "mean     0.601961    0.543980    0.437294\n",
       "std      0.228947    0.218015    0.216758\n",
       "min      0.000000    0.000000    0.000000\n",
       "25%      0.496805    0.395104    0.300240\n",
       "50%      0.601075    0.548948    0.433553\n",
       "75%      0.785182    0.687125    0.602734\n",
       "max      1.000000    1.000000    1.000000"
      ]
     },
     "execution_count": 276,
     "metadata": {},
     "output_type": "execute_result"
    }
   ],
   "source": [
    "df_normalizzato.describe()"
   ]
  },
  {
   "cell_type": "code",
   "execution_count": 278,
   "metadata": {},
   "outputs": [
    {
     "data": {
      "text/plain": [
       "array([[<matplotlib.axes._subplots.AxesSubplot object at 0x000002F5E0050D48>,\n",
       "        <matplotlib.axes._subplots.AxesSubplot object at 0x000002F5E0088C88>],\n",
       "       [<matplotlib.axes._subplots.AxesSubplot object at 0x000002F5DFE9AC08>,\n",
       "        <matplotlib.axes._subplots.AxesSubplot object at 0x000002F5DFED21C8>]],\n",
       "      dtype=object)"
      ]
     },
     "execution_count": 278,
     "metadata": {},
     "output_type": "execute_result"
    },
    {
     "data": {
      "image/png": "[encoded data removed]",
      "text/plain": [
       "<Figure size 432x288 with 4 Axes>"
      ]
     },
     "metadata": {
      "needs_background": "light"
     },
     "output_type": "display_data"
    }
   ],
   "source": [
    "df_normalizzato.hist()"
   ]
  },
  {
   "cell_type": "markdown",
   "metadata": {},
   "source": [
    "**3)** Interoperabilità con le funzioni \"universali\" del modulo Numpy. "
   ]
  },
  {
   "cell_type": "code",
   "execution_count": 274,
   "metadata": {},
   "outputs": [
    {
     "data": {
      "text/plain": [
       "Sample 1    0.601961\n",
       "Sample 2    0.543980\n",
       "Sample 3    0.437294\n",
       "dtype: float64"
      ]
     },
     "execution_count": 274,
     "metadata": {},
     "output_type": "execute_result"
    }
   ],
   "source": [
    "import numpy as np \n",
    "\n",
    "np.mean(df_normalizzato)"
   ]
  },
  {
   "cell_type": "code",
   "execution_count": 275,
   "metadata": {},
   "outputs": [
    {
     "data": {
      "text/html": [
       "<div>\n",
       "<style scoped>\n",
       "    .dataframe tbody tr th:only-of-type {\n",
       "        vertical-align: middle;\n",
       "    }\n",
       "\n",
       "    .dataframe tbody tr th {\n",
       "        vertical-align: top;\n",
       "    }\n",
       "\n",
       "    .dataframe thead th {\n",
       "        text-align: right;\n",
       "    }\n",
       "</style>\n",
       "<table border=\"1\" class=\"dataframe\">\n",
       "  <thead>\n",
       "    <tr style=\"text-align: right;\">\n",
       "      <th></th>\n",
       "      <th>Sample 1</th>\n",
       "      <th>Sample 2</th>\n",
       "      <th>Sample 3</th>\n",
       "    </tr>\n",
       "  </thead>\n",
       "  <tbody>\n",
       "    <tr>\n",
       "      <td>2020-01-05</td>\n",
       "      <td>1.896705</td>\n",
       "      <td>1.435960</td>\n",
       "      <td>1.808361</td>\n",
       "    </tr>\n",
       "    <tr>\n",
       "      <td>2020-01-12</td>\n",
       "      <td>1.689722</td>\n",
       "      <td>1.639032</td>\n",
       "      <td>1.444474</td>\n",
       "    </tr>\n",
       "    <tr>\n",
       "      <td>2020-01-19</td>\n",
       "      <td>2.350814</td>\n",
       "      <td>1.908103</td>\n",
       "      <td>1.272921</td>\n",
       "    </tr>\n",
       "    <tr>\n",
       "      <td>2020-01-26</td>\n",
       "      <td>1.482103</td>\n",
       "      <td>2.184245</td>\n",
       "      <td>1.447220</td>\n",
       "    </tr>\n",
       "    <tr>\n",
       "      <td>2020-02-02</td>\n",
       "      <td>1.000000</td>\n",
       "      <td>2.430748</td>\n",
       "      <td>1.568639</td>\n",
       "    </tr>\n",
       "    <tr>\n",
       "      <td>...</td>\n",
       "      <td>...</td>\n",
       "      <td>...</td>\n",
       "      <td>...</td>\n",
       "    </tr>\n",
       "    <tr>\n",
       "      <td>2021-10-31</td>\n",
       "      <td>2.495689</td>\n",
       "      <td>2.076897</td>\n",
       "      <td>2.057107</td>\n",
       "    </tr>\n",
       "    <tr>\n",
       "      <td>2021-11-07</td>\n",
       "      <td>1.740973</td>\n",
       "      <td>1.161131</td>\n",
       "      <td>1.443546</td>\n",
       "    </tr>\n",
       "    <tr>\n",
       "      <td>2021-11-14</td>\n",
       "      <td>1.674083</td>\n",
       "      <td>1.727885</td>\n",
       "      <td>1.019675</td>\n",
       "    </tr>\n",
       "    <tr>\n",
       "      <td>2021-11-21</td>\n",
       "      <td>1.330324</td>\n",
       "      <td>1.253031</td>\n",
       "      <td>1.294819</td>\n",
       "    </tr>\n",
       "    <tr>\n",
       "      <td>2021-11-28</td>\n",
       "      <td>1.118910</td>\n",
       "      <td>2.201391</td>\n",
       "      <td>1.279587</td>\n",
       "    </tr>\n",
       "  </tbody>\n",
       "</table>\n",
       "<p>100 rows × 3 columns</p>\n",
       "</div>"
      ],
      "text/plain": [
       "            Sample 1  Sample 2  Sample 3\n",
       "2020-01-05  1.896705  1.435960  1.808361\n",
       "2020-01-12  1.689722  1.639032  1.444474\n",
       "2020-01-19  2.350814  1.908103  1.272921\n",
       "2020-01-26  1.482103  2.184245  1.447220\n",
       "2020-02-02  1.000000  2.430748  1.568639\n",
       "...              ...       ...       ...\n",
       "2021-10-31  2.495689  2.076897  2.057107\n",
       "2021-11-07  1.740973  1.161131  1.443546\n",
       "2021-11-14  1.674083  1.727885  1.019675\n",
       "2021-11-21  1.330324  1.253031  1.294819\n",
       "2021-11-28  1.118910  2.201391  1.279587\n",
       "\n",
       "[100 rows x 3 columns]"
      ]
     },
     "execution_count": 275,
     "metadata": {},
     "output_type": "execute_result"
    }
   ],
   "source": [
    "np.exp(df_normalizzato)"
   ]
  },
  {
   "cell_type": "markdown",
   "metadata": {},
   "source": [
    "---"
   ]
  },
  {
   "cell_type": "markdown",
   "metadata": {},
   "source": [
    "**B) Creazione di un dataframe utilizzando un dataset già preesistente** "
   ]
  },
  {
   "cell_type": "markdown",
   "metadata": {},
   "source": [
    "In alternativa, possiamo convertire un dataset già presente nella nostra macchina (ad esempio in formato .csv o .xlsx) attraverso una semplice procedura. \n",
    "\n",
    "Il modulo Pandas possiede infatti delle utili funzioni per poter ottenere delle strutture a partire da file in formato .csv o .xlsx: \n",
    "\n",
    "- `pd.read_csv(\"Nome_file.estensione\", [altri parametri])`:per ottenere dataframe a partire da file con estensione `.csv`. [Qui](https://pandas.pydata.org/pandas-docs/stable/reference/api/pandas.read_csv.html) dettagli.\n",
    "\n",
    "\n",
    "- `pd.read_excel(\"Nome_file.estensione\", [altri parametri])`: per ottenere dataframe a partire da file con estensione `.xlsx`. [Qui](https://pandas.pydata.org/pandas-docs/stable/reference/api/pandas.read_excel.html) dettagli. \n",
    "\n"
   ]
  },
  {
   "cell_type": "markdown",
   "metadata": {},
   "source": [
    "Andremo ad utilizzare un file già presente sulla pagina GitHub dedicata al corso: "
   ]
  },
  {
   "cell_type": "code",
   "execution_count": 290,
   "metadata": {
    "scrolled": true
   },
   "outputs": [],
   "source": [
    "df_1 = pd.read_excel(io = \"./dataset/dataset_incidenti.xlsx\")\n"
   ]
  },
  {
   "cell_type": "code",
   "execution_count": 291,
   "metadata": {},
   "outputs": [
    {
     "data": {
      "text/html": [
       "<div>\n",
       "<style scoped>\n",
       "    .dataframe tbody tr th:only-of-type {\n",
       "        vertical-align: middle;\n",
       "    }\n",
       "\n",
       "    .dataframe tbody tr th {\n",
       "        vertical-align: top;\n",
       "    }\n",
       "\n",
       "    .dataframe thead th {\n",
       "        text-align: right;\n",
       "    }\n",
       "</style>\n",
       "<table border=\"1\" class=\"dataframe\">\n",
       "  <thead>\n",
       "    <tr style=\"text-align: right;\">\n",
       "      <th></th>\n",
       "      <th>Anno</th>\n",
       "      <th>Numero di auto in Italia (mln)</th>\n",
       "      <th>Numero di incidenti (mln)</th>\n",
       "    </tr>\n",
       "  </thead>\n",
       "  <tbody>\n",
       "    <tr>\n",
       "      <td>0</td>\n",
       "      <td>2010</td>\n",
       "      <td>1.0</td>\n",
       "      <td>0.020</td>\n",
       "    </tr>\n",
       "    <tr>\n",
       "      <td>1</td>\n",
       "      <td>2011</td>\n",
       "      <td>1.1</td>\n",
       "      <td>0.022</td>\n",
       "    </tr>\n",
       "    <tr>\n",
       "      <td>2</td>\n",
       "      <td>2012</td>\n",
       "      <td>0.9</td>\n",
       "      <td>0.020</td>\n",
       "    </tr>\n",
       "    <tr>\n",
       "      <td>3</td>\n",
       "      <td>2013</td>\n",
       "      <td>1.2</td>\n",
       "      <td>0.023</td>\n",
       "    </tr>\n",
       "    <tr>\n",
       "      <td>4</td>\n",
       "      <td>2014</td>\n",
       "      <td>1.4</td>\n",
       "      <td>0.021</td>\n",
       "    </tr>\n",
       "    <tr>\n",
       "      <td>5</td>\n",
       "      <td>2015</td>\n",
       "      <td>1.5</td>\n",
       "      <td>0.022</td>\n",
       "    </tr>\n",
       "    <tr>\n",
       "      <td>6</td>\n",
       "      <td>2016</td>\n",
       "      <td>1.8</td>\n",
       "      <td>0.024</td>\n",
       "    </tr>\n",
       "    <tr>\n",
       "      <td>7</td>\n",
       "      <td>2017</td>\n",
       "      <td>2.2</td>\n",
       "      <td>0.025</td>\n",
       "    </tr>\n",
       "    <tr>\n",
       "      <td>8</td>\n",
       "      <td>2018</td>\n",
       "      <td>2.5</td>\n",
       "      <td>0.025</td>\n",
       "    </tr>\n",
       "    <tr>\n",
       "      <td>9</td>\n",
       "      <td>2019</td>\n",
       "      <td>2.7</td>\n",
       "      <td>0.026</td>\n",
       "    </tr>\n",
       "    <tr>\n",
       "      <td>10</td>\n",
       "      <td>2020</td>\n",
       "      <td>3.0</td>\n",
       "      <td>0.027</td>\n",
       "    </tr>\n",
       "  </tbody>\n",
       "</table>\n",
       "</div>"
      ],
      "text/plain": [
       "    Anno  Numero di auto in Italia (mln)  Numero di incidenti (mln)\n",
       "0   2010                             1.0                      0.020\n",
       "1   2011                             1.1                      0.022\n",
       "2   2012                             0.9                      0.020\n",
       "3   2013                             1.2                      0.023\n",
       "4   2014                             1.4                      0.021\n",
       "5   2015                             1.5                      0.022\n",
       "6   2016                             1.8                      0.024\n",
       "7   2017                             2.2                      0.025\n",
       "8   2018                             2.5                      0.025\n",
       "9   2019                             2.7                      0.026\n",
       "10  2020                             3.0                      0.027"
      ]
     },
     "execution_count": 291,
     "metadata": {},
     "output_type": "execute_result"
    }
   ],
   "source": [
    "df_1"
   ]
  },
  {
   "cell_type": "code",
   "execution_count": 293,
   "metadata": {},
   "outputs": [
    {
     "data": {
      "text/html": [
       "<div>\n",
       "<style scoped>\n",
       "    .dataframe tbody tr th:only-of-type {\n",
       "        vertical-align: middle;\n",
       "    }\n",
       "\n",
       "    .dataframe tbody tr th {\n",
       "        vertical-align: top;\n",
       "    }\n",
       "\n",
       "    .dataframe thead th {\n",
       "        text-align: right;\n",
       "    }\n",
       "</style>\n",
       "<table border=\"1\" class=\"dataframe\">\n",
       "  <thead>\n",
       "    <tr style=\"text-align: right;\">\n",
       "      <th></th>\n",
       "      <th>Numero di auto in Italia (mln)</th>\n",
       "      <th>Numero di incidenti (mln)</th>\n",
       "    </tr>\n",
       "    <tr>\n",
       "      <th>Anno</th>\n",
       "      <th></th>\n",
       "      <th></th>\n",
       "    </tr>\n",
       "  </thead>\n",
       "  <tbody>\n",
       "    <tr>\n",
       "      <td>2010</td>\n",
       "      <td>1.0</td>\n",
       "      <td>0.020</td>\n",
       "    </tr>\n",
       "    <tr>\n",
       "      <td>2011</td>\n",
       "      <td>1.1</td>\n",
       "      <td>0.022</td>\n",
       "    </tr>\n",
       "    <tr>\n",
       "      <td>2012</td>\n",
       "      <td>0.9</td>\n",
       "      <td>0.020</td>\n",
       "    </tr>\n",
       "    <tr>\n",
       "      <td>2013</td>\n",
       "      <td>1.2</td>\n",
       "      <td>0.023</td>\n",
       "    </tr>\n",
       "    <tr>\n",
       "      <td>2014</td>\n",
       "      <td>1.4</td>\n",
       "      <td>0.021</td>\n",
       "    </tr>\n",
       "    <tr>\n",
       "      <td>2015</td>\n",
       "      <td>1.5</td>\n",
       "      <td>0.022</td>\n",
       "    </tr>\n",
       "    <tr>\n",
       "      <td>2016</td>\n",
       "      <td>1.8</td>\n",
       "      <td>0.024</td>\n",
       "    </tr>\n",
       "    <tr>\n",
       "      <td>2017</td>\n",
       "      <td>2.2</td>\n",
       "      <td>0.025</td>\n",
       "    </tr>\n",
       "    <tr>\n",
       "      <td>2018</td>\n",
       "      <td>2.5</td>\n",
       "      <td>0.025</td>\n",
       "    </tr>\n",
       "    <tr>\n",
       "      <td>2019</td>\n",
       "      <td>2.7</td>\n",
       "      <td>0.026</td>\n",
       "    </tr>\n",
       "    <tr>\n",
       "      <td>2020</td>\n",
       "      <td>3.0</td>\n",
       "      <td>0.027</td>\n",
       "    </tr>\n",
       "  </tbody>\n",
       "</table>\n",
       "</div>"
      ],
      "text/plain": [
       "      Numero di auto in Italia (mln)  Numero di incidenti (mln)\n",
       "Anno                                                           \n",
       "2010                             1.0                      0.020\n",
       "2011                             1.1                      0.022\n",
       "2012                             0.9                      0.020\n",
       "2013                             1.2                      0.023\n",
       "2014                             1.4                      0.021\n",
       "2015                             1.5                      0.022\n",
       "2016                             1.8                      0.024\n",
       "2017                             2.2                      0.025\n",
       "2018                             2.5                      0.025\n",
       "2019                             2.7                      0.026\n",
       "2020                             3.0                      0.027"
      ]
     },
     "execution_count": 293,
     "metadata": {},
     "output_type": "execute_result"
    }
   ],
   "source": [
    "df_1 = pd.read_excel(io = \"./dataset/dataset_incidenti.xlsx\", index_col=\"Anno\")\n",
    "df_1"
   ]
  },
  {
   "cell_type": "markdown",
   "metadata": {},
   "source": [
    "---"
   ]
  },
  {
   "cell_type": "markdown",
   "metadata": {},
   "source": [
    "## Indexing, Slicing e selezione con condizione.\n",
    "\n",
    "Andiamo adesso a fornire qualche esempio sulle varie possibilità che abbiamo per accedere a specifici elementi di un DataFrame. \n",
    "\n"
   ]
  },
  {
   "cell_type": "markdown",
   "metadata": {},
   "source": [
    "**Selezione di colonne attraverso l'operatore `[ ]`**\n",
    "\n",
    "Operazione|Sintassi|\n",
    "---|---\n",
    "Selezione di 1 colonna | **df[\"Nome colonna\"]**\n",
    "Selezione di più colonne | **df[[Lista di \"Nomi colonne\"]**"
   ]
  },
  {
   "cell_type": "code",
   "execution_count": 295,
   "metadata": {},
   "outputs": [
    {
     "data": {
      "text/plain": [
       "2020-01-05    0.640118\n",
       "2020-01-12    0.524564\n",
       "2020-01-19    0.854762\n",
       "2020-01-26    0.393462\n",
       "2020-02-02    0.000000\n",
       "                ...   \n",
       "2021-10-31    0.914565\n",
       "2021-11-07    0.554444\n",
       "2021-11-14    0.515266\n",
       "2021-11-21    0.285422\n",
       "2021-11-28    0.112355\n",
       "Freq: W-SUN, Name: Sample 1, Length: 100, dtype: float64"
      ]
     },
     "execution_count": 295,
     "metadata": {},
     "output_type": "execute_result"
    }
   ],
   "source": [
    "df_normalizzato[\"Sample 1\"]"
   ]
  },
  {
   "cell_type": "code",
   "execution_count": 297,
   "metadata": {},
   "outputs": [
    {
     "data": {
      "text/html": [
       "<div>\n",
       "<style scoped>\n",
       "    .dataframe tbody tr th:only-of-type {\n",
       "        vertical-align: middle;\n",
       "    }\n",
       "\n",
       "    .dataframe tbody tr th {\n",
       "        vertical-align: top;\n",
       "    }\n",
       "\n",
       "    .dataframe thead th {\n",
       "        text-align: right;\n",
       "    }\n",
       "</style>\n",
       "<table border=\"1\" class=\"dataframe\">\n",
       "  <thead>\n",
       "    <tr style=\"text-align: right;\">\n",
       "      <th></th>\n",
       "      <th>Sample 1</th>\n",
       "      <th>Sample 3</th>\n",
       "    </tr>\n",
       "  </thead>\n",
       "  <tbody>\n",
       "    <tr>\n",
       "      <td>2020-01-05</td>\n",
       "      <td>0.640118</td>\n",
       "      <td>0.592421</td>\n",
       "    </tr>\n",
       "    <tr>\n",
       "      <td>2020-01-12</td>\n",
       "      <td>0.524564</td>\n",
       "      <td>0.367745</td>\n",
       "    </tr>\n",
       "    <tr>\n",
       "      <td>2020-01-19</td>\n",
       "      <td>0.854762</td>\n",
       "      <td>0.241314</td>\n",
       "    </tr>\n",
       "    <tr>\n",
       "      <td>2020-01-26</td>\n",
       "      <td>0.393462</td>\n",
       "      <td>0.369644</td>\n",
       "    </tr>\n",
       "    <tr>\n",
       "      <td>2020-02-02</td>\n",
       "      <td>0.000000</td>\n",
       "      <td>0.450209</td>\n",
       "    </tr>\n",
       "    <tr>\n",
       "      <td>...</td>\n",
       "      <td>...</td>\n",
       "      <td>...</td>\n",
       "    </tr>\n",
       "    <tr>\n",
       "      <td>2021-10-31</td>\n",
       "      <td>0.914565</td>\n",
       "      <td>0.721301</td>\n",
       "    </tr>\n",
       "    <tr>\n",
       "      <td>2021-11-07</td>\n",
       "      <td>0.554444</td>\n",
       "      <td>0.367103</td>\n",
       "    </tr>\n",
       "    <tr>\n",
       "      <td>2021-11-14</td>\n",
       "      <td>0.515266</td>\n",
       "      <td>0.019484</td>\n",
       "    </tr>\n",
       "    <tr>\n",
       "      <td>2021-11-21</td>\n",
       "      <td>0.285422</td>\n",
       "      <td>0.258371</td>\n",
       "    </tr>\n",
       "    <tr>\n",
       "      <td>2021-11-28</td>\n",
       "      <td>0.112355</td>\n",
       "      <td>0.246537</td>\n",
       "    </tr>\n",
       "  </tbody>\n",
       "</table>\n",
       "<p>100 rows × 2 columns</p>\n",
       "</div>"
      ],
      "text/plain": [
       "            Sample 1  Sample 3\n",
       "2020-01-05  0.640118  0.592421\n",
       "2020-01-12  0.524564  0.367745\n",
       "2020-01-19  0.854762  0.241314\n",
       "2020-01-26  0.393462  0.369644\n",
       "2020-02-02  0.000000  0.450209\n",
       "...              ...       ...\n",
       "2021-10-31  0.914565  0.721301\n",
       "2021-11-07  0.554444  0.367103\n",
       "2021-11-14  0.515266  0.019484\n",
       "2021-11-21  0.285422  0.258371\n",
       "2021-11-28  0.112355  0.246537\n",
       "\n",
       "[100 rows x 2 columns]"
      ]
     },
     "execution_count": 297,
     "metadata": {},
     "output_type": "execute_result"
    }
   ],
   "source": [
    "df_normalizzato[[\"Sample 1\", \"Sample 3\"]]"
   ]
  },
  {
   "cell_type": "markdown",
   "metadata": {},
   "source": [
    "**Selezione condizionata: filtraggio di righe**\n",
    "\n",
    "La logica ricorrente è la seguente: `df[condizione logica da passare]`"
   ]
  },
  {
   "cell_type": "code",
   "execution_count": 314,
   "metadata": {},
   "outputs": [
    {
     "data": {
      "text/plain": [
       "10"
      ]
     },
     "execution_count": 314,
     "metadata": {},
     "output_type": "execute_result"
    }
   ],
   "source": [
    "new_dataset = np.array([[n**k for k in range(1,4)] for n in np.linspace(0,2,10)])\n",
    "\n",
    "new_dataset.shape\n",
    "len(new_dataset)"
   ]
  },
  {
   "cell_type": "code",
   "execution_count": 315,
   "metadata": {},
   "outputs": [
    {
     "data": {
      "text/html": [
       "<div>\n",
       "<style scoped>\n",
       "    .dataframe tbody tr th:only-of-type {\n",
       "        vertical-align: middle;\n",
       "    }\n",
       "\n",
       "    .dataframe tbody tr th {\n",
       "        vertical-align: top;\n",
       "    }\n",
       "\n",
       "    .dataframe thead th {\n",
       "        text-align: right;\n",
       "    }\n",
       "</style>\n",
       "<table border=\"1\" class=\"dataframe\">\n",
       "  <thead>\n",
       "    <tr style=\"text-align: right;\">\n",
       "      <th></th>\n",
       "      <th>X^1</th>\n",
       "      <th>X^2</th>\n",
       "      <th>X^3</th>\n",
       "    </tr>\n",
       "  </thead>\n",
       "  <tbody>\n",
       "    <tr>\n",
       "      <td>Obs1</td>\n",
       "      <td>0.000000</td>\n",
       "      <td>0.000000</td>\n",
       "      <td>0.000000</td>\n",
       "    </tr>\n",
       "    <tr>\n",
       "      <td>Obs2</td>\n",
       "      <td>0.222222</td>\n",
       "      <td>0.049383</td>\n",
       "      <td>0.010974</td>\n",
       "    </tr>\n",
       "    <tr>\n",
       "      <td>Obs3</td>\n",
       "      <td>0.444444</td>\n",
       "      <td>0.197531</td>\n",
       "      <td>0.087791</td>\n",
       "    </tr>\n",
       "    <tr>\n",
       "      <td>Obs4</td>\n",
       "      <td>0.666667</td>\n",
       "      <td>0.444444</td>\n",
       "      <td>0.296296</td>\n",
       "    </tr>\n",
       "    <tr>\n",
       "      <td>Obs5</td>\n",
       "      <td>0.888889</td>\n",
       "      <td>0.790123</td>\n",
       "      <td>0.702332</td>\n",
       "    </tr>\n",
       "    <tr>\n",
       "      <td>Obs6</td>\n",
       "      <td>1.111111</td>\n",
       "      <td>1.234568</td>\n",
       "      <td>1.371742</td>\n",
       "    </tr>\n",
       "    <tr>\n",
       "      <td>Obs7</td>\n",
       "      <td>1.333333</td>\n",
       "      <td>1.777778</td>\n",
       "      <td>2.370370</td>\n",
       "    </tr>\n",
       "    <tr>\n",
       "      <td>Obs8</td>\n",
       "      <td>1.555556</td>\n",
       "      <td>2.419753</td>\n",
       "      <td>3.764060</td>\n",
       "    </tr>\n",
       "    <tr>\n",
       "      <td>Obs9</td>\n",
       "      <td>1.777778</td>\n",
       "      <td>3.160494</td>\n",
       "      <td>5.618656</td>\n",
       "    </tr>\n",
       "    <tr>\n",
       "      <td>Obs10</td>\n",
       "      <td>2.000000</td>\n",
       "      <td>4.000000</td>\n",
       "      <td>8.000000</td>\n",
       "    </tr>\n",
       "  </tbody>\n",
       "</table>\n",
       "</div>"
      ],
      "text/plain": [
       "            X^1       X^2       X^3\n",
       "Obs1   0.000000  0.000000  0.000000\n",
       "Obs2   0.222222  0.049383  0.010974\n",
       "Obs3   0.444444  0.197531  0.087791\n",
       "Obs4   0.666667  0.444444  0.296296\n",
       "Obs5   0.888889  0.790123  0.702332\n",
       "Obs6   1.111111  1.234568  1.371742\n",
       "Obs7   1.333333  1.777778  2.370370\n",
       "Obs8   1.555556  2.419753  3.764060\n",
       "Obs9   1.777778  3.160494  5.618656\n",
       "Obs10  2.000000  4.000000  8.000000"
      ]
     },
     "execution_count": 315,
     "metadata": {},
     "output_type": "execute_result"
    }
   ],
   "source": [
    "new_dataframe = pd.DataFrame(data = new_dataset, \n",
    "                            index = [\"Obs{}\".format(i) for i in range(1,len(new_dataset)+1)], \n",
    "                            columns =[\"X^1\",\"X^2\",\"X^3\"])\n",
    "\n",
    "new_dataframe"
   ]
  },
  {
   "cell_type": "code",
   "execution_count": 319,
   "metadata": {},
   "outputs": [
    {
     "data": {
      "text/plain": [
       "Obs1     False\n",
       "Obs2     False\n",
       "Obs3     False\n",
       "Obs4     False\n",
       "Obs5     False\n",
       "Obs6     False\n",
       "Obs7      True\n",
       "Obs8      True\n",
       "Obs9      True\n",
       "Obs10     True\n",
       "Name: X^2, dtype: bool"
      ]
     },
     "execution_count": 319,
     "metadata": {},
     "output_type": "execute_result"
    }
   ],
   "source": [
    "new_dataframe[\"X^2\"]>1.5"
   ]
  },
  {
   "cell_type": "markdown",
   "metadata": {},
   "source": [
    "Sulla base di questo risultato logico che ritorna dei Boolean values, possiamo filtrare il nostro dataframe selezionando solo le righe per cui il valore è _True._"
   ]
  },
  {
   "cell_type": "code",
   "execution_count": 318,
   "metadata": {},
   "outputs": [
    {
     "data": {
      "text/html": [
       "<div>\n",
       "<style scoped>\n",
       "    .dataframe tbody tr th:only-of-type {\n",
       "        vertical-align: middle;\n",
       "    }\n",
       "\n",
       "    .dataframe tbody tr th {\n",
       "        vertical-align: top;\n",
       "    }\n",
       "\n",
       "    .dataframe thead th {\n",
       "        text-align: right;\n",
       "    }\n",
       "</style>\n",
       "<table border=\"1\" class=\"dataframe\">\n",
       "  <thead>\n",
       "    <tr style=\"text-align: right;\">\n",
       "      <th></th>\n",
       "      <th>X^1</th>\n",
       "      <th>X^2</th>\n",
       "      <th>X^3</th>\n",
       "    </tr>\n",
       "  </thead>\n",
       "  <tbody>\n",
       "    <tr>\n",
       "      <td>Obs7</td>\n",
       "      <td>1.333333</td>\n",
       "      <td>1.777778</td>\n",
       "      <td>2.370370</td>\n",
       "    </tr>\n",
       "    <tr>\n",
       "      <td>Obs8</td>\n",
       "      <td>1.555556</td>\n",
       "      <td>2.419753</td>\n",
       "      <td>3.764060</td>\n",
       "    </tr>\n",
       "    <tr>\n",
       "      <td>Obs9</td>\n",
       "      <td>1.777778</td>\n",
       "      <td>3.160494</td>\n",
       "      <td>5.618656</td>\n",
       "    </tr>\n",
       "    <tr>\n",
       "      <td>Obs10</td>\n",
       "      <td>2.000000</td>\n",
       "      <td>4.000000</td>\n",
       "      <td>8.000000</td>\n",
       "    </tr>\n",
       "  </tbody>\n",
       "</table>\n",
       "</div>"
      ],
      "text/plain": [
       "            X^1       X^2       X^3\n",
       "Obs7   1.333333  1.777778  2.370370\n",
       "Obs8   1.555556  2.419753  3.764060\n",
       "Obs9   1.777778  3.160494  5.618656\n",
       "Obs10  2.000000  4.000000  8.000000"
      ]
     },
     "execution_count": 318,
     "metadata": {},
     "output_type": "execute_result"
    }
   ],
   "source": [
    "new_dataframe[new_dataframe[\"X^2\"]>1.5] #Tengo solo quelle righe tali per cui la colonna \"X^2\" contiene elementi >1.5. \n",
    "#La condizione viene passata rimuovendo le righe nel loro complesso. "
   ]
  },
  {
   "cell_type": "code",
   "execution_count": 320,
   "metadata": {},
   "outputs": [
    {
     "data": {
      "text/html": [
       "<div>\n",
       "<style scoped>\n",
       "    .dataframe tbody tr th:only-of-type {\n",
       "        vertical-align: middle;\n",
       "    }\n",
       "\n",
       "    .dataframe tbody tr th {\n",
       "        vertical-align: top;\n",
       "    }\n",
       "\n",
       "    .dataframe thead th {\n",
       "        text-align: right;\n",
       "    }\n",
       "</style>\n",
       "<table border=\"1\" class=\"dataframe\">\n",
       "  <thead>\n",
       "    <tr style=\"text-align: right;\">\n",
       "      <th></th>\n",
       "      <th>X^1</th>\n",
       "      <th>X^2</th>\n",
       "      <th>X^3</th>\n",
       "    </tr>\n",
       "  </thead>\n",
       "  <tbody>\n",
       "    <tr>\n",
       "      <td>Obs2</td>\n",
       "      <td>0.222222</td>\n",
       "      <td>0.049383</td>\n",
       "      <td>0.010974</td>\n",
       "    </tr>\n",
       "    <tr>\n",
       "      <td>Obs3</td>\n",
       "      <td>0.444444</td>\n",
       "      <td>0.197531</td>\n",
       "      <td>0.087791</td>\n",
       "    </tr>\n",
       "    <tr>\n",
       "      <td>Obs4</td>\n",
       "      <td>0.666667</td>\n",
       "      <td>0.444444</td>\n",
       "      <td>0.296296</td>\n",
       "    </tr>\n",
       "    <tr>\n",
       "      <td>Obs5</td>\n",
       "      <td>0.888889</td>\n",
       "      <td>0.790123</td>\n",
       "      <td>0.702332</td>\n",
       "    </tr>\n",
       "  </tbody>\n",
       "</table>\n",
       "</div>"
      ],
      "text/plain": [
       "           X^1       X^2       X^3\n",
       "Obs2  0.222222  0.049383  0.010974\n",
       "Obs3  0.444444  0.197531  0.087791\n",
       "Obs4  0.666667  0.444444  0.296296\n",
       "Obs5  0.888889  0.790123  0.702332"
      ]
     },
     "execution_count": 320,
     "metadata": {},
     "output_type": "execute_result"
    }
   ],
   "source": [
    "new_dataframe[new_dataframe[\"X^1\"]> new_dataframe[\"X^2\"]]"
   ]
  },
  {
   "cell_type": "markdown",
   "metadata": {},
   "source": [
    "Aggiungiamo adesso una colonna comprendente solo stringhe: "
   ]
  },
  {
   "cell_type": "code",
   "execution_count": 322,
   "metadata": {},
   "outputs": [
    {
     "data": {
      "text/html": [
       "<div>\n",
       "<style scoped>\n",
       "    .dataframe tbody tr th:only-of-type {\n",
       "        vertical-align: middle;\n",
       "    }\n",
       "\n",
       "    .dataframe tbody tr th {\n",
       "        vertical-align: top;\n",
       "    }\n",
       "\n",
       "    .dataframe thead th {\n",
       "        text-align: right;\n",
       "    }\n",
       "</style>\n",
       "<table border=\"1\" class=\"dataframe\">\n",
       "  <thead>\n",
       "    <tr style=\"text-align: right;\">\n",
       "      <th></th>\n",
       "      <th>X^1</th>\n",
       "      <th>X^2</th>\n",
       "      <th>X^3</th>\n",
       "      <th>Ratings</th>\n",
       "    </tr>\n",
       "  </thead>\n",
       "  <tbody>\n",
       "    <tr>\n",
       "      <td>Obs1</td>\n",
       "      <td>0.000000</td>\n",
       "      <td>0.000000</td>\n",
       "      <td>0.000000</td>\n",
       "      <td>AAA</td>\n",
       "    </tr>\n",
       "    <tr>\n",
       "      <td>Obs2</td>\n",
       "      <td>0.222222</td>\n",
       "      <td>0.049383</td>\n",
       "      <td>0.010974</td>\n",
       "      <td>AA</td>\n",
       "    </tr>\n",
       "    <tr>\n",
       "      <td>Obs3</td>\n",
       "      <td>0.444444</td>\n",
       "      <td>0.197531</td>\n",
       "      <td>0.087791</td>\n",
       "      <td>AA</td>\n",
       "    </tr>\n",
       "    <tr>\n",
       "      <td>Obs4</td>\n",
       "      <td>0.666667</td>\n",
       "      <td>0.444444</td>\n",
       "      <td>0.296296</td>\n",
       "      <td>B</td>\n",
       "    </tr>\n",
       "    <tr>\n",
       "      <td>Obs5</td>\n",
       "      <td>0.888889</td>\n",
       "      <td>0.790123</td>\n",
       "      <td>0.702332</td>\n",
       "      <td>A</td>\n",
       "    </tr>\n",
       "    <tr>\n",
       "      <td>Obs6</td>\n",
       "      <td>1.111111</td>\n",
       "      <td>1.234568</td>\n",
       "      <td>1.371742</td>\n",
       "      <td>BB</td>\n",
       "    </tr>\n",
       "    <tr>\n",
       "      <td>Obs7</td>\n",
       "      <td>1.333333</td>\n",
       "      <td>1.777778</td>\n",
       "      <td>2.370370</td>\n",
       "      <td>C</td>\n",
       "    </tr>\n",
       "    <tr>\n",
       "      <td>Obs8</td>\n",
       "      <td>1.555556</td>\n",
       "      <td>2.419753</td>\n",
       "      <td>3.764060</td>\n",
       "      <td>AA</td>\n",
       "    </tr>\n",
       "    <tr>\n",
       "      <td>Obs9</td>\n",
       "      <td>1.777778</td>\n",
       "      <td>3.160494</td>\n",
       "      <td>5.618656</td>\n",
       "      <td>C</td>\n",
       "    </tr>\n",
       "    <tr>\n",
       "      <td>Obs10</td>\n",
       "      <td>2.000000</td>\n",
       "      <td>4.000000</td>\n",
       "      <td>8.000000</td>\n",
       "      <td>AAA</td>\n",
       "    </tr>\n",
       "  </tbody>\n",
       "</table>\n",
       "</div>"
      ],
      "text/plain": [
       "            X^1       X^2       X^3 Ratings\n",
       "Obs1   0.000000  0.000000  0.000000     AAA\n",
       "Obs2   0.222222  0.049383  0.010974      AA\n",
       "Obs3   0.444444  0.197531  0.087791      AA\n",
       "Obs4   0.666667  0.444444  0.296296       B\n",
       "Obs5   0.888889  0.790123  0.702332       A\n",
       "Obs6   1.111111  1.234568  1.371742      BB\n",
       "Obs7   1.333333  1.777778  2.370370       C\n",
       "Obs8   1.555556  2.419753  3.764060      AA\n",
       "Obs9   1.777778  3.160494  5.618656       C\n",
       "Obs10  2.000000  4.000000  8.000000     AAA"
      ]
     },
     "execution_count": 322,
     "metadata": {},
     "output_type": "execute_result"
    }
   ],
   "source": [
    "new_dataframe[\"Ratings\"] = [\"AAA\", \"AA\",\"AA\",\"B\",\"A\",\"BB\",\"C\",\"AA\",\"C\",\"AAA\"]\n",
    "new_dataframe"
   ]
  },
  {
   "cell_type": "markdown",
   "metadata": {},
   "source": [
    "Possiamo filtrare le righe attraverso la funzione `.isin(lista di elementi)`. \n",
    "\n",
    "Questa funzione mi consente di capire quali sono le righe in cui una specifica colonna del nostro dataframe possiede un elemento della sequenza che abbiamo passato all'interno. "
   ]
  },
  {
   "cell_type": "code",
   "execution_count": 323,
   "metadata": {},
   "outputs": [],
   "source": [
    "lista_rating = [\"AAA\",\"AA\",\"A\"] #Definiamo una lista di possibili rating attraverso cui vogliamo filtrare la nostra struttura dati. "
   ]
  },
  {
   "cell_type": "code",
   "execution_count": 324,
   "metadata": {},
   "outputs": [
    {
     "data": {
      "text/plain": [
       "Obs1      True\n",
       "Obs2      True\n",
       "Obs3      True\n",
       "Obs4     False\n",
       "Obs5      True\n",
       "Obs6     False\n",
       "Obs7     False\n",
       "Obs8      True\n",
       "Obs9     False\n",
       "Obs10     True\n",
       "Name: Ratings, dtype: bool"
      ]
     },
     "execution_count": 324,
     "metadata": {},
     "output_type": "execute_result"
    }
   ],
   "source": [
    "new_dataframe[\"Ratings\"].isin(lista_rating) #Posso vedere quale specifiche righe hanno un rating nella lista che andiamo a passare. "
   ]
  },
  {
   "cell_type": "code",
   "execution_count": 325,
   "metadata": {},
   "outputs": [
    {
     "data": {
      "text/html": [
       "<div>\n",
       "<style scoped>\n",
       "    .dataframe tbody tr th:only-of-type {\n",
       "        vertical-align: middle;\n",
       "    }\n",
       "\n",
       "    .dataframe tbody tr th {\n",
       "        vertical-align: top;\n",
       "    }\n",
       "\n",
       "    .dataframe thead th {\n",
       "        text-align: right;\n",
       "    }\n",
       "</style>\n",
       "<table border=\"1\" class=\"dataframe\">\n",
       "  <thead>\n",
       "    <tr style=\"text-align: right;\">\n",
       "      <th></th>\n",
       "      <th>X^1</th>\n",
       "      <th>X^2</th>\n",
       "      <th>X^3</th>\n",
       "      <th>Ratings</th>\n",
       "    </tr>\n",
       "  </thead>\n",
       "  <tbody>\n",
       "    <tr>\n",
       "      <td>Obs1</td>\n",
       "      <td>0.000000</td>\n",
       "      <td>0.000000</td>\n",
       "      <td>0.000000</td>\n",
       "      <td>AAA</td>\n",
       "    </tr>\n",
       "    <tr>\n",
       "      <td>Obs2</td>\n",
       "      <td>0.222222</td>\n",
       "      <td>0.049383</td>\n",
       "      <td>0.010974</td>\n",
       "      <td>AA</td>\n",
       "    </tr>\n",
       "    <tr>\n",
       "      <td>Obs3</td>\n",
       "      <td>0.444444</td>\n",
       "      <td>0.197531</td>\n",
       "      <td>0.087791</td>\n",
       "      <td>AA</td>\n",
       "    </tr>\n",
       "    <tr>\n",
       "      <td>Obs5</td>\n",
       "      <td>0.888889</td>\n",
       "      <td>0.790123</td>\n",
       "      <td>0.702332</td>\n",
       "      <td>A</td>\n",
       "    </tr>\n",
       "    <tr>\n",
       "      <td>Obs8</td>\n",
       "      <td>1.555556</td>\n",
       "      <td>2.419753</td>\n",
       "      <td>3.764060</td>\n",
       "      <td>AA</td>\n",
       "    </tr>\n",
       "    <tr>\n",
       "      <td>Obs10</td>\n",
       "      <td>2.000000</td>\n",
       "      <td>4.000000</td>\n",
       "      <td>8.000000</td>\n",
       "      <td>AAA</td>\n",
       "    </tr>\n",
       "  </tbody>\n",
       "</table>\n",
       "</div>"
      ],
      "text/plain": [
       "            X^1       X^2       X^3 Ratings\n",
       "Obs1   0.000000  0.000000  0.000000     AAA\n",
       "Obs2   0.222222  0.049383  0.010974      AA\n",
       "Obs3   0.444444  0.197531  0.087791      AA\n",
       "Obs5   0.888889  0.790123  0.702332       A\n",
       "Obs8   1.555556  2.419753  3.764060      AA\n",
       "Obs10  2.000000  4.000000  8.000000     AAA"
      ]
     },
     "execution_count": 325,
     "metadata": {},
     "output_type": "execute_result"
    }
   ],
   "source": [
    "#Passiamo adesso la condizione logica con il solito operatore[]\n",
    "\n",
    "new_dataframe[new_dataframe[\"Ratings\"].isin(lista_rating)]"
   ]
  },
  {
   "cell_type": "markdown",
   "metadata": {},
   "source": [
    "Come possiamo notare, in questo modo selezioniamo esclusivamente le righe che hanno un elemento nella colonna Rating appartenente alla lista con cui abbiamo fatto il confronto. "
   ]
  },
  {
   "cell_type": "code",
   "execution_count": 328,
   "metadata": {},
   "outputs": [
    {
     "data": {
      "text/plain": [
       "Obs1      True\n",
       "Obs2     False\n",
       "Obs3     False\n",
       "Obs4     False\n",
       "Obs5     False\n",
       "Obs6     False\n",
       "Obs7     False\n",
       "Obs8     False\n",
       "Obs9     False\n",
       "Obs10     True\n",
       "Name: X^1, dtype: bool"
      ]
     },
     "execution_count": 328,
     "metadata": {},
     "output_type": "execute_result"
    }
   ],
   "source": [
    "new_dataframe[\"X^1\"].isin([0.0,0.20,2.0])"
   ]
  },
  {
   "cell_type": "markdown",
   "metadata": {},
   "source": [
    "---"
   ]
  },
  {
   "cell_type": "markdown",
   "metadata": {},
   "source": [
    "---"
   ]
  },
  {
   "cell_type": "markdown",
   "metadata": {},
   "source": [
    "### 1.3) Matplotlib <a name=\"1.3\"></a>"
   ]
  },
  {
   "cell_type": "markdown",
   "metadata": {},
   "source": [
    "<img src=\"../Images/Matplotlib_logo.svg\" width=\"600\">"
   ]
  },
  {
   "cell_type": "markdown",
   "metadata": {},
   "source": [
    "Matplotlib è una libreria per la creazione di grafici per il linguaggio di programmazione Python e la libreria matematica NumPy. Quindi se vogliamo creare un grafico, per prima cosa importiamo le due librerie."
   ]
  },
  {
   "cell_type": "code",
   "execution_count": 11,
   "metadata": {},
   "outputs": [],
   "source": [
    "import matplotlib.pyplot as plt\n",
    "import numpy as np"
   ]
  },
  {
   "cell_type": "markdown",
   "metadata": {},
   "source": [
    "Per prima cosa possiamo stabilire le dimensioni del nostro grafico (chiamato canvas in gergo, sfruttando la funzione **figure** di pyplot (se questo passaggio viene saltato, Matplotlib assegna le dimensioni standard di 640x480 pixels).\n",
    "La funzione figure accetta diversi parametri che potete vedere in dettaglio [qui](https://matplotlib.org/api/_as_gen/matplotlib.pyplot.figure.html#matplotlib.pyplot.figure)\n",
    "\n",
    "Supponiamo di voler chiamare il nostro grafico \"Scatter\", il quale avrà dimensioni 7x5, risoluzione 200, sfondo giallo. Ricorda che Matplotlib non produrrà un grafico a meno che tu non non gli dia delle variabili da rappresentare.\n",
    "Creerò quindi, a scopo illustrativo, le variabile esempio_dati1 ed esempio_dati2 per poterne rappresentare gli elementi."
   ]
  },
  {
   "cell_type": "code",
   "execution_count": 12,
   "metadata": {},
   "outputs": [
    {
     "data": {
      "image/png": "[encoded data removed]",
      "text/plain": [
       "<Figure size 1050x750 with 1 Axes>"
      ]
     },
     "metadata": {},
     "output_type": "display_data"
    }
   ],
   "source": [
    "esempio_dati1=[2,5,7,6,8,3,5,10,12,9]\n",
    "esempio_dati2=[7,4,8,13,5,21,13,17,1,11]\n",
    "\n",
    "#Formattazione canvas \n",
    "\n",
    "Scatter=plt.figure(figsize=(7,5),dpi=150,facecolor='y')\n",
    "\n",
    "#Plotting del primo set di dati \n",
    "\n",
    "plt.scatter(range(len(esempio_dati1)),\n",
    "            esempio_dati1,\n",
    "            label=\"I miei dati 1\",\n",
    "            color='red')\n",
    "\n",
    "\n",
    "#Plotting del secondo set di dati nel medesimo canvas\n",
    "\n",
    "plt.scatter(range(len(esempio_dati2)),\n",
    "            esempio_dati2,\n",
    "            label=\"I miei dati 2\",\n",
    "            color='cyan')\n",
    "\n",
    "plt.xlabel(\"Serie di numeri interi\")\n",
    "plt.ylabel(\"Dataset osservati\")\n",
    "\n",
    "plt.title(\"Due scatter plot\")\n",
    "\n",
    "plt.legend()\n",
    "plt.show()"
   ]
  },
  {
   "cell_type": "markdown",
   "metadata": {},
   "source": [
    "---"
   ]
  },
  {
   "cell_type": "markdown",
   "metadata": {},
   "source": [
    "## 2) $1°$ applicazione: analisi dati e regressione lineare semplice. <a name = \"2\"></a>\n",
    "\n",
    "Vediamo come: importare, analizzare ed interpretare (graficamente e statisticamente) un paio di serie temporali: l'andamento del prezzo del FTSEMIB nel periodo 01/01/2019 e 01/01/2020 di contrasto all'andamento del titolo azionario A2A per lo stesso intervallo temporale. \n",
    "\n",
    "_Per semplicità non verranno definiti molti passaggi, assunti per il momento come dati._ "
   ]
  },
  {
   "cell_type": "code",
   "execution_count": 13,
   "metadata": {},
   "outputs": [],
   "source": [
    "#Import preliminare \n",
    "import numpy as np \n",
    "import pandas as pd \n",
    "import os #Modulo utile per la gestione di file \n",
    "import matplotlib.pyplot as plt \n",
    "from scipy import stats #Modulo per la media geometrica (e non solo!)"
   ]
  },
  {
   "cell_type": "markdown",
   "metadata": {},
   "source": [
    "La seguente è una _funzione di utilità_ da me creata in passato per la gestione dei dataset scaricati gratuitamente da Investing in formato .csv (comma separated variables). "
   ]
  },
  {
   "cell_type": "code",
   "execution_count": 14,
   "metadata": {},
   "outputs": [],
   "source": [
    "#Utility function\n",
    "\n",
    "def removeFile(fileName):\n",
    "    \"\"\"\n",
    "    removeFile(fileName) function remove file 'fileName', if it exists. It also prints on screen a success/failure message.\n",
    "    \n",
    "    Parameters:\n",
    "        fileName (str): name of the file ('Data' folder is assumed)\n",
    "        \n",
    "    Returns:\n",
    "        None\n",
    "    \"\"\"\n",
    "\n",
    "    if os.path.isfile(os.path.join(dataPath, fileName)):\n",
    "        os.remove(os.path.join(dataPath, fileName))\n",
    "\n",
    "        # double-check if file still exists\n",
    "        fileStillExists = os.path.isfile(os.path.join(dataPath, fileName))\n",
    "\n",
    "        if fileStillExists:\n",
    "            print(\"Failure: file {} still exists...\".format(fileName))\n",
    "        else:\n",
    "            print(\"Success: file {} successfully removed!\".format(fileName))\n",
    "            \n",
    "    else:\n",
    "        print(\"File {} already removed.\".format(fileName))"
   ]
  },
  {
   "cell_type": "code",
   "execution_count": 15,
   "metadata": {},
   "outputs": [],
   "source": [
    "def modInvestingComplete(dataFrame): \n",
    "   \n",
    "    import datetime as dt # It can be omitted if preliminary imported\n",
    "    \n",
    "    \"\"\"\n",
    "    This function  starts modifying the DataFrame index composed by strings starting from element's aspetct \n",
    "    (converting dots to minus) and then modifying their order into convention \"Y-M-D\". Finally, it converts the list into a \n",
    "    dateTime object wich will replace the previous index. \n",
    "    All in order to have a correct index composed by dates which can be passed to get every useful result. \n",
    "     \n",
    "    \n",
    "    Then it passes to dataFrame elements removing points and converting commas into points for every dataframe column.\n",
    "    Thereafter it converts strings to float data type for each element in columns. \n",
    "    This is a correction needed to import dataframes from Investing csv's. \n",
    "    This is a leaner alternative to previous function, more compact but equally efficient.\n",
    "    \n",
    "    modInvesting(dataFrame) function first of all converts index into a list data type,  respectively \".\" to \" \" and \",\" to \".\" in dataFrames according to American convention. \n",
    "    Then it transform each value in each column from strings to float data type. \n",
    "    \n",
    "    Parameter: \n",
    "        (dataFrame): dataFrame data structure I imported from Investing.com, each element is a string. \n",
    "         \n",
    "    Results:\n",
    "        (dataFrame): the same data frame with values converted to make data analysis.  \n",
    "    \"\"\"\n",
    "\n",
    "\n",
    "\n",
    "\n",
    "    strDates = dataFrame.index.tolist()\n",
    "    \n",
    "    for i in range(len(strDates)):\n",
    "        strDates[i] = strDates[i].replace('.','-')\n",
    "            \n",
    "    dates = [dt.datetime.strptime(strDates[i], \"%d-%m-%Y\") for i in range(len(strDates))]\n",
    "    \n",
    "    newStrDates = [dt.datetime.strftime(dates[i], \"%Y-%m-%d\") for i in range (len(dates))]\n",
    "    \n",
    "    newDates = [dt.datetime.strptime(newStrDates[i], \"%Y-%m-%d\") for i in range(len(newStrDates))]\n",
    "\n",
    "    dataFrame.index = newDates\n",
    "    \n",
    "    \n",
    "    \n",
    "#With the following command I apply the function lambda to replace points with white bars to all elements of each column\n",
    "    \n",
    "    dataFrame = dataFrame.apply(lambda x: x.str.replace(\".\", \"\"))\n",
    "    \n",
    "#With the following command I apply the function lambda to replace commas with points to all elements of each column\n",
    "    \n",
    "    dataFrame = dataFrame.apply(lambda x: x.str.replace(\",\", \".\"))\n",
    "    \n",
    "#With the following command I apply the function lambda to convert in a numeric format all strings values in each column\n",
    "    \n",
    "    dataFrame = dataFrame.apply(pd.to_numeric)\n",
    "    \n",
    "#Finally, I can revert the order of rows in dataFrame object\n",
    "    \n",
    "    dataFrame = dataFrame.iloc[::-1,::]\n",
    "    \n",
    "    \n",
    "    \n",
    "    return  dataFrame"
   ]
  },
  {
   "cell_type": "markdown",
   "metadata": {},
   "source": [
    "**Scarichiamo da Investing.com i dati settimanali per A2A e FTSEMIB** \n",
    "\n",
    "Una volta scaricati tali dati, in formato .CSV possiamo importarli in Python utilizzando l'apposita funzione presente nel paccheto Pandas. \n"
   ]
  },
  {
   "cell_type": "code",
   "execution_count": 16,
   "metadata": {},
   "outputs": [],
   "source": [
    "dataPath = \"./Dataset\"\n",
    "filePath = os.path.join(dataPath, \"A2A wk 10y dirty.csv\")"
   ]
  },
  {
   "cell_type": "code",
   "execution_count": 17,
   "metadata": {},
   "outputs": [],
   "source": [
    "a2aWk = pd.read_csv(filePath, index_col=0)"
   ]
  },
  {
   "cell_type": "code",
   "execution_count": 18,
   "metadata": {},
   "outputs": [
    {
     "data": {
      "text/html": [
       "<div>\n",
       "<style scoped>\n",
       "    .dataframe tbody tr th:only-of-type {\n",
       "        vertical-align: middle;\n",
       "    }\n",
       "\n",
       "    .dataframe tbody tr th {\n",
       "        vertical-align: top;\n",
       "    }\n",
       "\n",
       "    .dataframe thead th {\n",
       "        text-align: right;\n",
       "    }\n",
       "</style>\n",
       "<table border=\"1\" class=\"dataframe\">\n",
       "  <thead>\n",
       "    <tr style=\"text-align: right;\">\n",
       "      <th></th>\n",
       "      <th>Ultimo</th>\n",
       "      <th>Apertura</th>\n",
       "      <th>Massimo</th>\n",
       "      <th>Minimo</th>\n",
       "      <th>Vol.</th>\n",
       "      <th>Var. %</th>\n",
       "    </tr>\n",
       "    <tr>\n",
       "      <th>Data</th>\n",
       "      <th></th>\n",
       "      <th></th>\n",
       "      <th></th>\n",
       "      <th></th>\n",
       "      <th></th>\n",
       "      <th></th>\n",
       "    </tr>\n",
       "  </thead>\n",
       "  <tbody>\n",
       "    <tr>\n",
       "      <td>01.03.2020</td>\n",
       "      <td>1,530</td>\n",
       "      <td>1,597</td>\n",
       "      <td>1,669</td>\n",
       "      <td>1,506</td>\n",
       "      <td>89,07M</td>\n",
       "      <td>-2,86%</td>\n",
       "    </tr>\n",
       "    <tr>\n",
       "      <td>23.02.2020</td>\n",
       "      <td>1,575</td>\n",
       "      <td>1,798</td>\n",
       "      <td>1,808</td>\n",
       "      <td>1,555</td>\n",
       "      <td>105,67M</td>\n",
       "      <td>-14,91%</td>\n",
       "    </tr>\n",
       "    <tr>\n",
       "      <td>16.02.2020</td>\n",
       "      <td>1,851</td>\n",
       "      <td>1,851</td>\n",
       "      <td>1,901</td>\n",
       "      <td>1,839</td>\n",
       "      <td>40,91M</td>\n",
       "      <td>0,00%</td>\n",
       "    </tr>\n",
       "    <tr>\n",
       "      <td>09.02.2020</td>\n",
       "      <td>1,851</td>\n",
       "      <td>1,820</td>\n",
       "      <td>1,863</td>\n",
       "      <td>1,809</td>\n",
       "      <td>44,64M</td>\n",
       "      <td>1,31%</td>\n",
       "    </tr>\n",
       "    <tr>\n",
       "      <td>02.02.2020</td>\n",
       "      <td>1,827</td>\n",
       "      <td>1,800</td>\n",
       "      <td>1,849</td>\n",
       "      <td>1,792</td>\n",
       "      <td>56,23M</td>\n",
       "      <td>1,39%</td>\n",
       "    </tr>\n",
       "    <tr>\n",
       "      <td>...</td>\n",
       "      <td>...</td>\n",
       "      <td>...</td>\n",
       "      <td>...</td>\n",
       "      <td>...</td>\n",
       "      <td>...</td>\n",
       "      <td>...</td>\n",
       "    </tr>\n",
       "    <tr>\n",
       "      <td>31.01.2010</td>\n",
       "      <td>1,329</td>\n",
       "      <td>1,372</td>\n",
       "      <td>1,408</td>\n",
       "      <td>1,318</td>\n",
       "      <td>55,58M</td>\n",
       "      <td>-3,35%</td>\n",
       "    </tr>\n",
       "    <tr>\n",
       "      <td>24.01.2010</td>\n",
       "      <td>1,375</td>\n",
       "      <td>1,402</td>\n",
       "      <td>1,416</td>\n",
       "      <td>1,355</td>\n",
       "      <td>46,92M</td>\n",
       "      <td>-2,20%</td>\n",
       "    </tr>\n",
       "    <tr>\n",
       "      <td>17.01.2010</td>\n",
       "      <td>1,406</td>\n",
       "      <td>1,420</td>\n",
       "      <td>1,462</td>\n",
       "      <td>1,402</td>\n",
       "      <td>38,93M</td>\n",
       "      <td>-0,71%</td>\n",
       "    </tr>\n",
       "    <tr>\n",
       "      <td>10.01.2010</td>\n",
       "      <td>1,416</td>\n",
       "      <td>1,426</td>\n",
       "      <td>1,450</td>\n",
       "      <td>1,405</td>\n",
       "      <td>36,30M</td>\n",
       "      <td>-0,49%</td>\n",
       "    </tr>\n",
       "    <tr>\n",
       "      <td>03.01.2010</td>\n",
       "      <td>1,423</td>\n",
       "      <td>1,477</td>\n",
       "      <td>1,480</td>\n",
       "      <td>1,405</td>\n",
       "      <td>48,70M</td>\n",
       "      <td>-2,93%</td>\n",
       "    </tr>\n",
       "  </tbody>\n",
       "</table>\n",
       "<p>531 rows × 6 columns</p>\n",
       "</div>"
      ],
      "text/plain": [
       "           Ultimo Apertura Massimo Minimo     Vol.   Var. %\n",
       "Data                                                       \n",
       "01.03.2020  1,530    1,597   1,669  1,506   89,07M   -2,86%\n",
       "23.02.2020  1,575    1,798   1,808  1,555  105,67M  -14,91%\n",
       "16.02.2020  1,851    1,851   1,901  1,839   40,91M    0,00%\n",
       "09.02.2020  1,851    1,820   1,863  1,809   44,64M    1,31%\n",
       "02.02.2020  1,827    1,800   1,849  1,792   56,23M    1,39%\n",
       "...           ...      ...     ...    ...      ...      ...\n",
       "31.01.2010  1,329    1,372   1,408  1,318   55,58M   -3,35%\n",
       "24.01.2010  1,375    1,402   1,416  1,355   46,92M   -2,20%\n",
       "17.01.2010  1,406    1,420   1,462  1,402   38,93M   -0,71%\n",
       "10.01.2010  1,416    1,426   1,450  1,405   36,30M   -0,49%\n",
       "03.01.2010  1,423    1,477   1,480  1,405   48,70M   -2,93%\n",
       "\n",
       "[531 rows x 6 columns]"
      ]
     },
     "execution_count": 18,
     "metadata": {},
     "output_type": "execute_result"
    }
   ],
   "source": [
    "a2aWk"
   ]
  },
  {
   "cell_type": "markdown",
   "metadata": {},
   "source": [
    "Facciamo un pò di pulizia rimuovendo due colonne da questa struttura di tipo pd.DataFrame"
   ]
  },
  {
   "cell_type": "code",
   "execution_count": 19,
   "metadata": {},
   "outputs": [],
   "source": [
    "del a2aWk[\"Vol.\"]"
   ]
  },
  {
   "cell_type": "code",
   "execution_count": 20,
   "metadata": {},
   "outputs": [],
   "source": [
    "del a2aWk[\"Var. %\"]"
   ]
  },
  {
   "cell_type": "code",
   "execution_count": 21,
   "metadata": {},
   "outputs": [
    {
     "data": {
      "text/html": [
       "<div>\n",
       "<style scoped>\n",
       "    .dataframe tbody tr th:only-of-type {\n",
       "        vertical-align: middle;\n",
       "    }\n",
       "\n",
       "    .dataframe tbody tr th {\n",
       "        vertical-align: top;\n",
       "    }\n",
       "\n",
       "    .dataframe thead th {\n",
       "        text-align: right;\n",
       "    }\n",
       "</style>\n",
       "<table border=\"1\" class=\"dataframe\">\n",
       "  <thead>\n",
       "    <tr style=\"text-align: right;\">\n",
       "      <th></th>\n",
       "      <th>Ultimo</th>\n",
       "      <th>Apertura</th>\n",
       "      <th>Massimo</th>\n",
       "      <th>Minimo</th>\n",
       "    </tr>\n",
       "    <tr>\n",
       "      <th>Data</th>\n",
       "      <th></th>\n",
       "      <th></th>\n",
       "      <th></th>\n",
       "      <th></th>\n",
       "    </tr>\n",
       "  </thead>\n",
       "  <tbody>\n",
       "    <tr>\n",
       "      <td>01.03.2020</td>\n",
       "      <td>1,530</td>\n",
       "      <td>1,597</td>\n",
       "      <td>1,669</td>\n",
       "      <td>1,506</td>\n",
       "    </tr>\n",
       "    <tr>\n",
       "      <td>23.02.2020</td>\n",
       "      <td>1,575</td>\n",
       "      <td>1,798</td>\n",
       "      <td>1,808</td>\n",
       "      <td>1,555</td>\n",
       "    </tr>\n",
       "    <tr>\n",
       "      <td>16.02.2020</td>\n",
       "      <td>1,851</td>\n",
       "      <td>1,851</td>\n",
       "      <td>1,901</td>\n",
       "      <td>1,839</td>\n",
       "    </tr>\n",
       "    <tr>\n",
       "      <td>09.02.2020</td>\n",
       "      <td>1,851</td>\n",
       "      <td>1,820</td>\n",
       "      <td>1,863</td>\n",
       "      <td>1,809</td>\n",
       "    </tr>\n",
       "    <tr>\n",
       "      <td>02.02.2020</td>\n",
       "      <td>1,827</td>\n",
       "      <td>1,800</td>\n",
       "      <td>1,849</td>\n",
       "      <td>1,792</td>\n",
       "    </tr>\n",
       "    <tr>\n",
       "      <td>...</td>\n",
       "      <td>...</td>\n",
       "      <td>...</td>\n",
       "      <td>...</td>\n",
       "      <td>...</td>\n",
       "    </tr>\n",
       "    <tr>\n",
       "      <td>31.01.2010</td>\n",
       "      <td>1,329</td>\n",
       "      <td>1,372</td>\n",
       "      <td>1,408</td>\n",
       "      <td>1,318</td>\n",
       "    </tr>\n",
       "    <tr>\n",
       "      <td>24.01.2010</td>\n",
       "      <td>1,375</td>\n",
       "      <td>1,402</td>\n",
       "      <td>1,416</td>\n",
       "      <td>1,355</td>\n",
       "    </tr>\n",
       "    <tr>\n",
       "      <td>17.01.2010</td>\n",
       "      <td>1,406</td>\n",
       "      <td>1,420</td>\n",
       "      <td>1,462</td>\n",
       "      <td>1,402</td>\n",
       "    </tr>\n",
       "    <tr>\n",
       "      <td>10.01.2010</td>\n",
       "      <td>1,416</td>\n",
       "      <td>1,426</td>\n",
       "      <td>1,450</td>\n",
       "      <td>1,405</td>\n",
       "    </tr>\n",
       "    <tr>\n",
       "      <td>03.01.2010</td>\n",
       "      <td>1,423</td>\n",
       "      <td>1,477</td>\n",
       "      <td>1,480</td>\n",
       "      <td>1,405</td>\n",
       "    </tr>\n",
       "  </tbody>\n",
       "</table>\n",
       "<p>531 rows × 4 columns</p>\n",
       "</div>"
      ],
      "text/plain": [
       "           Ultimo Apertura Massimo Minimo\n",
       "Data                                     \n",
       "01.03.2020  1,530    1,597   1,669  1,506\n",
       "23.02.2020  1,575    1,798   1,808  1,555\n",
       "16.02.2020  1,851    1,851   1,901  1,839\n",
       "09.02.2020  1,851    1,820   1,863  1,809\n",
       "02.02.2020  1,827    1,800   1,849  1,792\n",
       "...           ...      ...     ...    ...\n",
       "31.01.2010  1,329    1,372   1,408  1,318\n",
       "24.01.2010  1,375    1,402   1,416  1,355\n",
       "17.01.2010  1,406    1,420   1,462  1,402\n",
       "10.01.2010  1,416    1,426   1,450  1,405\n",
       "03.01.2010  1,423    1,477   1,480  1,405\n",
       "\n",
       "[531 rows x 4 columns]"
      ]
     },
     "execution_count": 21,
     "metadata": {},
     "output_type": "execute_result"
    }
   ],
   "source": [
    "a2aWk"
   ]
  },
  {
   "cell_type": "markdown",
   "metadata": {},
   "source": [
    "Applichiamo l'utility function prima definita per avere una time series più ordinata focalizzata esclusivamente sul prezzo di chiusura settimanale (Ultimo)."
   ]
  },
  {
   "cell_type": "code",
   "execution_count": 22,
   "metadata": {},
   "outputs": [],
   "source": [
    "adjA2aWkClose = modInvestingComplete(a2aWk).loc[\"2010-01-02\":\"2020-01-02\", \"Ultimo\"]"
   ]
  },
  {
   "cell_type": "code",
   "execution_count": 23,
   "metadata": {},
   "outputs": [
    {
     "data": {
      "text/plain": [
       "2010-01-03    1.423\n",
       "2010-01-10    1.416\n",
       "2010-01-17    1.406\n",
       "2010-01-24    1.375\n",
       "2010-01-31    1.329\n",
       "              ...  \n",
       "2019-12-01    1.637\n",
       "2019-12-08    1.636\n",
       "2019-12-15    1.703\n",
       "2019-12-22    1.698\n",
       "2019-12-29    1.663\n",
       "Name: Ultimo, Length: 522, dtype: float64"
      ]
     },
     "execution_count": 23,
     "metadata": {},
     "output_type": "execute_result"
    }
   ],
   "source": [
    "adjA2aWkClose"
   ]
  },
  {
   "cell_type": "markdown",
   "metadata": {},
   "source": [
    "Abbiamo adesso una serie temporale ordinata dei prezzi di chiusura settimanali nel periodo \"2010-01-02 / 2020-01-02\"\n",
    "\n",
    "Sfruttando la seguente procedura andiamo a creare una struttura simile, che semplicemente sposta in avanti di un frame (1 settimana) l'attuale raccolta dati. "
   ]
  },
  {
   "cell_type": "code",
   "execution_count": 24,
   "metadata": {},
   "outputs": [],
   "source": [
    "a2aClosePrice_t1 = adjA2aWkClose\n",
    "a2aClosePrice_tm1 = a2aClosePrice_t1.shift(periods=1, freq = \"1w\")"
   ]
  },
  {
   "cell_type": "code",
   "execution_count": 25,
   "metadata": {},
   "outputs": [
    {
     "data": {
      "text/plain": [
       "2010-01-10    1.423\n",
       "2010-01-17    1.416\n",
       "2010-01-24    1.406\n",
       "2010-01-31    1.375\n",
       "2010-02-07    1.329\n",
       "              ...  \n",
       "2019-12-08    1.637\n",
       "2019-12-15    1.636\n",
       "2019-12-22    1.703\n",
       "2019-12-29    1.698\n",
       "2020-01-05    1.663\n",
       "Freq: W-SUN, Name: Ultimo, Length: 522, dtype: float64"
      ]
     },
     "execution_count": 25,
     "metadata": {},
     "output_type": "execute_result"
    }
   ],
   "source": [
    "a2aClosePrice_tm1"
   ]
  },
  {
   "cell_type": "markdown",
   "metadata": {},
   "source": [
    "Sfruttando la capacità di vettorializzare semplici operazioni matematiche (ovvero applicarle su tutti i valori con una semplice operazione) possiamo applicare la seguente formula per calcolare il _tasso di rendimento logaritmico settimanale_ (assumendo un regime di capitalizzazione esponenziale): \n",
    "\n",
    "log(P_t+1/P_t) = log(P_t+1) - log(P_t) ) r_t,t+1 "
   ]
  },
  {
   "cell_type": "code",
   "execution_count": 26,
   "metadata": {},
   "outputs": [],
   "source": [
    "a2aWkLogRet = np.log(a2aClosePrice_t1) - np.log(a2aClosePrice_tm1)\n",
    "a2aWkLogRet = a2aWkLogRet.dropna() "
   ]
  },
  {
   "cell_type": "code",
   "execution_count": 27,
   "metadata": {},
   "outputs": [
    {
     "data": {
      "text/plain": [
       "2010-01-10   -0.004931\n",
       "2010-01-17   -0.007087\n",
       "2010-01-24   -0.022295\n",
       "2010-01-31   -0.034027\n",
       "2010-02-07   -0.047775\n",
       "                ...   \n",
       "2019-12-01   -0.042458\n",
       "2019-12-08   -0.000611\n",
       "2019-12-15    0.040137\n",
       "2019-12-22   -0.002940\n",
       "2019-12-29   -0.020828\n",
       "Name: Ultimo, Length: 521, dtype: float64"
      ]
     },
     "execution_count": 27,
     "metadata": {},
     "output_type": "execute_result"
    }
   ],
   "source": [
    "a2aWkLogRet"
   ]
  },
  {
   "cell_type": "markdown",
   "metadata": {},
   "source": [
    "Ovviamente un'osservazione, nel calcolo del rendimento, viene persa. "
   ]
  },
  {
   "cell_type": "code",
   "execution_count": 28,
   "metadata": {},
   "outputs": [
    {
     "data": {
      "text/plain": [
       "count    521.000000\n",
       "mean       0.000299\n",
       "std        0.041743\n",
       "min       -0.175279\n",
       "25%       -0.022911\n",
       "50%        0.001109\n",
       "75%        0.027629\n",
       "max        0.184623\n",
       "Name: Ultimo, dtype: float64"
      ]
     },
     "execution_count": 28,
     "metadata": {},
     "output_type": "execute_result"
    }
   ],
   "source": [
    "a2aWkLogRet.describe()"
   ]
  },
  {
   "cell_type": "markdown",
   "metadata": {},
   "source": [
    "Per quanto riguarda la media geometrica del rendimento settimanale: "
   ]
  },
  {
   "cell_type": "code",
   "execution_count": 29,
   "metadata": {},
   "outputs": [
    {
     "name": "stdout",
     "output_type": "stream",
     "text": [
      "-0.0005803253766529792\n"
     ]
    }
   ],
   "source": [
    "avgWkRate = stats.gmean(a2aWkLogRet +1 ) -1\n",
    "print(avgWkRate)"
   ]
  },
  {
   "cell_type": "markdown",
   "metadata": {},
   "source": [
    "**Grafico delle oscillazioni di rendimento in confronto al rendimento medio settimanale nel periodo di osservazione**"
   ]
  },
  {
   "cell_type": "code",
   "execution_count": 30,
   "metadata": {},
   "outputs": [
    {
     "name": "stderr",
     "output_type": "stream",
     "text": [
      "C:\\Users\\simon\\Anaconda3\\lib\\site-packages\\pandas\\plotting\\_matplotlib\\converter.py:103: FutureWarning: Using an implicitly registered datetime converter for a matplotlib plotting method. The converter was registered by pandas on import. Future versions of pandas will require you to explicitly register matplotlib converters.\n",
      "\n",
      "To register the converters:\n",
      "\t>>> from pandas.plotting import register_matplotlib_converters\n",
      "\t>>> register_matplotlib_converters()\n",
      "  warnings.warn(msg, FutureWarning)\n"
     ]
    },
    {
     "data": {
      "image/png": "[encoded data removed]",
      "text/plain": [
       "<Figure size 720x432 with 1 Axes>"
      ]
     },
     "metadata": {
      "needs_background": "light"
     },
     "output_type": "display_data"
    }
   ],
   "source": [
    "avgWkRateSeries= pd.Series(data = [avgWkRate for i in range(a2aWkLogRet.size)],\n",
    "                                         index =a2aWkLogRet.index )\n",
    "\n",
    "plt.figure(figsize=(10,6))\n",
    "plt.plot(a2aWkLogRet,'b',lw=1.5, label ='WKLogRet')\n",
    "plt.plot(avgWkRateSeries, 'r', lw =1.5, label ='AverageRet')\n",
    "plt.legend (loc=0)\n",
    "plt.xlabel('Weeks')\n",
    "plt.ylabel('logRet')\n",
    "plt.title('Comparison between weekly log returns on Dax and their average')\n",
    "\n",
    "plt.show()"
   ]
  },
  {
   "cell_type": "code",
   "execution_count": 31,
   "metadata": {},
   "outputs": [
    {
     "name": "stdout",
     "output_type": "stream",
     "text": [
      "File ./Dataset\\A2A wk 10y dirty.csv already removed.\n"
     ]
    }
   ],
   "source": [
    "removeFile(filePath)"
   ]
  },
  {
   "cell_type": "markdown",
   "metadata": {},
   "source": [
    "**Adesso** Ripetiamo lo stesso per i dati relativi alle quotazioni dell'indice FTSE MIB40 nello stesso range temporale:"
   ]
  },
  {
   "cell_type": "code",
   "execution_count": 32,
   "metadata": {},
   "outputs": [],
   "source": [
    "filePath = \"./Dataset\"\n",
    "filePath = os.path.join(dataPath, \"Ftsemib  wk 10y dirty.csv\")"
   ]
  },
  {
   "cell_type": "code",
   "execution_count": 33,
   "metadata": {},
   "outputs": [],
   "source": [
    "ftsemibWk = pd.read_csv(filePath, index_col=0)"
   ]
  },
  {
   "cell_type": "code",
   "execution_count": 34,
   "metadata": {},
   "outputs": [],
   "source": [
    "del ftsemibWk[\"Vol.\"]\n"
   ]
  },
  {
   "cell_type": "code",
   "execution_count": 35,
   "metadata": {},
   "outputs": [],
   "source": [
    "del ftsemibWk[\"Var. %\"]"
   ]
  },
  {
   "cell_type": "code",
   "execution_count": 36,
   "metadata": {},
   "outputs": [],
   "source": [
    "adjFtseMibWkClose = modInvestingComplete(ftsemibWk).loc[\"2010-01-02\":\"2020-01-02\", \"Ultimo\"]"
   ]
  },
  {
   "cell_type": "code",
   "execution_count": 37,
   "metadata": {},
   "outputs": [
    {
     "data": {
      "text/plain": [
       "2010-01-03    23811.13\n",
       "2010-01-10    23472.11\n",
       "2010-01-17    22567.81\n",
       "2010-01-24    21896.29\n",
       "2010-01-31    20815.88\n",
       "                ...   \n",
       "2019-12-01    23182.72\n",
       "2019-12-08    23329.33\n",
       "2019-12-15    24003.64\n",
       "2019-12-22    23757.60\n",
       "2019-12-29    23702.35\n",
       "Name: Ultimo, Length: 522, dtype: float64"
      ]
     },
     "execution_count": 37,
     "metadata": {},
     "output_type": "execute_result"
    }
   ],
   "source": [
    "adjFtseMibWkClose"
   ]
  },
  {
   "cell_type": "markdown",
   "metadata": {},
   "source": [
    "Di stessa lunghezza rispetto al precedente dataset.\n",
    "Ripetiamo adesso i medesimi passaggi per arrivare alla serie di rendimenti logaritmici settimanali. "
   ]
  },
  {
   "cell_type": "code",
   "execution_count": 38,
   "metadata": {},
   "outputs": [],
   "source": [
    "ftseWkClose_t = adjFtseMibWkClose\n",
    "ftseWkClose_tm1 = ftseWkClose_t.shift(periods = 1, freq = '1w')"
   ]
  },
  {
   "cell_type": "code",
   "execution_count": 39,
   "metadata": {},
   "outputs": [],
   "source": [
    "ftseWkLogRet = np.log(ftseWkClose_t) -  np.log(ftseWkClose_tm1)\n",
    "ftseWkLogRet = ftseWkLogRet.dropna()"
   ]
  },
  {
   "cell_type": "code",
   "execution_count": 40,
   "metadata": {},
   "outputs": [
    {
     "data": {
      "text/plain": [
       "2010-01-10   -0.014340\n",
       "2010-01-17   -0.039288\n",
       "2010-01-24   -0.030207\n",
       "2010-01-31   -0.050601\n",
       "2010-02-07    0.010515\n",
       "                ...   \n",
       "2019-12-01   -0.003299\n",
       "2019-12-08    0.006304\n",
       "2019-12-15    0.028494\n",
       "2019-12-22   -0.010303\n",
       "2019-12-29   -0.002328\n",
       "Name: Ultimo, Length: 521, dtype: float64"
      ]
     },
     "execution_count": 40,
     "metadata": {},
     "output_type": "execute_result"
    }
   ],
   "source": [
    "ftseWkLogRet"
   ]
  },
  {
   "cell_type": "markdown",
   "metadata": {},
   "source": [
    "**Regressione lineare con il metodo dei minimi quadrati**\n",
    "\n",
    "Adesso che disponiamo di una soddisfacente serie temporale in termini di rendimenti logaritmici rispettivamente per FTSE MIB40 e il titolo A2A (osservazioni che coincidono in termini di date di osservazione) possiamo disegnare un grafico a dispersione per vedere se esiste o meno una qualche correlazione. "
   ]
  },
  {
   "cell_type": "code",
   "execution_count": 41,
   "metadata": {},
   "outputs": [
    {
     "data": {
      "image/png": "[encoded data removed]",
      "text/plain": [
       "<Figure size 720x432 with 1 Axes>"
      ]
     },
     "metadata": {
      "needs_background": "light"
     },
     "output_type": "display_data"
    }
   ],
   "source": [
    "plt.figure(figsize=(10,6))\n",
    "plt.scatter(ftseWkLogRet, a2aWkLogRet, marker ='o' )\n",
    "plt.show()"
   ]
  },
  {
   "cell_type": "markdown",
   "metadata": {},
   "source": [
    "Rispettivamente abbiamo osservazioni del titolo A2A sull'asse Y mentre osservazioni dell'indice FTSEMIB sull'asse delle X. \n",
    "Sembra esistere una relazione positiva tra le due variabil"
   ]
  },
  {
   "cell_type": "markdown",
   "metadata": {},
   "source": [
    "Per avere più chiarezza è possibile performare una regressione lineare semprice con il metodo dei minimi quadrati (OLS) per individuare i parametri caratterizzanti rispettivamente l'intercetta ed il coefficiente angolare. **Non scenderò nei dettagli in quanto esulano dallo scopo**."
   ]
  },
  {
   "cell_type": "code",
   "execution_count": 42,
   "metadata": {},
   "outputs": [],
   "source": [
    "from sklearn.linear_model import LinearRegression\n",
    "model = LinearRegression()"
   ]
  },
  {
   "cell_type": "code",
   "execution_count": 43,
   "metadata": {},
   "outputs": [],
   "source": [
    "x = np.array(ftseWkLogRet).reshape((-1,1))\n",
    "y = np.array(a2aWkLogRet)"
   ]
  },
  {
   "cell_type": "code",
   "execution_count": 44,
   "metadata": {},
   "outputs": [
    {
     "data": {
      "text/plain": [
       "LinearRegression(copy_X=True, fit_intercept=True, n_jobs=None, normalize=False)"
      ]
     },
     "execution_count": 44,
     "metadata": {},
     "output_type": "execute_result"
    }
   ],
   "source": [
    "model.fit(x,y)"
   ]
  },
  {
   "cell_type": "code",
   "execution_count": 45,
   "metadata": {},
   "outputs": [],
   "source": [
    "y_pred = model.predict(x)"
   ]
  },
  {
   "cell_type": "markdown",
   "metadata": {},
   "source": [
    "**Risultati** "
   ]
  },
  {
   "cell_type": "markdown",
   "metadata": {},
   "source": [
    "- 1) Intercetta: "
   ]
  },
  {
   "cell_type": "code",
   "execution_count": 46,
   "metadata": {},
   "outputs": [
    {
     "data": {
      "text/plain": [
       "0.00030677899457041627"
      ]
     },
     "execution_count": 46,
     "metadata": {},
     "output_type": "execute_result"
    }
   ],
   "source": [
    "model.intercept_"
   ]
  },
  {
   "cell_type": "markdown",
   "metadata": {},
   "source": [
    "- 2) Coefficiente angolare (Beta di un CAPM)"
   ]
  },
  {
   "cell_type": "code",
   "execution_count": 47,
   "metadata": {},
   "outputs": [
    {
     "data": {
      "text/plain": [
       "array([0.86832176])"
      ]
     },
     "execution_count": 47,
     "metadata": {},
     "output_type": "execute_result"
    }
   ],
   "source": [
    "model.coef_"
   ]
  },
  {
   "cell_type": "markdown",
   "metadata": {},
   "source": [
    "- 3) Rappresentazione grafica della retta di regressione: "
   ]
  },
  {
   "cell_type": "code",
   "execution_count": 48,
   "metadata": {},
   "outputs": [
    {
     "data": {
      "image/png": "[encoded data removed]",
      "text/plain": [
       "<Figure size 720x432 with 1 Axes>"
      ]
     },
     "metadata": {
      "needs_background": "light"
     },
     "output_type": "display_data"
    }
   ],
   "source": [
    "plt.figure(figsize=(10,6))\n",
    "plt.scatter(ftseWkLogRet, a2aWkLogRet, marker ='o' )\n",
    "plt.plot(x,y_pred, 'r', lw= 2)\n",
    "\n",
    "plt.show()"
   ]
  },
  {
   "cell_type": "markdown",
   "metadata": {},
   "source": [
    "---"
   ]
  },
  {
   "cell_type": "markdown",
   "metadata": {},
   "source": [
    "## 3) 2° applicazione: metodo Monte Carlo e teorema del limite centrale. <a name=\"3\"></a>"
   ]
  },
  {
   "cell_type": "code",
   "execution_count": 49,
   "metadata": {},
   "outputs": [],
   "source": [
    "import random \n",
    "import matplotlib.pyplot as plt"
   ]
  },
  {
   "cell_type": "code",
   "execution_count": 50,
   "metadata": {},
   "outputs": [
    {
     "name": "stdout",
     "output_type": "stream",
     "text": [
      "Number of iterations: 100\n"
     ]
    }
   ],
   "source": [
    "k = int(input(\"Number of iterations: \"))"
   ]
  },
  {
   "cell_type": "code",
   "execution_count": 51,
   "metadata": {},
   "outputs": [],
   "source": [
    "lis_1 = []\n",
    "lis_2 = []\n",
    "\n",
    "lis_check = []"
   ]
  },
  {
   "cell_type": "code",
   "execution_count": 52,
   "metadata": {},
   "outputs": [],
   "source": [
    "random.seed(1)\n",
    "\n",
    "for _ in range(k): \n",
    "    \n",
    "    lis_1.append(random.randint(0,5))\n"
   ]
  },
  {
   "cell_type": "code",
   "execution_count": 53,
   "metadata": {},
   "outputs": [],
   "source": [
    "random.seed(2)\n",
    "\n",
    "for _ in range(k): \n",
    "    \n",
    "    lis_2.append(random.randint(0,5))"
   ]
  },
  {
   "cell_type": "code",
   "execution_count": 54,
   "metadata": {},
   "outputs": [],
   "source": [
    "#Check per PRNG: \n",
    "\n",
    "random.seed(1)\n",
    "for _ in range(k): \n",
    "    \n",
    "    lis_check.append(random.randint(0,5))"
   ]
  },
  {
   "cell_type": "code",
   "execution_count": 55,
   "metadata": {},
   "outputs": [
    {
     "name": "stdout",
     "output_type": "stream",
     "text": [
      "[1, 4, 0, 2, 0]\n",
      "[0, 0, 0, 2, 1]\n",
      "[1, 4, 0, 2, 0]\n"
     ]
    }
   ],
   "source": [
    "print(lis_1[:5])\n",
    "print(lis_2[:5])\n",
    "print(lis_check[:5])"
   ]
  },
  {
   "cell_type": "code",
   "execution_count": 56,
   "metadata": {},
   "outputs": [
    {
     "data": {
      "image/png": "[encoded data removed]",
      "text/plain": [
       "<Figure size 432x288 with 1 Axes>"
      ]
     },
     "metadata": {
      "needs_background": "light"
     },
     "output_type": "display_data"
    }
   ],
   "source": [
    "plt.hist(lis_1,6,range = [-0.5,5.5]) #6 = numero di bins, #range =... il range di riferimento del mio istogramma\n",
    "\n",
    "plt.show()"
   ]
  },
  {
   "cell_type": "markdown",
   "metadata": {},
   "source": [
    "**Applicazione di una Simulazione Montecarlo: lanciare in successione due monete ed ottenere sempre testa.**"
   ]
  },
  {
   "cell_type": "markdown",
   "metadata": {},
   "source": [
    "Secondo l'approccio frequentista, in cui la probabilità di un evento è data dal rapporto _eventi favorevoli / eventi totali_ possiamo facilmente intuire che la probabilità di ottenere testa o croce sarà rispettivamente data da: \n",
    "\n",
    "$\\frac{Testa}{(Testa,Croce)}$ $=$ $\\frac{1}{2}$ \n",
    "\n",
    "Conseguentemente, se decidiamo di voler calcolare la probabilità di ottenere per due volte di seguito testa da due lanci (indipendenti), avremo che: \n",
    "\n",
    "$P_{testax2}$ $=$ $\\frac{1}{2}$ $.$ $\\frac{1}{2}$ $=$ $\\frac{1}{4}$ = $0.25$ = $25$%"
   ]
  },
  {
   "cell_type": "markdown",
   "metadata": {},
   "source": [
    "Proviamo adesso ad implementare una simulazione, verificando attraverso una serie di tentativi (sempre più crescente) la convergenza dei nostri successi a questo livello teorico."
   ]
  },
  {
   "cell_type": "code",
   "execution_count": 57,
   "metadata": {},
   "outputs": [],
   "source": [
    "from random import randint, seed "
   ]
  },
  {
   "cell_type": "markdown",
   "metadata": {},
   "source": [
    "- Definizione del dominio di possibili eventi:"
   ]
  },
  {
   "cell_type": "code",
   "execution_count": 58,
   "metadata": {},
   "outputs": [
    {
     "data": {
      "text/plain": [
       "['Testa', 'Croce']"
      ]
     },
     "execution_count": 58,
     "metadata": {},
     "output_type": "execute_result"
    }
   ],
   "source": [
    "seed(1)\n",
    "\n",
    "eventi = [\"Testa\",\"Croce\"]\n",
    "\n",
    "eventi"
   ]
  },
  {
   "cell_type": "markdown",
   "metadata": {},
   "source": [
    "- Generazione di input randomicamente da una distribuzione di probabilità (uniforme) sul dominio di eventi definito:"
   ]
  },
  {
   "cell_type": "code",
   "execution_count": 59,
   "metadata": {},
   "outputs": [
    {
     "name": "stdout",
     "output_type": "stream",
     "text": [
      "2\n"
     ]
    }
   ],
   "source": [
    "tentativi = 10\n",
    "successi = 0 #Pre-allocazione della serie di successi che otterremo\n",
    "\n",
    "for _ in range(tentativi): \n",
    "    \n",
    "    combo = []\n",
    "    \n",
    "    lancio_1 = eventi[random.randint(0,1)]\n",
    "    combo.append(lancio_1)\n",
    "    \n",
    "    lancio_2 = eventi[random.randint(0,1)]\n",
    "    combo.append(lancio_2)\n",
    "\n",
    "    \n",
    "    \n",
    "    \n",
    "    #print(combo)\n",
    "\n",
    "    \n",
    "#Verifica del numero di successi inerenti all'evento composto cui siamo interessati \n",
    "\n",
    "    if combo == [\"Testa\",\"Testa\"]: \n",
    "        \n",
    "        successi +=1 \n",
    "        \n",
    "print(successi)\n",
    "        "
   ]
  },
  {
   "cell_type": "markdown",
   "metadata": {},
   "source": [
    "- Aggregazione dei risultati ottenuti: "
   ]
  },
  {
   "cell_type": "code",
   "execution_count": 60,
   "metadata": {},
   "outputs": [
    {
     "name": "stdout",
     "output_type": "stream",
     "text": [
      "La probabilità di ottenere due volte testa è 0.20\n"
     ]
    }
   ],
   "source": [
    "print(\"La probabilità di ottenere due volte testa è {:.2f}\".format(successi/tentativi))"
   ]
  },
  {
   "cell_type": "markdown",
   "metadata": {},
   "source": [
    "Chiaramente, per un piccolo numero di tentativi è evidente l'assenza di convergenza a livello teorico. \n",
    "\n",
    "Basandoci su un approccio frequentista, il nostro risultato potrà avere un riscontro coerente con l'aspettativa teorica solo in seguito ad un grande numero di simulazioni (iterazioni). \n",
    "\n",
    "Mettendo insieme quanto prima rappresentato, creiamo una funzione di utilità: "
   ]
  },
  {
   "cell_type": "code",
   "execution_count": 61,
   "metadata": {},
   "outputs": [],
   "source": [
    "def lancio_moneta(lanci = 2, tentativi = 10, richiesta = None):\n",
    "    \n",
    "    \n",
    "    eventi = [\"Testa\", \"Croce\"]\n",
    "    \n",
    "    successi_testa = 0 \n",
    "    successi_croce = 0\n",
    "    \n",
    "    insuccesso = 0 \n",
    "    \n",
    "    for _ in range(tentativi): \n",
    "        \n",
    "        combo = []\n",
    "        \n",
    "        for toss in range(lanci): \n",
    "            \n",
    "            lancio = eventi[randint(0,1)]\n",
    "            combo.append(lancio)\n",
    "        \n",
    "        if combo == [\"Testa\", \"Testa\"]: \n",
    "            \n",
    "            successi_testa +=1 \n",
    "        \n",
    "        elif combo == [\"Croce\", \"Croce\"]: \n",
    "            \n",
    "            successi_croce +=1 \n",
    "            \n",
    "        else: \n",
    "            insuccesso = 0 \n",
    "            \n",
    "        \n",
    "    probabilità_serie_testa = successi_testa/tentativi\n",
    "    probabilità_serie_croce = successi_croce/tentativi\n",
    "    probabilità_no_serie = insuccesso/tentativi \n",
    "    \n",
    "    if richiesta == \"T\": \n",
    "        \n",
    "        return probabilità_serie_testa\n",
    "    \n",
    "    elif richiesta ==\"C\": \n",
    "        \n",
    "        return probabilità_serie_croce\n",
    "\n",
    "    else: \n",
    "        return probabilità_no_serie \n",
    "    "
   ]
  },
  {
   "cell_type": "code",
   "execution_count": 62,
   "metadata": {},
   "outputs": [
    {
     "data": {
      "text/plain": [
       "0.2"
      ]
     },
     "execution_count": 62,
     "metadata": {},
     "output_type": "execute_result"
    }
   ],
   "source": [
    "prob_serie_testa = lancio_moneta(2,10,\"T\")\n",
    "prob_serie_testa "
   ]
  },
  {
   "cell_type": "markdown",
   "metadata": {},
   "source": [
    "**Proviamo a farci un'idea della convergenza da un punto di vista grafico:** \n",
    "\n",
    "Sull'asse delle ascisse del nostro grafico cartesiano abbiamo il numero di simulazioni $N$, mentre come variabile dipendente la probabilità di successo $P(N)$. "
   ]
  },
  {
   "cell_type": "code",
   "execution_count": 63,
   "metadata": {},
   "outputs": [],
   "source": [
    "lista_tentativi=  [i for i in range(1000,100000+1000,1000)]\n",
    "\n",
    "#print(lista_tentativi)\n",
    "\n",
    "\n",
    "lista_probabilità = []\n",
    "\n",
    "for tentativi in lista_tentativi: \n",
    "    \n",
    "    lista_probabilità.append(lancio_moneta(tentativi = tentativi, richiesta = \"T\"))\n",
    "    \n",
    "#print(lista_probabilità)"
   ]
  },
  {
   "cell_type": "code",
   "execution_count": 64,
   "metadata": {},
   "outputs": [
    {
     "name": "stdout",
     "output_type": "stream",
     "text": [
      "[0.247, 0.2435, 0.26466666666666666, 0.251, 0.2544]\n"
     ]
    }
   ],
   "source": [
    "print(lista_probabilità[0:5]) #Primi 5 valori della lista, partendo da 1000 tentativi a 5000"
   ]
  },
  {
   "cell_type": "code",
   "execution_count": 65,
   "metadata": {},
   "outputs": [
    {
     "name": "stdout",
     "output_type": "stream",
     "text": [
      "[0.24895833333333334, 0.2517010309278351, 0.25198979591836734, 0.24852525252525254, 0.25003]\n"
     ]
    }
   ],
   "source": [
    "print(lista_probabilità[-5:]) #Ultimi 5 valori della lista "
   ]
  },
  {
   "cell_type": "code",
   "execution_count": 66,
   "metadata": {},
   "outputs": [
    {
     "data": {
      "image/png": "[encoded data removed]",
      "text/plain": [
       "<Figure size 576x360 with 1 Axes>"
      ]
     },
     "metadata": {
      "needs_background": "light"
     },
     "output_type": "display_data"
    }
   ],
   "source": [
    "x = lista_tentativi\n",
    "y = lista_probabilità \n",
    "\n",
    "\n",
    "fig = plt.figure(figsize = (8,5))\n",
    "\n",
    "plt.plot(x,y, marker = \"+\", color = \"green\", label = \"Linea di convergenza\")\n",
    "plt.title(\"Sviluppo della convergenza all'aumentare delle simulazioni dell'esperimento: 2 volte testa\")\n",
    "plt.xlabel(\"Numero simulazioni\")\n",
    "plt.ylabel(\"Probabilità di ottenere due volte testa\")\n",
    "\n",
    "plt.hlines(0.25,0,100000,color = \"blue\", label =\"Probabilità teorica\") \n",
    "\n",
    "plt.legend()\n",
    "plt.show()"
   ]
  },
  {
   "cell_type": "markdown",
   "metadata": {},
   "source": [
    "**Accuratezza di una Simulazione Montecarlo: Teorema del limite centrale** "
   ]
  },
  {
   "cell_type": "markdown",
   "metadata": {},
   "source": [
    "Questo strumento è molto utilizzato in campo di analisi stocastica, basti però pensare che, per semplici applicazioni come quella rappresentata sopra può essere molto _time consuming_ : infatti, per ottenere un risultato facilmente dimostrabile a livello teorico è necessario utilizzare un elevato numero di simulazioni, fattispecie che richiede alla nostra macchina tempo."
   ]
  },
  {
   "cell_type": "markdown",
   "metadata": {},
   "source": [
    "Detto questo, tipicamente per poter testare l'accuratezza del nostro metodo facciamo ricorso ad un famoso teorema, molto utilizzato in campo statistico (inferenziale): il **teorema del limite centrale**. \n",
    "\n",
    "Senza scendere in troppi dettagli il famoso teorema enuncia che: la media di un grande numero di variabili aleatorie indipendenti e dotate della stessa distribuzione è approssimativamente normale, indipendentemente dalla distribuzione soggiacente. \n",
    "\n",
    "Nel nostro caso, la variabile di riferimento risulta essere rappresentata dal tentativo mentre il campione esattamente dal numero di simulazioni. \n",
    "\n",
    "Questo implica che la distribuzione di alcune statistiche, per esempio la media del campione, diventa nota anche se non sappiamo nulla a proposito della forma della distribuzione della popolazione da cui i campioni sono stati  estratti. \n",
    "\n",
    "Il termine grandezza del campione (numero simulazioni) è relativo, tanto sarà più grande tanto il risultato più accurato. \n",
    "\n",
    "Vediamo come la distribuzione, nel nostro caso del rapporto successi/tentativi al variare del numero di esperimenti (ogni esperimento prevederà di simulare N volte il doppio lancio di moneta) si comporta. \n",
    "\n",
    "Per ripetere esperimenti diversi utilizzeremo _seed_ diversi. \n"
   ]
  },
  {
   "cell_type": "code",
   "execution_count": 67,
   "metadata": {},
   "outputs": [
    {
     "name": "stdout",
     "output_type": "stream",
     "text": [
      "La media di tutti i risultati degli esperimenti è: 0.24942699999999998\n"
     ]
    },
    {
     "data": {
      "image/png": "[encoded data removed]",
      "text/plain": [
       "<Figure size 432x288 with 1 Axes>"
      ]
     },
     "metadata": {
      "needs_background": "light"
     },
     "output_type": "display_data"
    }
   ],
   "source": [
    "import numpy as np \n",
    "\n",
    "esperimento = 1000\n",
    "simulazioni = 1000\n",
    "\n",
    "prob_list = []\n",
    "\n",
    "for e in range(esperimento): \n",
    "    \n",
    "    seed(e)\n",
    "    \n",
    "    prob_list.append(lancio_moneta(tentativi = simulazioni, richiesta = \"T\"))\n",
    "\n",
    "\n",
    "print(\"La media di tutti i risultati degli esperimenti è: {}\".format(np.mean(prob_list)))    \n",
    "    \n",
    "plt.hist(prob_list,50, color = \"lightblue\", label = \"pdf\")\n",
    "\n",
    "plt.vlines(np.mean(prob_list),0,0.08*esperimento, color = \"red\",label = \"Mean\")\n",
    "\n",
    "plt.grid()\n",
    "plt.legend()\n",
    "plt.show()"
   ]
  },
  {
   "cell_type": "markdown",
   "metadata": {},
   "source": [
    "---"
   ]
  },
  {
   "cell_type": "markdown",
   "metadata": {},
   "source": [
    "Il resto del contenuto verrà trattato nei successivi notebook. \n",
    "\n",
    "Al momento la produzione è la seguente: \n",
    "\n",
    "**1)** [Python Room](https://github.com/simonelucchesi/Python_room) \n",
    "\n",
    "**2)** Python Room 2 "
   ]
  }
 ],
 "metadata": {
  "kernelspec": {
   "display_name": "Python 3",
   "language": "python",
   "name": "python3"
  },
  "language_info": {
   "codemirror_mode": {
    "name": "ipython",
    "version": 3
   },
   "file_extension": ".py",
   "mimetype": "text/x-python",
   "name": "python",
   "nbconvert_exporter": "python",
   "pygments_lexer": "ipython3",
   "version": "3.7.4"
  }
 },
 "nbformat": 4,
 "nbformat_minor": 2
}
