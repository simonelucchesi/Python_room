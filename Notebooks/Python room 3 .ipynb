{
 "cells": [
  {
   "cell_type": "markdown",
   "metadata": {},
   "source": [
    "## Python Room N°3\n",
    "\n",
    "**Collaboratore: Lucchesi Simone Luca**\n"
   ]
  },
  {
   "cell_type": "markdown",
   "metadata": {},
   "source": [
    "<img src=\"../Images/SFClub_Siena.png\" width=\"150\">"
   ]
  },
  {
   "cell_type": "markdown",
   "metadata": {},
   "source": [
    "# **INDICE**\n",
    "\n",
    "\n",
    "[**1**)](#1) **Introduzione.**\n",
    "   \n",
    "   \n",
    "[**2)**](#2) **Applicazione N°1: Regressione lineare semplice in poche righe.** \n",
    "\n",
    "\n",
    "   - [**2.1)**](#2.1) Utilizzo dati settimanali scaricati da Investing.com.\n",
    "    \n",
    "\n",
    "   - [**2.2)**](#2.2) Regressione lineare con il metodo dei minimi quadrati (OLS).\n",
    "\n",
    "\n",
    "[**3)**](#3) **Apllicazione N°2: Esempio di simulazione Monte Carlo e applicazione del teorema del limite centrale.**\n",
    "\n",
    "\n",
    "   - [**3.1)**](#3.1) PRNG: Pseudo Random Number Generator. \n",
    "    \n",
    "\n",
    "   - [**3.2)**](#3.2) Applicazione di una Simulazione Montecarlo: lanciare in successione due monete ed ottenere sempre testa.\n",
    "   \n",
    "        - [**3.2.1)**](#3.2.1) Convergenza dal punto di vista grafico. \n",
    "      \n",
    "      \n",
    "- [**3.3)**](#3.3) Accuratezza di una Simulazione Montecarlo: Teorema del limite centrale. \n",
    "  "
   ]
  },
  {
   "cell_type": "markdown",
   "metadata": {},
   "source": [
    "# 1) Introduzione <a name =\"1\"></a>"
   ]
  },
  {
   "cell_type": "markdown",
   "metadata": {},
   "source": [
    "# 2) Applicazione N°1: Regressione lineare semplice in poche righe. <a name=\"2\"></a>"
   ]
  },
  {
   "cell_type": "markdown",
   "metadata": {},
   "source": [
    "Vediamo come: importare, analizzare ed interpretare (graficamente e statisticamente) un paio di serie temporali: l'andamento del prezzo del FTSEMIB nel periodo 01/01/2019 e 01/01/2020 di contrasto all'andamento del titolo azionario A2A per lo stesso intervallo temporale. \n",
    "\n",
    "_Per semplicità non verranno definiti molti passaggi, assunti per il momento come dati._ "
   ]
  },
  {
   "cell_type": "code",
   "execution_count": null,
   "metadata": {},
   "outputs": [],
   "source": [
    "#Import preliminare \n",
    "import numpy as np \n",
    "import pandas as pd \n",
    "import os #Modulo utile per la gestione di file \n",
    "import matplotlib.pyplot as plt \n",
    "from scipy import stats #Modulo per la media geometrica (e non solo!)"
   ]
  },
  {
   "cell_type": "markdown",
   "metadata": {},
   "source": [
    "La seguente è una _funzione di utilità_ da me creata in passato per la gestione dei dataset scaricati gratuitamente da Investing in formato .csv (comma separated variables). "
   ]
  },
  {
   "cell_type": "code",
   "execution_count": null,
   "metadata": {},
   "outputs": [],
   "source": [
    "#Utility function\n",
    "\n",
    "def removeFile(fileName):\n",
    "    \"\"\"\n",
    "    removeFile(fileName) function remove file 'fileName', if it exists. It also prints on screen a success/failure message.\n",
    "    \n",
    "    Parameters:\n",
    "        fileName (str): name of the file ('Data' folder is assumed)\n",
    "        \n",
    "    Returns:\n",
    "        None\n",
    "    \"\"\"\n",
    "\n",
    "    if os.path.isfile(os.path.join(dataPath, fileName)):\n",
    "        os.remove(os.path.join(dataPath, fileName))\n",
    "\n",
    "        # double-check if file still exists\n",
    "        fileStillExists = os.path.isfile(os.path.join(dataPath, fileName))\n",
    "\n",
    "        if fileStillExists:\n",
    "            print(\"Failure: file {} still exists...\".format(fileName))\n",
    "        else:\n",
    "            print(\"Success: file {} successfully removed!\".format(fileName))\n",
    "            \n",
    "    else:\n",
    "        print(\"File {} already removed.\".format(fileName))"
   ]
  },
  {
   "cell_type": "code",
   "execution_count": null,
   "metadata": {},
   "outputs": [],
   "source": [
    "def modInvestingComplete(dataFrame): \n",
    "   \n",
    "    import datetime as dt # It can be omitted if preliminary imported\n",
    "    \n",
    "    \"\"\"\n",
    "    This function  starts modifying the DataFrame index composed by strings starting from element's aspetct \n",
    "    (converting dots to minus) and then modifying their order into convention \"Y-M-D\". Finally, it converts the list into a \n",
    "    dateTime object wich will replace the previous index. \n",
    "    All in order to have a correct index composed by dates which can be passed to get every useful result. \n",
    "     \n",
    "    \n",
    "    Then it passes to dataFrame elements removing points and converting commas into points for every dataframe column.\n",
    "    Thereafter it converts strings to float data type for each element in columns. \n",
    "    This is a correction needed to import dataframes from Investing csv's. \n",
    "    This is a leaner alternative to previous function, more compact but equally efficient.\n",
    "    \n",
    "    modInvesting(dataFrame) function first of all converts index into a list data type,  respectively \".\" to \" \" and \",\" to \".\" in dataFrames according to American convention. \n",
    "    Then it transform each value in each column from strings to float data type. \n",
    "    \n",
    "    Parameter: \n",
    "        (dataFrame): dataFrame data structure I imported from Investing.com, each element is a string. \n",
    "         \n",
    "    Results:\n",
    "        (dataFrame): the same data frame with values converted to make data analysis.  \n",
    "    \"\"\"\n",
    "\n",
    "\n",
    "\n",
    "\n",
    "    strDates = dataFrame.index.tolist()\n",
    "    \n",
    "    for i in range(len(strDates)):\n",
    "        strDates[i] = strDates[i].replace('.','-')\n",
    "            \n",
    "    dates = [dt.datetime.strptime(strDates[i], \"%d-%m-%Y\") for i in range(len(strDates))]\n",
    "    \n",
    "    newStrDates = [dt.datetime.strftime(dates[i], \"%Y-%m-%d\") for i in range (len(dates))]\n",
    "    \n",
    "    newDates = [dt.datetime.strptime(newStrDates[i], \"%Y-%m-%d\") for i in range(len(newStrDates))]\n",
    "\n",
    "    dataFrame.index = newDates\n",
    "    \n",
    "    \n",
    "    \n",
    "#With the following command I apply the function lambda to replace points with white bars to all elements of each column\n",
    "    \n",
    "    dataFrame = dataFrame.apply(lambda x: x.str.replace(\".\", \"\"))\n",
    "    \n",
    "#With the following command I apply the function lambda to replace commas with points to all elements of each column\n",
    "    \n",
    "    dataFrame = dataFrame.apply(lambda x: x.str.replace(\",\", \".\"))\n",
    "    \n",
    "#With the following command I apply the function lambda to convert in a numeric format all strings values in each column\n",
    "    \n",
    "    dataFrame = dataFrame.apply(pd.to_numeric)\n",
    "    \n",
    "#Finally, I can revert the order of rows in dataFrame object\n",
    "    \n",
    "    dataFrame = dataFrame.iloc[::-1,::]\n",
    "    \n",
    "    \n",
    "    \n",
    "    return  dataFrame"
   ]
  },
  {
   "cell_type": "markdown",
   "metadata": {},
   "source": [
    "## 2.1) Utilizzo dati settimanali scaricati da Investing.com <a name=\"2.1\"></a>"
   ]
  },
  {
   "cell_type": "markdown",
   "metadata": {},
   "source": [
    "**Utilizzo dati settimanali per A2A da Investing.com**\n",
    "\n",
    "Una volta scaricati tali dati, in formato .CSV possiamo importarli in Python utilizzando l'apposita funzione presente nel paccheto Pandas. \n"
   ]
  },
  {
   "cell_type": "code",
   "execution_count": null,
   "metadata": {},
   "outputs": [],
   "source": [
    "dataPath = \"./Dataset\"\n",
    "filePath = os.path.join(dataPath, \"A2A wk 10y dirty.csv\")"
   ]
  },
  {
   "cell_type": "code",
   "execution_count": null,
   "metadata": {},
   "outputs": [],
   "source": [
    "a2aWk = pd.read_csv(filePath, index_col=0)"
   ]
  },
  {
   "cell_type": "code",
   "execution_count": null,
   "metadata": {},
   "outputs": [],
   "source": [
    "a2aWk"
   ]
  },
  {
   "cell_type": "markdown",
   "metadata": {},
   "source": [
    "Facciamo un pò di pulizia rimuovendo due colonne da questa struttura di tipo pd.DataFrame"
   ]
  },
  {
   "cell_type": "code",
   "execution_count": null,
   "metadata": {},
   "outputs": [],
   "source": [
    "del a2aWk[\"Vol.\"]"
   ]
  },
  {
   "cell_type": "code",
   "execution_count": null,
   "metadata": {},
   "outputs": [],
   "source": [
    "del a2aWk[\"Var. %\"]"
   ]
  },
  {
   "cell_type": "code",
   "execution_count": null,
   "metadata": {},
   "outputs": [],
   "source": [
    "a2aWk"
   ]
  },
  {
   "cell_type": "markdown",
   "metadata": {},
   "source": [
    "Applichiamo l'utility function prima definita per avere una time series più ordinata focalizzata esclusivamente sul prezzo di chiusura settimanale (Ultimo)."
   ]
  },
  {
   "cell_type": "code",
   "execution_count": null,
   "metadata": {},
   "outputs": [],
   "source": [
    "adjA2aWkClose = modInvestingComplete(a2aWk).loc[\"2010-01-02\":\"2020-01-02\", \"Ultimo\"]"
   ]
  },
  {
   "cell_type": "code",
   "execution_count": null,
   "metadata": {},
   "outputs": [],
   "source": [
    "adjA2aWkClose"
   ]
  },
  {
   "cell_type": "markdown",
   "metadata": {},
   "source": [
    "Abbiamo adesso una serie temporale ordinata dei prezzi di chiusura settimanali nel periodo \"2010-01-02 / 2020-01-02\"\n",
    "\n",
    "Sfruttando la seguente procedura andiamo a creare una struttura simile, che semplicemente sposta in avanti di un frame (1 settimana) l'attuale raccolta dati. "
   ]
  },
  {
   "cell_type": "code",
   "execution_count": null,
   "metadata": {},
   "outputs": [],
   "source": [
    "a2aClosePrice_t1 = adjA2aWkClose\n",
    "a2aClosePrice_tm1 = a2aClosePrice_t1.shift(periods=1, freq = \"1w\")"
   ]
  },
  {
   "cell_type": "code",
   "execution_count": null,
   "metadata": {},
   "outputs": [],
   "source": [
    "a2aClosePrice_tm1"
   ]
  },
  {
   "cell_type": "markdown",
   "metadata": {},
   "source": [
    "operazione) possiamo applicare la seguente formula per calcolare il _tasso di rendimento logaritmico settimanale_ (assumendo un regime di capitalizzazione esponenziale): \n",
    "\n",
    "log(P_t+1/P_t) = log(P_t+1) - log(P_t) ) r_t,t+1 "
   ]
  },
  {
   "cell_type": "code",
   "execution_count": null,
   "metadata": {},
   "outputs": [],
   "source": [
    "a2aWkLogRet = np.log(a2aClosePrice_t1) - np.log(a2aClosePrice_tm1)\n",
    "a2aWkLogRet = a2aWkLogRet.dropna() "
   ]
  },
  {
   "cell_type": "code",
   "execution_count": null,
   "metadata": {},
   "outputs": [],
   "source": [
    "a2aWkLogRet"
   ]
  },
  {
   "cell_type": "markdown",
   "metadata": {},
   "source": [
    "Ovviamente un'osservazione, nel calcolo del rendimento, viene persa. "
   ]
  },
  {
   "cell_type": "code",
   "execution_count": null,
   "metadata": {},
   "outputs": [],
   "source": [
    "a2aWkLogRet.describe()"
   ]
  },
  {
   "cell_type": "markdown",
   "metadata": {},
   "source": [
    "Per quanto riguarda la media geometrica del rendimento settimanale: "
   ]
  },
  {
   "cell_type": "code",
   "execution_count": null,
   "metadata": {},
   "outputs": [],
   "source": [
    "avgWkRate = stats.gmean(a2aWkLogRet +1 ) -1\n",
    "print(avgWkRate)"
   ]
  },
  {
   "cell_type": "markdown",
   "metadata": {},
   "source": [
    "**Grafico delle oscillazioni di rendimento in confronto al rendimento medio settimanale nel periodo di osservazione**"
   ]
  },
  {
   "cell_type": "code",
   "execution_count": null,
   "metadata": {},
   "outputs": [],
   "source": [
    "avgWkRateSeries= pd.Series(data = [avgWkRate for i in range(a2aWkLogRet.size)],\n",
    "                                         index =a2aWkLogRet.index )\n",
    "\n",
    "plt.figure(figsize=(10,6))\n",
    "plt.plot(a2aWkLogRet,'b',lw=1.5, label ='WKLogRet')\n",
    "plt.plot(avgWkRateSeries, 'r', lw =1.5, label ='AverageRet')\n",
    "plt.legend (loc=0)\n",
    "plt.xlabel('Weeks')\n",
    "plt.ylabel('logRet')\n",
    "plt.title('Comparison between weekly log returns on Dax and their average')\n",
    "\n",
    "plt.show()"
   ]
  },
  {
   "cell_type": "code",
   "execution_count": null,
   "metadata": {},
   "outputs": [],
   "source": [
    "removeFile(filePath)"
   ]
  },
  {
   "cell_type": "markdown",
   "metadata": {},
   "source": [
    "**Utilizzo dati settimanali per FTSE MIB da Investing.com**"
   ]
  },
  {
   "cell_type": "markdown",
   "metadata": {},
   "source": [
    "Adesso Ripetiamo lo stesso per i dati relativi alle quotazioni dell'indice FTSE MIB40 nello stesso range temporale:"
   ]
  },
  {
   "cell_type": "code",
   "execution_count": null,
   "metadata": {},
   "outputs": [],
   "source": [
    "filePath = \"./Dataset\"\n",
    "filePath = os.path.join(dataPath, \"Ftsemib  wk 10y dirty.csv\")"
   ]
  },
  {
   "cell_type": "code",
   "execution_count": null,
   "metadata": {},
   "outputs": [],
   "source": [
    "ftsemibWk = pd.read_csv(filePath, index_col=0)"
   ]
  },
  {
   "cell_type": "code",
   "execution_count": null,
   "metadata": {},
   "outputs": [],
   "source": [
    "del ftsemibWk[\"Vol.\"]"
   ]
  },
  {
   "cell_type": "code",
   "execution_count": null,
   "metadata": {},
   "outputs": [],
   "source": [
    "del ftsemibWk[\"Var. %\"]"
   ]
  },
  {
   "cell_type": "code",
   "execution_count": null,
   "metadata": {},
   "outputs": [],
   "source": [
    "adjFtseMibWkClose = modInvestingComplete(ftsemibWk).loc[\"2010-01-02\":\"2020-01-02\", \"Ultimo\"]"
   ]
  },
  {
   "cell_type": "code",
   "execution_count": null,
   "metadata": {},
   "outputs": [],
   "source": [
    "adjFtseMibWkClose"
   ]
  },
  {
   "cell_type": "markdown",
   "metadata": {},
   "source": [
    "Di stessa lunghezza rispetto al precedente dataset.\n",
    "Ripetiamo adesso i medesimi passaggi per arrivare alla serie di rendimenti logaritmici settimanali. "
   ]
  },
  {
   "cell_type": "code",
   "execution_count": null,
   "metadata": {},
   "outputs": [],
   "source": [
    "ftseWkClose_t = adjFtseMibWkClose\n",
    "ftseWkClose_tm1 = ftseWkClose_t.shift(periods = 1, freq = '1w')"
   ]
  },
  {
   "cell_type": "code",
   "execution_count": null,
   "metadata": {},
   "outputs": [],
   "source": [
    "ftseWkLogRet = np.log(ftseWkClose_t) -  np.log(ftseWkClose_tm1)\n",
    "ftseWkLogRet = ftseWkLogRet.dropna()"
   ]
  },
  {
   "cell_type": "code",
   "execution_count": null,
   "metadata": {},
   "outputs": [],
   "source": [
    "ftseWkLogRet"
   ]
  },
  {
   "cell_type": "markdown",
   "metadata": {},
   "source": [
    "## Regressione lineare con il metodo dei minimi quadrati (OLS). <a name=\"2.2\"></a>"
   ]
  },
  {
   "cell_type": "markdown",
   "metadata": {},
   "source": [
    "Adesso che disponiamo di una soddisfacente serie temporale in termini di rendimenti logaritmici rispettivamente per FTSE MIB40 e il titolo A2A (osservazioni che coincidono in termini di date di osservazione) possiamo disegnare un grafico a dispersione per vedere se esiste o meno una qualche correlazione. "
   ]
  },
  {
   "cell_type": "markdown",
   "metadata": {},
   "source": [
    "**Scatter plot (Grafico a dispersione)**"
   ]
  },
  {
   "cell_type": "code",
   "execution_count": null,
   "metadata": {},
   "outputs": [],
   "source": [
    "plt.figure(figsize=(10,6))\n",
    "plt.scatter(ftseWkLogRet, a2aWkLogRet, marker ='o' )\n",
    "plt.show()"
   ]
  },
  {
   "cell_type": "markdown",
   "metadata": {},
   "source": [
    "Rispettivamente abbiamo osservazioni del titolo A2A sull'asse Y mentre osservazioni dell'indice FTSEMIB sull'asse delle X. \n",
    "Sembra esistere una relazione positiva tra le due variabili."
   ]
  },
  {
   "cell_type": "markdown",
   "metadata": {},
   "source": [
    "Per avere più chiarezza è possibile performare una regressione lineare semprice con il metodo dei minimi quadrati (OLS) per individuare i parametri caratterizzanti rispettivamente l'intercetta ed il coefficiente angolare. **Non scenderò nei dettagli in quanto esulano dallo scopo**."
   ]
  },
  {
   "cell_type": "code",
   "execution_count": null,
   "metadata": {},
   "outputs": [],
   "source": [
    "from sklearn.linear_model import LinearRegression\n",
    "model = LinearRegression()"
   ]
  },
  {
   "cell_type": "code",
   "execution_count": null,
   "metadata": {},
   "outputs": [],
   "source": [
    "x = np.array(ftseWkLogRet).reshape((-1,1))\n",
    "y = np.array(a2aWkLogRet)"
   ]
  },
  {
   "cell_type": "code",
   "execution_count": null,
   "metadata": {},
   "outputs": [],
   "source": [
    "model.fit(x,y)"
   ]
  },
  {
   "cell_type": "code",
   "execution_count": null,
   "metadata": {},
   "outputs": [],
   "source": [
    "y_pred = model.predict(x)"
   ]
  },
  {
   "cell_type": "markdown",
   "metadata": {},
   "source": [
    "**Risultati**"
   ]
  },
  {
   "cell_type": "markdown",
   "metadata": {},
   "source": [
    "**1) Intercetta (termine noto)** "
   ]
  },
  {
   "cell_type": "code",
   "execution_count": null,
   "metadata": {},
   "outputs": [],
   "source": [
    "model.intercept_"
   ]
  },
  {
   "cell_type": "markdown",
   "metadata": {},
   "source": [
    "**2) Coefficiente angolare (Beta di un CAPM)**"
   ]
  },
  {
   "cell_type": "code",
   "execution_count": null,
   "metadata": {},
   "outputs": [],
   "source": [
    "model.coef_[0]"
   ]
  },
  {
   "cell_type": "markdown",
   "metadata": {},
   "source": [
    "**3) Rappresentazione grafica della retta di regressione** "
   ]
  },
  {
   "cell_type": "code",
   "execution_count": null,
   "metadata": {},
   "outputs": [],
   "source": [
    "plt.figure(figsize=(10,6))\n",
    "plt.scatter(ftseWkLogRet, a2aWkLogRet, marker ='o' )\n",
    "plt.plot(x,y_pred, 'r', lw= 2)\n",
    "\n",
    "plt.show()"
   ]
  },
  {
   "cell_type": "markdown",
   "metadata": {},
   "source": [
    "---"
   ]
  },
  {
   "cell_type": "markdown",
   "metadata": {},
   "source": [
    "# 3) Applicazione N°2: esempio di simulazione Monte Carlo e applicazione del teorema del limite centrale. "
   ]
  },
  {
   "cell_type": "markdown",
   "metadata": {},
   "source": [
    "**[NOTA]** Questo contenuto non è ancora stato sviluppato nel dettaglio."
   ]
  },
  {
   "cell_type": "markdown",
   "metadata": {},
   "source": [
    "Import preliminare: "
   ]
  },
  {
   "cell_type": "code",
   "execution_count": null,
   "metadata": {},
   "outputs": [],
   "source": [
    "import random \n",
    "import matplotlib.pyplot as plt"
   ]
  },
  {
   "cell_type": "markdown",
   "metadata": {},
   "source": [
    "## 3.1) PRNG: Pseudo Random Number Generator <a name=\"3.1\"></a>"
   ]
  },
  {
   "cell_type": "code",
   "execution_count": null,
   "metadata": {},
   "outputs": [],
   "source": [
    "k = int(input(\"Number of iterations: \"))"
   ]
  },
  {
   "cell_type": "code",
   "execution_count": null,
   "metadata": {},
   "outputs": [],
   "source": [
    "lis_1 = []\n",
    "lis_2 = []\n",
    "\n",
    "lis_check = []"
   ]
  },
  {
   "cell_type": "code",
   "execution_count": null,
   "metadata": {},
   "outputs": [],
   "source": [
    "random.seed(1)\n",
    "\n",
    "for _ in range(k): \n",
    "    \n",
    "    lis_1.append(random.randint(0,5))\n"
   ]
  },
  {
   "cell_type": "code",
   "execution_count": null,
   "metadata": {},
   "outputs": [],
   "source": [
    "random.seed(2)\n",
    "\n",
    "for _ in range(k): \n",
    "    \n",
    "    lis_2.append(random.randint(0,5))"
   ]
  },
  {
   "cell_type": "code",
   "execution_count": null,
   "metadata": {},
   "outputs": [],
   "source": [
    "#Check per PRNG: \n",
    "\n",
    "random.seed(1)\n",
    "for _ in range(k): \n",
    "    \n",
    "    lis_check.append(random.randint(0,5))"
   ]
  },
  {
   "cell_type": "code",
   "execution_count": null,
   "metadata": {},
   "outputs": [],
   "source": [
    "print(lis_1[:5])\n",
    "print(lis_2[:5])\n",
    "print(lis_check[:5])"
   ]
  },
  {
   "cell_type": "code",
   "execution_count": null,
   "metadata": {},
   "outputs": [],
   "source": [
    "plt.hist(lis_1,6,range = [-0.5,5.5]) #6 = numero di bins, #range =... il range di riferimento del mio istogramma\n",
    "\n",
    "plt.show()"
   ]
  },
  {
   "cell_type": "markdown",
   "metadata": {},
   "source": [
    "## 3.2) Applicazione di una Simulazione Montecarlo: lanciare in successione due monete ed ottenere sempre testa. <a name =\"3.2\"></a>"
   ]
  },
  {
   "cell_type": "markdown",
   "metadata": {},
   "source": [
    "Secondo l'approccio frequentista, in cui la probabilità di un evento è data dal rapporto _eventi favorevoli / eventi totali_ possiamo facilmente intuire che la probabilità di ottenere testa o croce sarà rispettivamente data da: \n",
    "\n",
    "$\\frac{Testa}{(Testa,Croce)}$ $=$ $\\frac{1}{2}$ \n",
    "\n",
    "Conseguentemente, se decidiamo di voler calcolare la probabilità di ottenere per due volte di seguito testa da due lanci (indipendenti), avremo che: \n",
    "\n",
    "$P_{testax2}$ $=$ $\\frac{1}{2}$ $.$ $\\frac{1}{2}$ $=$ $\\frac{1}{4}$ = $0.25$ = $25$%"
   ]
  },
  {
   "cell_type": "markdown",
   "metadata": {},
   "source": [
    "Proviamo adesso ad implementare una simulazione, verificando attraverso una serie di tentativi (sempre più crescente) la convergenza dei nostri successi a questo livello teorico."
   ]
  },
  {
   "cell_type": "code",
   "execution_count": null,
   "metadata": {},
   "outputs": [],
   "source": [
    "from random import randint, seed "
   ]
  },
  {
   "cell_type": "markdown",
   "metadata": {},
   "source": [
    "- **1)** Definizione del dominio di possibili eventi:"
   ]
  },
  {
   "cell_type": "code",
   "execution_count": null,
   "metadata": {},
   "outputs": [],
   "source": [
    "seed(1)\n",
    "\n",
    "eventi = [\"Testa\",\"Croce\"]\n",
    "\n",
    "eventi"
   ]
  },
  {
   "cell_type": "markdown",
   "metadata": {},
   "source": [
    "- **2)** Generazione di input randomicamente da una distribuzione di probabilità (uniforme) sul dominio di eventi definito:"
   ]
  },
  {
   "cell_type": "code",
   "execution_count": null,
   "metadata": {},
   "outputs": [],
   "source": [
    "tentativi = 10\n",
    "successi = 0 #Pre-allocazione della serie di successi che otterremo\n",
    "\n",
    "for _ in range(tentativi): \n",
    "    \n",
    "    combo = []\n",
    "    \n",
    "    lancio_1 = eventi[random.randint(0,1)]\n",
    "    combo.append(lancio_1)\n",
    "    \n",
    "    lancio_2 = eventi[random.randint(0,1)]\n",
    "    combo.append(lancio_2)\n",
    "\n",
    "    \n",
    "    \n",
    "    \n",
    "    #print(combo)\n",
    "\n",
    "    \n",
    "#Verifica del numero di successi inerenti all'evento composto cui siamo interessati \n",
    "\n",
    "    if combo == [\"Testa\",\"Testa\"]: \n",
    "        \n",
    "        successi +=1 \n",
    "        \n",
    "print(successi)\n",
    "        "
   ]
  },
  {
   "cell_type": "markdown",
   "metadata": {},
   "source": [
    "- **3)** Aggregazione dei risultati ottenuti: "
   ]
  },
  {
   "cell_type": "code",
   "execution_count": null,
   "metadata": {},
   "outputs": [],
   "source": [
    "print(\"La probabilità di ottenere due volte testa è {:.2f}\".format(successi/tentativi))"
   ]
  },
  {
   "cell_type": "markdown",
   "metadata": {},
   "source": [
    "Chiaramente, per un piccolo numero di tentativi è evidente l'assenza di convergenza a livello teorico. \n",
    "\n",
    "Basandoci su un approccio frequentista, il nostro risultato potrà avere un riscontro coerente con l'aspettativa teorica solo in seguito ad un grande numero di simulazioni (iterazioni). \n",
    "\n",
    "Mettendo insieme quanto prima rappresentato, creiamo una funzione di utilità: "
   ]
  },
  {
   "cell_type": "code",
   "execution_count": null,
   "metadata": {},
   "outputs": [],
   "source": [
    "def lancio_moneta(lanci = 2, tentativi = 10, richiesta = None):\n",
    "    \n",
    "    \n",
    "    eventi = [\"Testa\", \"Croce\"]\n",
    "    \n",
    "    successi_testa = 0 \n",
    "    successi_croce = 0\n",
    "    \n",
    "    insuccesso = 0 \n",
    "    \n",
    "    for _ in range(tentativi): \n",
    "        \n",
    "        combo = []\n",
    "        \n",
    "        for toss in range(lanci): \n",
    "            \n",
    "            lancio = eventi[randint(0,1)]\n",
    "            combo.append(lancio)\n",
    "        \n",
    "        if combo == [\"Testa\", \"Testa\"]: \n",
    "            \n",
    "            successi_testa +=1 \n",
    "        \n",
    "        elif combo == [\"Croce\", \"Croce\"]: \n",
    "            \n",
    "            successi_croce +=1 \n",
    "            \n",
    "        else: \n",
    "            insuccesso = 0 \n",
    "            \n",
    "        \n",
    "    probabilità_serie_testa = successi_testa/tentativi\n",
    "    probabilità_serie_croce = successi_croce/tentativi\n",
    "    probabilità_no_serie = insuccesso/tentativi \n",
    "    \n",
    "    if richiesta == \"T\": \n",
    "        \n",
    "        return probabilità_serie_testa\n",
    "    \n",
    "    elif richiesta ==\"C\": \n",
    "        \n",
    "        return probabilità_serie_croce\n",
    "\n",
    "    else: \n",
    "        return probabilità_no_serie \n",
    "    "
   ]
  },
  {
   "cell_type": "code",
   "execution_count": null,
   "metadata": {},
   "outputs": [],
   "source": [
    "prob_serie_testa = lancio_moneta(2,10,\"T\")\n",
    "prob_serie_testa "
   ]
  },
  {
   "cell_type": "markdown",
   "metadata": {},
   "source": [
    "### 3.2.1) Convergenza da un punto di vista grafico <a name=\"3.2.1\"></a>"
   ]
  },
  {
   "cell_type": "markdown",
   "metadata": {},
   "source": [
    "Sull'asse delle ascisse del nostro grafico cartesiano abbiamo il numero di simulazioni $N$, mentre come variabile dipendente la probabilità di successo $P(N)$. "
   ]
  },
  {
   "cell_type": "code",
   "execution_count": null,
   "metadata": {},
   "outputs": [],
   "source": [
    "lista_tentativi=  [i for i in range(1000,100000+1000,1000)]\n",
    "\n",
    "#print(lista_tentativi)\n",
    "\n",
    "\n",
    "lista_probabilità = []\n",
    "\n",
    "for tentativi in lista_tentativi: \n",
    "    \n",
    "    lista_probabilità.append(lancio_moneta(tentativi = tentativi, richiesta = \"T\"))\n",
    "    \n",
    "#print(lista_probabilità)"
   ]
  },
  {
   "cell_type": "code",
   "execution_count": null,
   "metadata": {},
   "outputs": [],
   "source": [
    "print(lista_probabilità[0:5]) #Primi 5 valori della lista, partendo da 1000 tentativi a 5000"
   ]
  },
  {
   "cell_type": "code",
   "execution_count": null,
   "metadata": {},
   "outputs": [],
   "source": [
    "print(lista_probabilità[-5:]) #Ultimi 5 valori della lista"
   ]
  },
  {
   "cell_type": "code",
   "execution_count": null,
   "metadata": {},
   "outputs": [],
   "source": [
    "x = lista_tentativi\n",
    "y = lista_probabilità \n",
    "\n",
    "\n",
    "fig = plt.figure(figsize = (8,5))\n",
    "\n",
    "plt.plot(x,y, marker = \"+\", color = \"green\", label = \"Linea di convergenza\")\n",
    "plt.title(\"Sviluppo della convergenza all'aumentare delle simulazioni dell'esperimento: 2 volte testa\")\n",
    "plt.xlabel(\"Numero simulazioni\")\n",
    "plt.ylabel(\"Probabilità di ottenere due volte testa\")\n",
    "\n",
    "plt.hlines(0.25,0,100000,color = \"blue\", label =\"Probabilità teorica\") \n",
    "\n",
    "plt.legend()\n",
    "plt.show()"
   ]
  },
  {
   "cell_type": "markdown",
   "metadata": {},
   "source": [
    "## 3.3) Accuratezza di una Simulazione Montecarlo: Teorema del limite centrale <a name=\"3.3\"><a>"
   ]
  },
  {
   "cell_type": "markdown",
   "metadata": {},
   "source": [
    "Questo strumento è molto utilizzato in campo di analisi stocastica, basti però pensare che, per semplici applicazioni come quella rappresentata sopra può essere molto _time consuming_ : infatti, per ottenere un risultato facilmente dimostrabile a livello teorico è necessario utilizzare un elevato numero di simulazioni, fattispecie che richiede alla nostra macchina tempo."
   ]
  },
  {
   "cell_type": "markdown",
   "metadata": {},
   "source": [
    "Detto questo, tipicamente per poter testare l'accuratezza del nostro metodo facciamo ricorso ad un famoso teorema, molto utilizzato in campo statistico (inferenziale): il **teorema del limite centrale**. \n",
    "\n",
    "Senza scendere in troppi dettagli il famoso teorema enuncia che: la media di un grande numero di variabili aleatorie indipendenti e dotate della stessa distribuzione è approssimativamente normale, indipendentemente dalla distribuzione soggiacente. \n",
    "\n",
    "Nel nostro caso, la variabile di riferimento risulta essere rappresentata dal tentativo mentre il campione esattamente dal numero di simulazioni. \n",
    "\n",
    "Questo implica che la distribuzione di alcune statistiche, per esempio la media del campione, diventa nota anche se non sappiamo nulla a proposito della forma della distribuzione della popolazione da cui i campioni sono stati  estratti. \n",
    "\n",
    "Il termine grandezza del campione (numero simulazioni) è relativo, tanto sarà più grande tanto il risultato più accurato. \n",
    "\n",
    "Vediamo come la distribuzione, nel nostro caso del rapporto successi/tentativi al variare del numero di esperimenti (ogni esperimento prevederà di simulare N volte il doppio lancio di moneta) si comporta. \n",
    "\n",
    "Per ripetere esperimenti diversi utilizzeremo _seed_ diversi. "
   ]
  },
  {
   "cell_type": "code",
   "execution_count": null,
   "metadata": {},
   "outputs": [],
   "source": [
    "import numpy as np \n",
    "\n",
    "esperimento = 1000\n",
    "simulazioni = 1000\n",
    "\n",
    "prob_list = []\n",
    "\n",
    "for e in range(esperimento): \n",
    "    \n",
    "    seed(e)\n",
    "    \n",
    "    prob_list.append(lancio_moneta(tentativi = simulazioni, richiesta = \"T\"))\n",
    "\n",
    "\n",
    "print(\"La media di tutti i risultati degli esperimenti è: {}\".format(np.mean(prob_list)))    \n",
    "    \n",
    "plt.hist(prob_list,50, color = \"lightblue\", label = \"pdf\")\n",
    "\n",
    "plt.vlines(np.mean(prob_list),0,0.08*esperimento, color = \"red\",label = \"Mean\")\n",
    "\n",
    "plt.grid()\n",
    "plt.legend()\n",
    "plt.show()"
   ]
  },
  {
   "cell_type": "markdown",
   "metadata": {},
   "source": [
    "**- - - - - - - - - - - - - - - - - - - - - - - - - - - - - - - - - - - - - - - - - - - - - - - - - - - - - - - - - - - - - - - - - - - - - - - - - - - - - - - - - - - - - - - - - - - - - - - - - - - - - - - - - - - - - - - - - -** "
   ]
  },
  {
   "cell_type": "markdown",
   "metadata": {},
   "source": [
    "Il resto del contenuto verrà trattato nei successivi notebook. \n",
    "\n",
    "Al momento la produzione è la seguente: \n",
    "\n",
    "**1)** [Python Room](https://github.com/simonelucchesi/Python_room/blob/main/Notebooks/Python%20Room%20.ipynb) \n",
    "\n",
    "**2)** [Python Room 2](https://github.com/simonelucchesi/Python_room/blob/main/Notebooks/Python%20room%202%20.ipynb)\n",
    "\n",
    "**3)** Python Room 3 \n",
    "\n"
   ]
  }
 ],
 "metadata": {
  "kernelspec": {
   "display_name": "Python 3",
   "language": "python",
   "name": "python3"
  },
  "language_info": {
   "codemirror_mode": {
    "name": "ipython",
    "version": 3
   },
   "file_extension": ".py",
   "mimetype": "text/x-python",
   "name": "python",
   "nbconvert_exporter": "python",
   "pygments_lexer": "ipython3",
   "version": "3.7.4"
  }
 },
 "nbformat": 4,
 "nbformat_minor": 2
}
